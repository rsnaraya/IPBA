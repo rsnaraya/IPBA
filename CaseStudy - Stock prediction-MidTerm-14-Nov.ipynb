{
 "cells": [
  {
   "cell_type": "code",
   "execution_count": 1,
   "metadata": {},
   "outputs": [],
   "source": [
    "import pandas as pd\n",
    "import numpy as np\n",
    "import matplotlib.pyplot as plt\n",
    "import os\n",
    "import re"
   ]
  },
  {
   "cell_type": "code",
   "execution_count": 2,
   "metadata": {},
   "outputs": [
    {
     "data": {
      "text/plain": [
       "'C:\\\\Users\\\\IN0202'"
      ]
     },
     "execution_count": 2,
     "metadata": {},
     "output_type": "execute_result"
    }
   ],
   "source": [
    "os.getcwd()"
   ]
  },
  {
   "cell_type": "code",
   "execution_count": 3,
   "metadata": {},
   "outputs": [],
   "source": [
    "os.chdir(r\"D:\\Personal\\Analytics course\\IPBA\\Case Study\\hundred\")\n",
    "path=r\"D:\\Personal\\Analytics course\\IPBA\\Case Study\\hundred\""
   ]
  },
  {
   "cell_type": "code",
   "execution_count": 4,
   "metadata": {},
   "outputs": [
    {
     "data": {
      "text/plain": [
       "'D:\\\\Personal\\\\Analytics course\\\\IPBA\\\\Case Study\\\\hundred'"
      ]
     },
     "execution_count": 4,
     "metadata": {},
     "output_type": "execute_result"
    }
   ],
   "source": [
    "os.getcwd()"
   ]
  },
  {
   "cell_type": "code",
   "execution_count": 5,
   "metadata": {},
   "outputs": [
    {
     "name": "stdout",
     "output_type": "stream",
     "text": [
      "['Stock_ABBOTINDIA.xlsx', 'Stock_ACC.xlsx', 'Stock_ADANIPORTS.xlsx', 'Stock_ADANITRANS.xlsx', 'Stock_AMBUJACEM.xlsx', 'Stock_ASIANPAINT.xlsx', 'Stock_AUROPHARMA.xlsx', 'Stock_AXISBANK.xlsx', 'Stock_BAJAJ-AUTO.xlsx', 'Stock_BAJAJFINSV.xlsx', 'Stock_BAJAJHLDNG.xlsx', 'Stock_BAJFINANCE.xlsx', 'Stock_BANDHANBNK.xlsx', 'Stock_BANKBARODA.xlsx', 'Stock_BERGEPAINT.xlsx', 'Stock_BHARTIARTL.xlsx', 'Stock_BIOCON.xlsx', 'Stock_BOSCHLTD.xlsx', 'Stock_BPCL.xlsx', 'Stock_BRITANNIA.xlsx', 'Stock_CADILAHC.xlsx', 'Stock_CIPLA.xlsx', 'Stock_COALINDIA.xlsx', 'Stock_COLPAL.xlsx', 'Stock_CONCOR.xlsx', 'Stock_DABUR.xlsx', 'Stock_DIVISLAB.xlsx', 'Stock_DLF.xlsx', 'Stock_DMART.xlsx', 'Stock_DRREDDY.xlsx', 'Stock_EICHERMOT.xlsx', 'Stock_GAIL.xlsx', 'Stock_GICRE.xlsx', 'Stock_GODREJCP.xlsx', 'Stock_GRASIM.xlsx', 'Stock_HAVELLS.xlsx', 'Stock_HCLTECH.xlsx', 'Stock_HDFC.xlsx', 'Stock_HDFCAMC.xlsx', 'Stock_HDFCBANK.xlsx', 'Stock_HDFCLIFE.xlsx', 'Stock_HEROMOTOCO.xlsx', 'Stock_HINDALCO.xlsx', 'Stock_HINDPETRO.xlsx', 'Stock_HINDUNILVR.xlsx', 'Stock_HINDZINC.xlsx', 'Stock_ICICIBANK.xlsx', 'Stock_ICICIGI.xlsx', 'Stock_ICICIPRULI.xlsx', 'Stock_IGL.xlsx', 'Stock_INDIGO.xlsx', 'Stock_INDUSINDBK.xlsx', 'Stock_INFRATEL.xlsx', 'Stock_INFY.xlsx', 'Stock_IOC.xlsx', 'Stock_ITC.xlsx', 'Stock_JSWSTEEL.xlsx', 'Stock_KOTAKBANK.xlsx', 'Stock_LT.xlsx', 'Stock_LUPIN.xlsx', 'Stock_M&M.xlsx', 'Stock_MARICO.xlsx', 'Stock_MARUTI.xlsx', 'Stock_MCDOWELL-N.xlsx', 'Stock_MOTHERSUMI.xlsx', 'Stock_MUTHOOTFIN.xlsx', 'Stock_NAUKRI.xlsx', 'Stock_NESTLEIND.xlsx', 'Stock_NHPC.xlsx', 'Stock_NMDC.xlsx', 'Stock_NTPC.xlsx', 'Stock_OFSS.xlsx', 'Stock_ONGC.xlsx', 'Stock_PAGEIND.xlsx', 'Stock_PEL.xlsx', 'Stock_PETRONET.xlsx', 'Stock_PFC.xlsx', 'Stock_PGHH.xlsx', 'Stock_PIDILITIND.xlsx', 'Stock_PNB.xlsx', 'Stock_POWERGRID.xlsx', 'Stock_RELIANCE.xlsx', 'Stock_SBICARD.xlsx', 'Stock_SBILIFE.xlsx', 'Stock_SBIN.xlsx', 'Stock_SHREECEM.xlsx', 'Stock_SIEMENS.xlsx', 'Stock_SRTRANSFIN.xlsx', 'Stock_SUNPHARMA.xlsx', 'Stock_TATAMOTORS.xlsx', 'Stock_TATASTEEL.xlsx', 'Stock_TCS.xlsx', 'Stock_TECHM.xlsx', 'Stock_TITAN.xlsx', 'Stock_TORNTPHARM.xlsx', 'Stock_UBL.xlsx', 'Stock_ULTRACEMCO.xlsx', 'Stock_UPL.xlsx', 'Stock_WIPRO.xlsx', 'Stock_ZEEL.xlsx']\n"
     ]
    }
   ],
   "source": [
    "from os import listdir\n",
    "filepaths = [f for f in listdir(path) if f.startswith('Stock')]\n",
    "print(filepaths)"
   ]
  },
  {
   "cell_type": "code",
   "execution_count": 6,
   "metadata": {},
   "outputs": [],
   "source": [
    "# Read the data from each excel and store all of them into raw_data\n",
    "daily_data= pd.concat(map(pd.read_excel, filepaths))"
   ]
  },
  {
   "cell_type": "code",
   "execution_count": 7,
   "metadata": {},
   "outputs": [
    {
     "data": {
      "text/html": [
       "<div>\n",
       "<style scoped>\n",
       "    .dataframe tbody tr th:only-of-type {\n",
       "        vertical-align: middle;\n",
       "    }\n",
       "\n",
       "    .dataframe tbody tr th {\n",
       "        vertical-align: top;\n",
       "    }\n",
       "\n",
       "    .dataframe thead th {\n",
       "        text-align: right;\n",
       "    }\n",
       "</style>\n",
       "<table border=\"1\" class=\"dataframe\">\n",
       "  <thead>\n",
       "    <tr style=\"text-align: right;\">\n",
       "      <th></th>\n",
       "      <th>Date</th>\n",
       "      <th>Symbol</th>\n",
       "      <th>Series</th>\n",
       "      <th>Prev Close</th>\n",
       "      <th>Open</th>\n",
       "      <th>High</th>\n",
       "      <th>Low</th>\n",
       "      <th>Last</th>\n",
       "      <th>Close</th>\n",
       "      <th>VWAP</th>\n",
       "      <th>Volume</th>\n",
       "      <th>Turnover</th>\n",
       "      <th>Trades</th>\n",
       "      <th>Deliverable Volume</th>\n",
       "      <th>%Deliverble</th>\n",
       "    </tr>\n",
       "  </thead>\n",
       "  <tbody>\n",
       "    <tr>\n",
       "      <th>2661</th>\n",
       "      <td>2020-09-18</td>\n",
       "      <td>ZEEL</td>\n",
       "      <td>EQ</td>\n",
       "      <td>221.10</td>\n",
       "      <td>223.40</td>\n",
       "      <td>226.65</td>\n",
       "      <td>219.20</td>\n",
       "      <td>219.75</td>\n",
       "      <td>220.30</td>\n",
       "      <td>223.08</td>\n",
       "      <td>24883313</td>\n",
       "      <td>5.551078e+14</td>\n",
       "      <td>132427.0</td>\n",
       "      <td>3851022</td>\n",
       "      <td>0.1548</td>\n",
       "    </tr>\n",
       "    <tr>\n",
       "      <th>2662</th>\n",
       "      <td>2020-09-21</td>\n",
       "      <td>ZEEL</td>\n",
       "      <td>EQ</td>\n",
       "      <td>220.30</td>\n",
       "      <td>221.75</td>\n",
       "      <td>224.80</td>\n",
       "      <td>204.35</td>\n",
       "      <td>210.50</td>\n",
       "      <td>210.70</td>\n",
       "      <td>215.91</td>\n",
       "      <td>29829634</td>\n",
       "      <td>6.440420e+14</td>\n",
       "      <td>206994.0</td>\n",
       "      <td>4525180</td>\n",
       "      <td>0.1517</td>\n",
       "    </tr>\n",
       "    <tr>\n",
       "      <th>2663</th>\n",
       "      <td>2020-09-22</td>\n",
       "      <td>ZEEL</td>\n",
       "      <td>EQ</td>\n",
       "      <td>210.70</td>\n",
       "      <td>212.35</td>\n",
       "      <td>212.35</td>\n",
       "      <td>193.35</td>\n",
       "      <td>196.70</td>\n",
       "      <td>197.10</td>\n",
       "      <td>200.46</td>\n",
       "      <td>54161525</td>\n",
       "      <td>1.085714e+15</td>\n",
       "      <td>261401.0</td>\n",
       "      <td>9690771</td>\n",
       "      <td>0.1789</td>\n",
       "    </tr>\n",
       "    <tr>\n",
       "      <th>2664</th>\n",
       "      <td>2020-09-23</td>\n",
       "      <td>ZEEL</td>\n",
       "      <td>EQ</td>\n",
       "      <td>197.10</td>\n",
       "      <td>200.10</td>\n",
       "      <td>203.05</td>\n",
       "      <td>177.40</td>\n",
       "      <td>190.70</td>\n",
       "      <td>191.80</td>\n",
       "      <td>189.96</td>\n",
       "      <td>65002964</td>\n",
       "      <td>1.234826e+15</td>\n",
       "      <td>348096.0</td>\n",
       "      <td>8663237</td>\n",
       "      <td>0.1333</td>\n",
       "    </tr>\n",
       "    <tr>\n",
       "      <th>2665</th>\n",
       "      <td>2020-09-24</td>\n",
       "      <td>ZEEL</td>\n",
       "      <td>EQ</td>\n",
       "      <td>191.80</td>\n",
       "      <td>185.00</td>\n",
       "      <td>195.80</td>\n",
       "      <td>182.85</td>\n",
       "      <td>193.50</td>\n",
       "      <td>190.35</td>\n",
       "      <td>190.14</td>\n",
       "      <td>76316695</td>\n",
       "      <td>1.451102e+15</td>\n",
       "      <td>279397.0</td>\n",
       "      <td>24361908</td>\n",
       "      <td>0.3192</td>\n",
       "    </tr>\n",
       "    <tr>\n",
       "      <th>2666</th>\n",
       "      <td>2020-09-25</td>\n",
       "      <td>ZEEL</td>\n",
       "      <td>EQ</td>\n",
       "      <td>190.35</td>\n",
       "      <td>197.55</td>\n",
       "      <td>201.50</td>\n",
       "      <td>183.20</td>\n",
       "      <td>197.30</td>\n",
       "      <td>198.20</td>\n",
       "      <td>192.54</td>\n",
       "      <td>61557172</td>\n",
       "      <td>1.185250e+15</td>\n",
       "      <td>301334.0</td>\n",
       "      <td>6573633</td>\n",
       "      <td>0.1068</td>\n",
       "    </tr>\n",
       "    <tr>\n",
       "      <th>2667</th>\n",
       "      <td>2020-09-28</td>\n",
       "      <td>ZEEL</td>\n",
       "      <td>EQ</td>\n",
       "      <td>198.20</td>\n",
       "      <td>198.75</td>\n",
       "      <td>209.75</td>\n",
       "      <td>197.20</td>\n",
       "      <td>207.60</td>\n",
       "      <td>208.75</td>\n",
       "      <td>205.11</td>\n",
       "      <td>34075363</td>\n",
       "      <td>6.989202e+14</td>\n",
       "      <td>171300.0</td>\n",
       "      <td>4578621</td>\n",
       "      <td>0.1344</td>\n",
       "    </tr>\n",
       "    <tr>\n",
       "      <th>2668</th>\n",
       "      <td>2020-09-29</td>\n",
       "      <td>ZEEL</td>\n",
       "      <td>EQ</td>\n",
       "      <td>208.75</td>\n",
       "      <td>210.00</td>\n",
       "      <td>214.60</td>\n",
       "      <td>204.30</td>\n",
       "      <td>208.55</td>\n",
       "      <td>207.80</td>\n",
       "      <td>209.57</td>\n",
       "      <td>45045743</td>\n",
       "      <td>9.440054e+14</td>\n",
       "      <td>197076.0</td>\n",
       "      <td>6072005</td>\n",
       "      <td>0.1348</td>\n",
       "    </tr>\n",
       "    <tr>\n",
       "      <th>2669</th>\n",
       "      <td>2020-09-30</td>\n",
       "      <td>ZEEL</td>\n",
       "      <td>EQ</td>\n",
       "      <td>207.80</td>\n",
       "      <td>209.00</td>\n",
       "      <td>213.00</td>\n",
       "      <td>206.15</td>\n",
       "      <td>210.00</td>\n",
       "      <td>208.90</td>\n",
       "      <td>209.94</td>\n",
       "      <td>31203625</td>\n",
       "      <td>6.550914e+14</td>\n",
       "      <td>134228.0</td>\n",
       "      <td>8507629</td>\n",
       "      <td>0.2726</td>\n",
       "    </tr>\n",
       "    <tr>\n",
       "      <th>2670</th>\n",
       "      <td>2020-10-01</td>\n",
       "      <td>ZEEL</td>\n",
       "      <td>EQ</td>\n",
       "      <td>208.90</td>\n",
       "      <td>211.00</td>\n",
       "      <td>215.00</td>\n",
       "      <td>210.50</td>\n",
       "      <td>214.70</td>\n",
       "      <td>214.00</td>\n",
       "      <td>213.33</td>\n",
       "      <td>19070023</td>\n",
       "      <td>4.068192e+14</td>\n",
       "      <td>95790.0</td>\n",
       "      <td>2804067</td>\n",
       "      <td>0.1470</td>\n",
       "    </tr>\n",
       "  </tbody>\n",
       "</table>\n",
       "</div>"
      ],
      "text/plain": [
       "           Date Symbol Series  Prev Close    Open    High     Low    Last  \\\n",
       "2661 2020-09-18   ZEEL     EQ      221.10  223.40  226.65  219.20  219.75   \n",
       "2662 2020-09-21   ZEEL     EQ      220.30  221.75  224.80  204.35  210.50   \n",
       "2663 2020-09-22   ZEEL     EQ      210.70  212.35  212.35  193.35  196.70   \n",
       "2664 2020-09-23   ZEEL     EQ      197.10  200.10  203.05  177.40  190.70   \n",
       "2665 2020-09-24   ZEEL     EQ      191.80  185.00  195.80  182.85  193.50   \n",
       "2666 2020-09-25   ZEEL     EQ      190.35  197.55  201.50  183.20  197.30   \n",
       "2667 2020-09-28   ZEEL     EQ      198.20  198.75  209.75  197.20  207.60   \n",
       "2668 2020-09-29   ZEEL     EQ      208.75  210.00  214.60  204.30  208.55   \n",
       "2669 2020-09-30   ZEEL     EQ      207.80  209.00  213.00  206.15  210.00   \n",
       "2670 2020-10-01   ZEEL     EQ      208.90  211.00  215.00  210.50  214.70   \n",
       "\n",
       "       Close    VWAP    Volume      Turnover    Trades  Deliverable Volume  \\\n",
       "2661  220.30  223.08  24883313  5.551078e+14  132427.0             3851022   \n",
       "2662  210.70  215.91  29829634  6.440420e+14  206994.0             4525180   \n",
       "2663  197.10  200.46  54161525  1.085714e+15  261401.0             9690771   \n",
       "2664  191.80  189.96  65002964  1.234826e+15  348096.0             8663237   \n",
       "2665  190.35  190.14  76316695  1.451102e+15  279397.0            24361908   \n",
       "2666  198.20  192.54  61557172  1.185250e+15  301334.0             6573633   \n",
       "2667  208.75  205.11  34075363  6.989202e+14  171300.0             4578621   \n",
       "2668  207.80  209.57  45045743  9.440054e+14  197076.0             6072005   \n",
       "2669  208.90  209.94  31203625  6.550914e+14  134228.0             8507629   \n",
       "2670  214.00  213.33  19070023  4.068192e+14   95790.0             2804067   \n",
       "\n",
       "      %Deliverble  \n",
       "2661       0.1548  \n",
       "2662       0.1517  \n",
       "2663       0.1789  \n",
       "2664       0.1333  \n",
       "2665       0.3192  \n",
       "2666       0.1068  \n",
       "2667       0.1344  \n",
       "2668       0.1348  \n",
       "2669       0.2726  \n",
       "2670       0.1470  "
      ]
     },
     "execution_count": 7,
     "metadata": {},
     "output_type": "execute_result"
    }
   ],
   "source": [
    "#daily_data.head(10)\n",
    "daily_data.tail(10)"
   ]
  },
  {
   "cell_type": "code",
   "execution_count": 8,
   "metadata": {},
   "outputs": [
    {
     "data": {
      "text/plain": [
       "(244901, 15)"
      ]
     },
     "execution_count": 8,
     "metadata": {},
     "output_type": "execute_result"
    }
   ],
   "source": [
    "daily_data.shape"
   ]
  },
  {
   "cell_type": "code",
   "execution_count": 9,
   "metadata": {},
   "outputs": [
    {
     "data": {
      "text/plain": [
       "Date                      0\n",
       "Symbol                    0\n",
       "Series                    0\n",
       "Prev Close                0\n",
       "Open                      0\n",
       "High                      0\n",
       "Low                       0\n",
       "Last                      0\n",
       "Close                     0\n",
       "VWAP                      0\n",
       "Volume                    0\n",
       "Turnover                  0\n",
       "Trades                30684\n",
       "Deliverable Volume        0\n",
       "%Deliverble               0\n",
       "dtype: int64"
      ]
     },
     "execution_count": 9,
     "metadata": {},
     "output_type": "execute_result"
    }
   ],
   "source": [
    "daily_data.isnull().sum()"
   ]
  },
  {
   "cell_type": "code",
   "execution_count": 10,
   "metadata": {},
   "outputs": [
    {
     "data": {
      "text/plain": [
       "106"
      ]
     },
     "execution_count": 10,
     "metadata": {},
     "output_type": "execute_result"
    }
   ],
   "source": [
    "# while doing OBV realized that Adaniport has Mundraport initially and then symbol changed to adaniport, \n",
    "# hence determined the Number of unique Symbol - to realize there are 6 such cases\n",
    "daily_data['Symbol'].nunique()\n",
    "#on further analysis of the concatenated files (using excel) - see that its for \\n\",\n",
    "# (a) MUNDRAPORT & ADANIPORTS,\n",
    "# (b) BAJAUTOFIN & BAJFINANCE,\n",
    "# (c) HEROHONDA & HEROMOTOCO,\n",
    "# (d) PIRHEALTH & PEL,\n",
    "# (e) UNIPHOS & UPL,\n",
    "# went ahead and manually changed in the excel and re-read the data"
   ]
  },
  {
   "cell_type": "code",
   "execution_count": 11,
   "metadata": {},
   "outputs": [],
   "source": [
    "# Delete and reload the data frame with corrected data\n",
    "del daily_data"
   ]
  },
  {
   "cell_type": "code",
   "execution_count": 12,
   "metadata": {},
   "outputs": [],
   "source": [
    "#reload the corrected SYbmbols\n",
    "os.chdir(r\"D:\\Personal\\Analytics course\\IPBA\\Case Study\\hundred_corrected\")\n",
    "path=r\"D:\\Personal\\Analytics course\\IPBA\\Case Study\\hundred_corrected\"\n",
    "\n",
    "# read the data from the files\n",
    "daily_data= pd.concat(map(pd.read_excel, filepaths))"
   ]
  },
  {
   "cell_type": "code",
   "execution_count": 13,
   "metadata": {},
   "outputs": [
    {
     "data": {
      "text/plain": [
       "100"
      ]
     },
     "execution_count": 13,
     "metadata": {},
     "output_type": "execute_result"
    }
   ],
   "source": [
    "# check now if the number of stocks match to 100\n",
    "daily_data['Symbol'].nunique()"
   ]
  },
  {
   "cell_type": "code",
   "execution_count": 14,
   "metadata": {},
   "outputs": [],
   "source": [
    "# to calculate the simple moving average - 5, 10 , 50, 100, 200 days\n",
    "daily_data['SMA-5'] = daily_data.groupby('Symbol')['Close'].transform(lambda x:x.rolling(window=5).mean())\n",
    "daily_data['SMA-10'] = daily_data.groupby('Symbol')['Close'].transform(lambda x:x.rolling(window=10).mean())\n",
    "daily_data['SMA-50'] = daily_data.groupby('Symbol')['Close'].transform(lambda x:x.rolling(window=50).mean())\n",
    "daily_data['SMA-100'] = daily_data.groupby('Symbol')['Close'].transform(lambda x:x.rolling(window=100).mean())\n",
    "daily_data['SMA-200'] = daily_data.groupby('Symbol')['Close'].transform(lambda x:x.rolling(window=200).mean())"
   ]
  },
  {
   "cell_type": "code",
   "execution_count": 15,
   "metadata": {},
   "outputs": [],
   "source": [
    "# to calculate the exponential moving average - 5, 10 , 50, 100, 200 days\n",
    "daily_data['EMA-5'] = daily_data.groupby('Symbol')['Close'].transform(lambda x:x.ewm(span=5).mean())\n",
    "daily_data['EMA-10'] = daily_data.groupby('Symbol')['Close'].transform(lambda x:x.ewm(span=10).mean())\n",
    "daily_data['EMA-50'] = daily_data.groupby('Symbol')['Close'].transform(lambda x:x.ewm(span=50).mean())\n",
    "daily_data['EMA-100'] = daily_data.groupby('Symbol')['Close'].transform(lambda x:x.ewm(span=100).mean())\n",
    "daily_data['EMA-200'] = daily_data.groupby('Symbol')['Close'].transform(lambda x:x.ewm(span=200).mean())"
   ]
  },
  {
   "cell_type": "code",
   "execution_count": 16,
   "metadata": {},
   "outputs": [],
   "source": [
    "# calculcate RSI - Relative strength index\n",
    "change = daily_data.groupby('Symbol')['Close'].transform(lambda x:x.diff())\n",
    "gain = change.mask(change < 0, 0)\n",
    "loss = change.mask (change > 0, 0)\n",
    "average_gain= gain.rolling(window = 14).mean().shift()\n",
    "average_loss= loss.rolling(window = 14).mean().shift()\n",
    "relativestrength = abs(average_gain / average_loss)\n",
    "rsi = 100 - (100/(1+relativestrength))\n",
    "daily_data['rsi'] = rsi.shift(-1) # move up since the current column is already on next row due to rolling function"
   ]
  },
  {
   "cell_type": "code",
   "execution_count": 17,
   "metadata": {},
   "outputs": [],
   "source": [
    "# calculate MACD\n",
    "# MACD = 26-day EMA - 12-day EMA\n",
    "daily_data['ema12'] = daily_data.groupby('Symbol')['Close'].transform(lambda x:x.ewm(span=12).mean())\n",
    "daily_data['ema26'] = daily_data.groupby('Symbol')['Close'].transform(lambda x:x.ewm(span=26).mean())\n",
    "daily_data['macd'] = daily_data['ema12'] - daily_data['ema26']\n",
    "## for cross over - calculate macd9\n",
    "daily_data['macd9'] = daily_data.groupby('Symbol')['macd'].transform(lambda x:x.ewm(span=9).mean())"
   ]
  },
  {
   "cell_type": "code",
   "execution_count": 18,
   "metadata": {},
   "outputs": [],
   "source": [
    "# calculate bollinger band\n",
    "daily_data['SMA-20'] = daily_data.groupby('Symbol')['Close'].transform(lambda x:x.rolling(window=20).mean())\n",
    "daily_data['stddev-20'] = daily_data.groupby('Symbol')['Close'].transform(lambda x:x.rolling(window=20).std())\n",
    "daily_data['Bollinger-UpperBand'] = daily_data['SMA-20'] + 2*daily_data['stddev-20']\n",
    "daily_data['Bollinger-LowerBand'] = daily_data['SMA-20'] - 2*daily_data['stddev-20']"
   ]
  },
  {
   "cell_type": "code",
   "execution_count": 19,
   "metadata": {},
   "outputs": [],
   "source": [
    "# Calculate the OBV - based on price change, denote whether the volume needs to be added or subtracted in a new column - store it as  list in OBV\n",
    "df1_grouped = daily_data.groupby('Symbol')\n",
    "OBV = [0]\n",
    "for group_keys, df_group in df1_grouped:\n",
    "    i = 0\n",
    "    for row_index, row in df_group.iterrows():\n",
    "        if i <= df_group.index[-1] :\n",
    "            if i == 0 :\n",
    "                OBV.append(df_group.loc[row_index, 'Volume'])\n",
    "            else :\n",
    "                if df_group.loc[row_index, 'Close'] > df_group.loc[row_index - 1, 'Close'] :\n",
    "                    OBV.append(df_group.loc[row_index, 'Volume'])\n",
    "                if df_group.loc[row_index, 'Close'] == df_group.loc[row_index - 1, 'Close'] :\n",
    "                    OBV.append(0)\n",
    "                if df_group.loc[row_index, 'Close'] < df_group.loc[row_index - 1, 'Close'] :\n",
    "                    OBV.append(-df_group.loc[row_index, 'Volume'])\n",
    "        i = i + 1"
   ]
  },
  {
   "cell_type": "code",
   "execution_count": 20,
   "metadata": {},
   "outputs": [
    {
     "data": {
      "text/html": [
       "<div>\n",
       "<style scoped>\n",
       "    .dataframe tbody tr th:only-of-type {\n",
       "        vertical-align: middle;\n",
       "    }\n",
       "\n",
       "    .dataframe tbody tr th {\n",
       "        vertical-align: top;\n",
       "    }\n",
       "\n",
       "    .dataframe thead th {\n",
       "        text-align: right;\n",
       "    }\n",
       "</style>\n",
       "<table border=\"1\" class=\"dataframe\">\n",
       "  <thead>\n",
       "    <tr style=\"text-align: right;\">\n",
       "      <th></th>\n",
       "      <th>OBV</th>\n",
       "    </tr>\n",
       "  </thead>\n",
       "  <tbody>\n",
       "    <tr>\n",
       "      <th>0</th>\n",
       "      <td>0</td>\n",
       "    </tr>\n",
       "    <tr>\n",
       "      <th>1</th>\n",
       "      <td>51</td>\n",
       "    </tr>\n",
       "    <tr>\n",
       "      <th>2</th>\n",
       "      <td>-897</td>\n",
       "    </tr>\n",
       "    <tr>\n",
       "      <th>3</th>\n",
       "      <td>-426</td>\n",
       "    </tr>\n",
       "    <tr>\n",
       "      <th>4</th>\n",
       "      <td>-359</td>\n",
       "    </tr>\n",
       "    <tr>\n",
       "      <th>...</th>\n",
       "      <td>...</td>\n",
       "    </tr>\n",
       "    <tr>\n",
       "      <th>244897</th>\n",
       "      <td>61557172</td>\n",
       "    </tr>\n",
       "    <tr>\n",
       "      <th>244898</th>\n",
       "      <td>34075363</td>\n",
       "    </tr>\n",
       "    <tr>\n",
       "      <th>244899</th>\n",
       "      <td>-45045743</td>\n",
       "    </tr>\n",
       "    <tr>\n",
       "      <th>244900</th>\n",
       "      <td>31203625</td>\n",
       "    </tr>\n",
       "    <tr>\n",
       "      <th>244901</th>\n",
       "      <td>19070023</td>\n",
       "    </tr>\n",
       "  </tbody>\n",
       "</table>\n",
       "<p>244902 rows × 1 columns</p>\n",
       "</div>"
      ],
      "text/plain": [
       "             OBV\n",
       "0              0\n",
       "1             51\n",
       "2           -897\n",
       "3           -426\n",
       "4           -359\n",
       "...          ...\n",
       "244897  61557172\n",
       "244898  34075363\n",
       "244899 -45045743\n",
       "244900  31203625\n",
       "244901  19070023\n",
       "\n",
       "[244902 rows x 1 columns]"
      ]
     },
     "execution_count": 20,
     "metadata": {},
     "output_type": "execute_result"
    }
   ],
   "source": [
    "# convert the series to dataframe with column as OBV\n",
    "dataframe_OBV = pd.DataFrame(OBV,columns=['OBV'])\n",
    "dataframe_OBV"
   ]
  },
  {
   "cell_type": "code",
   "execution_count": 21,
   "metadata": {},
   "outputs": [
    {
     "data": {
      "text/html": [
       "<div>\n",
       "<style scoped>\n",
       "    .dataframe tbody tr th:only-of-type {\n",
       "        vertical-align: middle;\n",
       "    }\n",
       "\n",
       "    .dataframe tbody tr th {\n",
       "        vertical-align: top;\n",
       "    }\n",
       "\n",
       "    .dataframe thead th {\n",
       "        text-align: right;\n",
       "    }\n",
       "</style>\n",
       "<table border=\"1\" class=\"dataframe\">\n",
       "  <thead>\n",
       "    <tr style=\"text-align: right;\">\n",
       "      <th></th>\n",
       "      <th>OBV</th>\n",
       "    </tr>\n",
       "  </thead>\n",
       "  <tbody>\n",
       "    <tr>\n",
       "      <th>244897</th>\n",
       "      <td>61557172</td>\n",
       "    </tr>\n",
       "    <tr>\n",
       "      <th>244898</th>\n",
       "      <td>34075363</td>\n",
       "    </tr>\n",
       "    <tr>\n",
       "      <th>244899</th>\n",
       "      <td>-45045743</td>\n",
       "    </tr>\n",
       "    <tr>\n",
       "      <th>244900</th>\n",
       "      <td>31203625</td>\n",
       "    </tr>\n",
       "    <tr>\n",
       "      <th>244901</th>\n",
       "      <td>19070023</td>\n",
       "    </tr>\n",
       "  </tbody>\n",
       "</table>\n",
       "</div>"
      ],
      "text/plain": [
       "             OBV\n",
       "244897  61557172\n",
       "244898  34075363\n",
       "244899 -45045743\n",
       "244900  31203625\n",
       "244901  19070023"
      ]
     },
     "execution_count": 21,
     "metadata": {},
     "output_type": "execute_result"
    }
   ],
   "source": [
    "# remove the first row since the append was started with OBV[0] - this way this would align to the length of the original dataframe\n",
    "dataframe_OBV_corrected = dataframe_OBV[1:]\n",
    "dataframe_OBV_corrected.tail()"
   ]
  },
  {
   "cell_type": "code",
   "execution_count": 22,
   "metadata": {},
   "outputs": [],
   "source": [
    "# add the non-cumulative OBV value to the existing daily_data dataframe\n",
    "daily_data['OBV Non-Cum'] = dataframe_OBV_corrected['OBV'].values"
   ]
  },
  {
   "cell_type": "code",
   "execution_count": 23,
   "metadata": {},
   "outputs": [
    {
     "data": {
      "text/html": [
       "<div>\n",
       "<style scoped>\n",
       "    .dataframe tbody tr th:only-of-type {\n",
       "        vertical-align: middle;\n",
       "    }\n",
       "\n",
       "    .dataframe tbody tr th {\n",
       "        vertical-align: top;\n",
       "    }\n",
       "\n",
       "    .dataframe thead th {\n",
       "        text-align: right;\n",
       "    }\n",
       "</style>\n",
       "<table border=\"1\" class=\"dataframe\">\n",
       "  <thead>\n",
       "    <tr style=\"text-align: right;\">\n",
       "      <th></th>\n",
       "      <th>Date</th>\n",
       "      <th>Symbol</th>\n",
       "      <th>Series</th>\n",
       "      <th>Prev Close</th>\n",
       "      <th>Open</th>\n",
       "      <th>High</th>\n",
       "      <th>Low</th>\n",
       "      <th>Last</th>\n",
       "      <th>Close</th>\n",
       "      <th>VWAP</th>\n",
       "      <th>...</th>\n",
       "      <th>rsi</th>\n",
       "      <th>ema12</th>\n",
       "      <th>ema26</th>\n",
       "      <th>macd</th>\n",
       "      <th>macd9</th>\n",
       "      <th>SMA-20</th>\n",
       "      <th>stddev-20</th>\n",
       "      <th>Bollinger-UpperBand</th>\n",
       "      <th>Bollinger-LowerBand</th>\n",
       "      <th>OBV Non-Cum</th>\n",
       "    </tr>\n",
       "  </thead>\n",
       "  <tbody>\n",
       "    <tr>\n",
       "      <th>0</th>\n",
       "      <td>2010-01-08</td>\n",
       "      <td>ABBOTINDIA</td>\n",
       "      <td>EQ</td>\n",
       "      <td>783.75</td>\n",
       "      <td>755.00</td>\n",
       "      <td>807.0</td>\n",
       "      <td>755.00</td>\n",
       "      <td>807.00</td>\n",
       "      <td>807.00</td>\n",
       "      <td>784.12</td>\n",
       "      <td>...</td>\n",
       "      <td>NaN</td>\n",
       "      <td>807.000000</td>\n",
       "      <td>807.000000</td>\n",
       "      <td>0.000000</td>\n",
       "      <td>0.000000</td>\n",
       "      <td>NaN</td>\n",
       "      <td>NaN</td>\n",
       "      <td>NaN</td>\n",
       "      <td>NaN</td>\n",
       "      <td>51</td>\n",
       "    </tr>\n",
       "    <tr>\n",
       "      <th>1</th>\n",
       "      <td>2010-01-11</td>\n",
       "      <td>ABBOTINDIA</td>\n",
       "      <td>EQ</td>\n",
       "      <td>807.00</td>\n",
       "      <td>825.00</td>\n",
       "      <td>825.0</td>\n",
       "      <td>790.00</td>\n",
       "      <td>804.80</td>\n",
       "      <td>804.80</td>\n",
       "      <td>793.90</td>\n",
       "      <td>...</td>\n",
       "      <td>NaN</td>\n",
       "      <td>805.808333</td>\n",
       "      <td>805.857692</td>\n",
       "      <td>-0.049359</td>\n",
       "      <td>-0.027422</td>\n",
       "      <td>NaN</td>\n",
       "      <td>NaN</td>\n",
       "      <td>NaN</td>\n",
       "      <td>NaN</td>\n",
       "      <td>-897</td>\n",
       "    </tr>\n",
       "    <tr>\n",
       "      <th>2</th>\n",
       "      <td>2010-01-12</td>\n",
       "      <td>ABBOTINDIA</td>\n",
       "      <td>EQ</td>\n",
       "      <td>804.80</td>\n",
       "      <td>800.00</td>\n",
       "      <td>805.0</td>\n",
       "      <td>790.00</td>\n",
       "      <td>790.00</td>\n",
       "      <td>790.00</td>\n",
       "      <td>799.36</td>\n",
       "      <td>...</td>\n",
       "      <td>NaN</td>\n",
       "      <td>799.638337</td>\n",
       "      <td>800.160177</td>\n",
       "      <td>-0.521840</td>\n",
       "      <td>-0.230052</td>\n",
       "      <td>NaN</td>\n",
       "      <td>NaN</td>\n",
       "      <td>NaN</td>\n",
       "      <td>NaN</td>\n",
       "      <td>-426</td>\n",
       "    </tr>\n",
       "    <tr>\n",
       "      <th>3</th>\n",
       "      <td>2010-01-13</td>\n",
       "      <td>ABBOTINDIA</td>\n",
       "      <td>EQ</td>\n",
       "      <td>790.00</td>\n",
       "      <td>787.00</td>\n",
       "      <td>787.0</td>\n",
       "      <td>720.00</td>\n",
       "      <td>767.00</td>\n",
       "      <td>767.00</td>\n",
       "      <td>758.53</td>\n",
       "      <td>...</td>\n",
       "      <td>NaN</td>\n",
       "      <td>789.335690</td>\n",
       "      <td>790.890041</td>\n",
       "      <td>-1.554351</td>\n",
       "      <td>-0.678663</td>\n",
       "      <td>NaN</td>\n",
       "      <td>NaN</td>\n",
       "      <td>NaN</td>\n",
       "      <td>NaN</td>\n",
       "      <td>-359</td>\n",
       "    </tr>\n",
       "    <tr>\n",
       "      <th>4</th>\n",
       "      <td>2010-01-14</td>\n",
       "      <td>ABBOTINDIA</td>\n",
       "      <td>EQ</td>\n",
       "      <td>767.00</td>\n",
       "      <td>769.00</td>\n",
       "      <td>798.0</td>\n",
       "      <td>769.00</td>\n",
       "      <td>785.10</td>\n",
       "      <td>785.10</td>\n",
       "      <td>791.73</td>\n",
       "      <td>...</td>\n",
       "      <td>NaN</td>\n",
       "      <td>788.184868</td>\n",
       "      <td>789.547307</td>\n",
       "      <td>-1.362439</td>\n",
       "      <td>-0.882071</td>\n",
       "      <td>NaN</td>\n",
       "      <td>NaN</td>\n",
       "      <td>NaN</td>\n",
       "      <td>NaN</td>\n",
       "      <td>317</td>\n",
       "    </tr>\n",
       "    <tr>\n",
       "      <th>...</th>\n",
       "      <td>...</td>\n",
       "      <td>...</td>\n",
       "      <td>...</td>\n",
       "      <td>...</td>\n",
       "      <td>...</td>\n",
       "      <td>...</td>\n",
       "      <td>...</td>\n",
       "      <td>...</td>\n",
       "      <td>...</td>\n",
       "      <td>...</td>\n",
       "      <td>...</td>\n",
       "      <td>...</td>\n",
       "      <td>...</td>\n",
       "      <td>...</td>\n",
       "      <td>...</td>\n",
       "      <td>...</td>\n",
       "      <td>...</td>\n",
       "      <td>...</td>\n",
       "      <td>...</td>\n",
       "      <td>...</td>\n",
       "      <td>...</td>\n",
       "    </tr>\n",
       "    <tr>\n",
       "      <th>2665</th>\n",
       "      <td>2020-09-30</td>\n",
       "      <td>ABBOTINDIA</td>\n",
       "      <td>EQ</td>\n",
       "      <td>16402.00</td>\n",
       "      <td>16365.00</td>\n",
       "      <td>16500.0</td>\n",
       "      <td>16235.35</td>\n",
       "      <td>16498.00</td>\n",
       "      <td>16486.95</td>\n",
       "      <td>16444.31</td>\n",
       "      <td>...</td>\n",
       "      <td>49.279947</td>\n",
       "      <td>16328.398617</td>\n",
       "      <td>16376.119591</td>\n",
       "      <td>-47.720974</td>\n",
       "      <td>-39.347659</td>\n",
       "      <td>16415.2975</td>\n",
       "      <td>282.364335</td>\n",
       "      <td>16980.026169</td>\n",
       "      <td>15850.568831</td>\n",
       "      <td>6371</td>\n",
       "    </tr>\n",
       "    <tr>\n",
       "      <th>2666</th>\n",
       "      <td>2020-10-01</td>\n",
       "      <td>ABBOTINDIA</td>\n",
       "      <td>EQ</td>\n",
       "      <td>16486.95</td>\n",
       "      <td>16470.00</td>\n",
       "      <td>16595.0</td>\n",
       "      <td>16325.00</td>\n",
       "      <td>16395.05</td>\n",
       "      <td>16384.90</td>\n",
       "      <td>16420.26</td>\n",
       "      <td>...</td>\n",
       "      <td>41.407347</td>\n",
       "      <td>16337.091138</td>\n",
       "      <td>16376.769992</td>\n",
       "      <td>-39.678854</td>\n",
       "      <td>-39.413898</td>\n",
       "      <td>16412.3175</td>\n",
       "      <td>282.354420</td>\n",
       "      <td>16977.026339</td>\n",
       "      <td>15847.608661</td>\n",
       "      <td>-6133</td>\n",
       "    </tr>\n",
       "    <tr>\n",
       "      <th>0</th>\n",
       "      <td>2010-01-04</td>\n",
       "      <td>ACC</td>\n",
       "      <td>EQ</td>\n",
       "      <td>872.45</td>\n",
       "      <td>870.00</td>\n",
       "      <td>920.0</td>\n",
       "      <td>870.00</td>\n",
       "      <td>919.10</td>\n",
       "      <td>913.60</td>\n",
       "      <td>898.90</td>\n",
       "      <td>...</td>\n",
       "      <td>NaN</td>\n",
       "      <td>913.600000</td>\n",
       "      <td>913.600000</td>\n",
       "      <td>0.000000</td>\n",
       "      <td>0.000000</td>\n",
       "      <td>NaN</td>\n",
       "      <td>NaN</td>\n",
       "      <td>NaN</td>\n",
       "      <td>NaN</td>\n",
       "      <td>852434</td>\n",
       "    </tr>\n",
       "    <tr>\n",
       "      <th>1</th>\n",
       "      <td>2010-01-05</td>\n",
       "      <td>ACC</td>\n",
       "      <td>EQ</td>\n",
       "      <td>913.60</td>\n",
       "      <td>920.55</td>\n",
       "      <td>926.4</td>\n",
       "      <td>898.05</td>\n",
       "      <td>901.00</td>\n",
       "      <td>901.75</td>\n",
       "      <td>913.48</td>\n",
       "      <td>...</td>\n",
       "      <td>NaN</td>\n",
       "      <td>907.181250</td>\n",
       "      <td>907.447115</td>\n",
       "      <td>-0.265865</td>\n",
       "      <td>-0.147703</td>\n",
       "      <td>NaN</td>\n",
       "      <td>NaN</td>\n",
       "      <td>NaN</td>\n",
       "      <td>NaN</td>\n",
       "      <td>-439209</td>\n",
       "    </tr>\n",
       "    <tr>\n",
       "      <th>2</th>\n",
       "      <td>2010-01-06</td>\n",
       "      <td>ACC</td>\n",
       "      <td>EQ</td>\n",
       "      <td>901.75</td>\n",
       "      <td>904.50</td>\n",
       "      <td>912.5</td>\n",
       "      <td>895.35</td>\n",
       "      <td>910.15</td>\n",
       "      <td>907.60</td>\n",
       "      <td>904.48</td>\n",
       "      <td>...</td>\n",
       "      <td>NaN</td>\n",
       "      <td>907.344688</td>\n",
       "      <td>907.502045</td>\n",
       "      <td>-0.157357</td>\n",
       "      <td>-0.151660</td>\n",
       "      <td>NaN</td>\n",
       "      <td>NaN</td>\n",
       "      <td>NaN</td>\n",
       "      <td>NaN</td>\n",
       "      <td>517109</td>\n",
       "    </tr>\n",
       "  </tbody>\n",
       "</table>\n",
       "<p>2670 rows × 35 columns</p>\n",
       "</div>"
      ],
      "text/plain": [
       "           Date      Symbol Series  Prev Close      Open     High       Low  \\\n",
       "0    2010-01-08  ABBOTINDIA     EQ      783.75    755.00    807.0    755.00   \n",
       "1    2010-01-11  ABBOTINDIA     EQ      807.00    825.00    825.0    790.00   \n",
       "2    2010-01-12  ABBOTINDIA     EQ      804.80    800.00    805.0    790.00   \n",
       "3    2010-01-13  ABBOTINDIA     EQ      790.00    787.00    787.0    720.00   \n",
       "4    2010-01-14  ABBOTINDIA     EQ      767.00    769.00    798.0    769.00   \n",
       "...         ...         ...    ...         ...       ...      ...       ...   \n",
       "2665 2020-09-30  ABBOTINDIA     EQ    16402.00  16365.00  16500.0  16235.35   \n",
       "2666 2020-10-01  ABBOTINDIA     EQ    16486.95  16470.00  16595.0  16325.00   \n",
       "0    2010-01-04         ACC     EQ      872.45    870.00    920.0    870.00   \n",
       "1    2010-01-05         ACC     EQ      913.60    920.55    926.4    898.05   \n",
       "2    2010-01-06         ACC     EQ      901.75    904.50    912.5    895.35   \n",
       "\n",
       "          Last     Close      VWAP  ...        rsi         ema12  \\\n",
       "0       807.00    807.00    784.12  ...        NaN    807.000000   \n",
       "1       804.80    804.80    793.90  ...        NaN    805.808333   \n",
       "2       790.00    790.00    799.36  ...        NaN    799.638337   \n",
       "3       767.00    767.00    758.53  ...        NaN    789.335690   \n",
       "4       785.10    785.10    791.73  ...        NaN    788.184868   \n",
       "...        ...       ...       ...  ...        ...           ...   \n",
       "2665  16498.00  16486.95  16444.31  ...  49.279947  16328.398617   \n",
       "2666  16395.05  16384.90  16420.26  ...  41.407347  16337.091138   \n",
       "0       919.10    913.60    898.90  ...        NaN    913.600000   \n",
       "1       901.00    901.75    913.48  ...        NaN    907.181250   \n",
       "2       910.15    907.60    904.48  ...        NaN    907.344688   \n",
       "\n",
       "             ema26       macd      macd9      SMA-20   stddev-20  \\\n",
       "0       807.000000   0.000000   0.000000         NaN         NaN   \n",
       "1       805.857692  -0.049359  -0.027422         NaN         NaN   \n",
       "2       800.160177  -0.521840  -0.230052         NaN         NaN   \n",
       "3       790.890041  -1.554351  -0.678663         NaN         NaN   \n",
       "4       789.547307  -1.362439  -0.882071         NaN         NaN   \n",
       "...            ...        ...        ...         ...         ...   \n",
       "2665  16376.119591 -47.720974 -39.347659  16415.2975  282.364335   \n",
       "2666  16376.769992 -39.678854 -39.413898  16412.3175  282.354420   \n",
       "0       913.600000   0.000000   0.000000         NaN         NaN   \n",
       "1       907.447115  -0.265865  -0.147703         NaN         NaN   \n",
       "2       907.502045  -0.157357  -0.151660         NaN         NaN   \n",
       "\n",
       "      Bollinger-UpperBand  Bollinger-LowerBand  OBV Non-Cum  \n",
       "0                     NaN                  NaN           51  \n",
       "1                     NaN                  NaN         -897  \n",
       "2                     NaN                  NaN         -426  \n",
       "3                     NaN                  NaN         -359  \n",
       "4                     NaN                  NaN          317  \n",
       "...                   ...                  ...          ...  \n",
       "2665         16980.026169         15850.568831         6371  \n",
       "2666         16977.026339         15847.608661        -6133  \n",
       "0                     NaN                  NaN       852434  \n",
       "1                     NaN                  NaN      -439209  \n",
       "2                     NaN                  NaN       517109  \n",
       "\n",
       "[2670 rows x 35 columns]"
      ]
     },
     "execution_count": 23,
     "metadata": {},
     "output_type": "execute_result"
    }
   ],
   "source": [
    "daily_data.head(2670)"
   ]
  },
  {
   "cell_type": "code",
   "execution_count": 24,
   "metadata": {},
   "outputs": [],
   "source": [
    "# do the cumulative sum based on the grouping iof each symbol to get the OBV for each Symbol\n",
    "daily_data['OBV'] = daily_data.groupby('Symbol')['OBV Non-Cum'].cumsum()"
   ]
  },
  {
   "cell_type": "code",
   "execution_count": 25,
   "metadata": {},
   "outputs": [
    {
     "data": {
      "text/html": [
       "<div>\n",
       "<style scoped>\n",
       "    .dataframe tbody tr th:only-of-type {\n",
       "        vertical-align: middle;\n",
       "    }\n",
       "\n",
       "    .dataframe tbody tr th {\n",
       "        vertical-align: top;\n",
       "    }\n",
       "\n",
       "    .dataframe thead th {\n",
       "        text-align: right;\n",
       "    }\n",
       "</style>\n",
       "<table border=\"1\" class=\"dataframe\">\n",
       "  <thead>\n",
       "    <tr style=\"text-align: right;\">\n",
       "      <th></th>\n",
       "      <th>Date</th>\n",
       "      <th>Symbol</th>\n",
       "      <th>Series</th>\n",
       "      <th>Prev Close</th>\n",
       "      <th>Open</th>\n",
       "      <th>High</th>\n",
       "      <th>Low</th>\n",
       "      <th>Last</th>\n",
       "      <th>Close</th>\n",
       "      <th>VWAP</th>\n",
       "      <th>...</th>\n",
       "      <th>ema12</th>\n",
       "      <th>ema26</th>\n",
       "      <th>macd</th>\n",
       "      <th>macd9</th>\n",
       "      <th>SMA-20</th>\n",
       "      <th>stddev-20</th>\n",
       "      <th>Bollinger-UpperBand</th>\n",
       "      <th>Bollinger-LowerBand</th>\n",
       "      <th>OBV Non-Cum</th>\n",
       "      <th>OBV</th>\n",
       "    </tr>\n",
       "  </thead>\n",
       "  <tbody>\n",
       "    <tr>\n",
       "      <th>0</th>\n",
       "      <td>2010-01-08</td>\n",
       "      <td>ABBOTINDIA</td>\n",
       "      <td>EQ</td>\n",
       "      <td>783.75</td>\n",
       "      <td>755.00</td>\n",
       "      <td>807.0</td>\n",
       "      <td>755.00</td>\n",
       "      <td>807.00</td>\n",
       "      <td>807.00</td>\n",
       "      <td>784.12</td>\n",
       "      <td>...</td>\n",
       "      <td>807.000000</td>\n",
       "      <td>807.000000</td>\n",
       "      <td>0.000000</td>\n",
       "      <td>0.000000</td>\n",
       "      <td>NaN</td>\n",
       "      <td>NaN</td>\n",
       "      <td>NaN</td>\n",
       "      <td>NaN</td>\n",
       "      <td>51</td>\n",
       "      <td>51</td>\n",
       "    </tr>\n",
       "    <tr>\n",
       "      <th>1</th>\n",
       "      <td>2010-01-11</td>\n",
       "      <td>ABBOTINDIA</td>\n",
       "      <td>EQ</td>\n",
       "      <td>807.00</td>\n",
       "      <td>825.00</td>\n",
       "      <td>825.0</td>\n",
       "      <td>790.00</td>\n",
       "      <td>804.80</td>\n",
       "      <td>804.80</td>\n",
       "      <td>793.90</td>\n",
       "      <td>...</td>\n",
       "      <td>805.808333</td>\n",
       "      <td>805.857692</td>\n",
       "      <td>-0.049359</td>\n",
       "      <td>-0.027422</td>\n",
       "      <td>NaN</td>\n",
       "      <td>NaN</td>\n",
       "      <td>NaN</td>\n",
       "      <td>NaN</td>\n",
       "      <td>-897</td>\n",
       "      <td>-846</td>\n",
       "    </tr>\n",
       "    <tr>\n",
       "      <th>2</th>\n",
       "      <td>2010-01-12</td>\n",
       "      <td>ABBOTINDIA</td>\n",
       "      <td>EQ</td>\n",
       "      <td>804.80</td>\n",
       "      <td>800.00</td>\n",
       "      <td>805.0</td>\n",
       "      <td>790.00</td>\n",
       "      <td>790.00</td>\n",
       "      <td>790.00</td>\n",
       "      <td>799.36</td>\n",
       "      <td>...</td>\n",
       "      <td>799.638337</td>\n",
       "      <td>800.160177</td>\n",
       "      <td>-0.521840</td>\n",
       "      <td>-0.230052</td>\n",
       "      <td>NaN</td>\n",
       "      <td>NaN</td>\n",
       "      <td>NaN</td>\n",
       "      <td>NaN</td>\n",
       "      <td>-426</td>\n",
       "      <td>-1272</td>\n",
       "    </tr>\n",
       "    <tr>\n",
       "      <th>3</th>\n",
       "      <td>2010-01-13</td>\n",
       "      <td>ABBOTINDIA</td>\n",
       "      <td>EQ</td>\n",
       "      <td>790.00</td>\n",
       "      <td>787.00</td>\n",
       "      <td>787.0</td>\n",
       "      <td>720.00</td>\n",
       "      <td>767.00</td>\n",
       "      <td>767.00</td>\n",
       "      <td>758.53</td>\n",
       "      <td>...</td>\n",
       "      <td>789.335690</td>\n",
       "      <td>790.890041</td>\n",
       "      <td>-1.554351</td>\n",
       "      <td>-0.678663</td>\n",
       "      <td>NaN</td>\n",
       "      <td>NaN</td>\n",
       "      <td>NaN</td>\n",
       "      <td>NaN</td>\n",
       "      <td>-359</td>\n",
       "      <td>-1631</td>\n",
       "    </tr>\n",
       "    <tr>\n",
       "      <th>4</th>\n",
       "      <td>2010-01-14</td>\n",
       "      <td>ABBOTINDIA</td>\n",
       "      <td>EQ</td>\n",
       "      <td>767.00</td>\n",
       "      <td>769.00</td>\n",
       "      <td>798.0</td>\n",
       "      <td>769.00</td>\n",
       "      <td>785.10</td>\n",
       "      <td>785.10</td>\n",
       "      <td>791.73</td>\n",
       "      <td>...</td>\n",
       "      <td>788.184868</td>\n",
       "      <td>789.547307</td>\n",
       "      <td>-1.362439</td>\n",
       "      <td>-0.882071</td>\n",
       "      <td>NaN</td>\n",
       "      <td>NaN</td>\n",
       "      <td>NaN</td>\n",
       "      <td>NaN</td>\n",
       "      <td>317</td>\n",
       "      <td>-1314</td>\n",
       "    </tr>\n",
       "    <tr>\n",
       "      <th>...</th>\n",
       "      <td>...</td>\n",
       "      <td>...</td>\n",
       "      <td>...</td>\n",
       "      <td>...</td>\n",
       "      <td>...</td>\n",
       "      <td>...</td>\n",
       "      <td>...</td>\n",
       "      <td>...</td>\n",
       "      <td>...</td>\n",
       "      <td>...</td>\n",
       "      <td>...</td>\n",
       "      <td>...</td>\n",
       "      <td>...</td>\n",
       "      <td>...</td>\n",
       "      <td>...</td>\n",
       "      <td>...</td>\n",
       "      <td>...</td>\n",
       "      <td>...</td>\n",
       "      <td>...</td>\n",
       "      <td>...</td>\n",
       "      <td>...</td>\n",
       "    </tr>\n",
       "    <tr>\n",
       "      <th>2665</th>\n",
       "      <td>2020-09-30</td>\n",
       "      <td>ABBOTINDIA</td>\n",
       "      <td>EQ</td>\n",
       "      <td>16402.00</td>\n",
       "      <td>16365.00</td>\n",
       "      <td>16500.0</td>\n",
       "      <td>16235.35</td>\n",
       "      <td>16498.00</td>\n",
       "      <td>16486.95</td>\n",
       "      <td>16444.31</td>\n",
       "      <td>...</td>\n",
       "      <td>16328.398617</td>\n",
       "      <td>16376.119591</td>\n",
       "      <td>-47.720974</td>\n",
       "      <td>-39.347659</td>\n",
       "      <td>16415.2975</td>\n",
       "      <td>282.364335</td>\n",
       "      <td>16980.026169</td>\n",
       "      <td>15850.568831</td>\n",
       "      <td>6371</td>\n",
       "      <td>2547264</td>\n",
       "    </tr>\n",
       "    <tr>\n",
       "      <th>2666</th>\n",
       "      <td>2020-10-01</td>\n",
       "      <td>ABBOTINDIA</td>\n",
       "      <td>EQ</td>\n",
       "      <td>16486.95</td>\n",
       "      <td>16470.00</td>\n",
       "      <td>16595.0</td>\n",
       "      <td>16325.00</td>\n",
       "      <td>16395.05</td>\n",
       "      <td>16384.90</td>\n",
       "      <td>16420.26</td>\n",
       "      <td>...</td>\n",
       "      <td>16337.091138</td>\n",
       "      <td>16376.769992</td>\n",
       "      <td>-39.678854</td>\n",
       "      <td>-39.413898</td>\n",
       "      <td>16412.3175</td>\n",
       "      <td>282.354420</td>\n",
       "      <td>16977.026339</td>\n",
       "      <td>15847.608661</td>\n",
       "      <td>-6133</td>\n",
       "      <td>2541131</td>\n",
       "    </tr>\n",
       "    <tr>\n",
       "      <th>0</th>\n",
       "      <td>2010-01-04</td>\n",
       "      <td>ACC</td>\n",
       "      <td>EQ</td>\n",
       "      <td>872.45</td>\n",
       "      <td>870.00</td>\n",
       "      <td>920.0</td>\n",
       "      <td>870.00</td>\n",
       "      <td>919.10</td>\n",
       "      <td>913.60</td>\n",
       "      <td>898.90</td>\n",
       "      <td>...</td>\n",
       "      <td>913.600000</td>\n",
       "      <td>913.600000</td>\n",
       "      <td>0.000000</td>\n",
       "      <td>0.000000</td>\n",
       "      <td>NaN</td>\n",
       "      <td>NaN</td>\n",
       "      <td>NaN</td>\n",
       "      <td>NaN</td>\n",
       "      <td>852434</td>\n",
       "      <td>852434</td>\n",
       "    </tr>\n",
       "    <tr>\n",
       "      <th>1</th>\n",
       "      <td>2010-01-05</td>\n",
       "      <td>ACC</td>\n",
       "      <td>EQ</td>\n",
       "      <td>913.60</td>\n",
       "      <td>920.55</td>\n",
       "      <td>926.4</td>\n",
       "      <td>898.05</td>\n",
       "      <td>901.00</td>\n",
       "      <td>901.75</td>\n",
       "      <td>913.48</td>\n",
       "      <td>...</td>\n",
       "      <td>907.181250</td>\n",
       "      <td>907.447115</td>\n",
       "      <td>-0.265865</td>\n",
       "      <td>-0.147703</td>\n",
       "      <td>NaN</td>\n",
       "      <td>NaN</td>\n",
       "      <td>NaN</td>\n",
       "      <td>NaN</td>\n",
       "      <td>-439209</td>\n",
       "      <td>413225</td>\n",
       "    </tr>\n",
       "    <tr>\n",
       "      <th>2</th>\n",
       "      <td>2010-01-06</td>\n",
       "      <td>ACC</td>\n",
       "      <td>EQ</td>\n",
       "      <td>901.75</td>\n",
       "      <td>904.50</td>\n",
       "      <td>912.5</td>\n",
       "      <td>895.35</td>\n",
       "      <td>910.15</td>\n",
       "      <td>907.60</td>\n",
       "      <td>904.48</td>\n",
       "      <td>...</td>\n",
       "      <td>907.344688</td>\n",
       "      <td>907.502045</td>\n",
       "      <td>-0.157357</td>\n",
       "      <td>-0.151660</td>\n",
       "      <td>NaN</td>\n",
       "      <td>NaN</td>\n",
       "      <td>NaN</td>\n",
       "      <td>NaN</td>\n",
       "      <td>517109</td>\n",
       "      <td>930334</td>\n",
       "    </tr>\n",
       "  </tbody>\n",
       "</table>\n",
       "<p>2670 rows × 36 columns</p>\n",
       "</div>"
      ],
      "text/plain": [
       "           Date      Symbol Series  Prev Close      Open     High       Low  \\\n",
       "0    2010-01-08  ABBOTINDIA     EQ      783.75    755.00    807.0    755.00   \n",
       "1    2010-01-11  ABBOTINDIA     EQ      807.00    825.00    825.0    790.00   \n",
       "2    2010-01-12  ABBOTINDIA     EQ      804.80    800.00    805.0    790.00   \n",
       "3    2010-01-13  ABBOTINDIA     EQ      790.00    787.00    787.0    720.00   \n",
       "4    2010-01-14  ABBOTINDIA     EQ      767.00    769.00    798.0    769.00   \n",
       "...         ...         ...    ...         ...       ...      ...       ...   \n",
       "2665 2020-09-30  ABBOTINDIA     EQ    16402.00  16365.00  16500.0  16235.35   \n",
       "2666 2020-10-01  ABBOTINDIA     EQ    16486.95  16470.00  16595.0  16325.00   \n",
       "0    2010-01-04         ACC     EQ      872.45    870.00    920.0    870.00   \n",
       "1    2010-01-05         ACC     EQ      913.60    920.55    926.4    898.05   \n",
       "2    2010-01-06         ACC     EQ      901.75    904.50    912.5    895.35   \n",
       "\n",
       "          Last     Close      VWAP  ...         ema12         ema26  \\\n",
       "0       807.00    807.00    784.12  ...    807.000000    807.000000   \n",
       "1       804.80    804.80    793.90  ...    805.808333    805.857692   \n",
       "2       790.00    790.00    799.36  ...    799.638337    800.160177   \n",
       "3       767.00    767.00    758.53  ...    789.335690    790.890041   \n",
       "4       785.10    785.10    791.73  ...    788.184868    789.547307   \n",
       "...        ...       ...       ...  ...           ...           ...   \n",
       "2665  16498.00  16486.95  16444.31  ...  16328.398617  16376.119591   \n",
       "2666  16395.05  16384.90  16420.26  ...  16337.091138  16376.769992   \n",
       "0       919.10    913.60    898.90  ...    913.600000    913.600000   \n",
       "1       901.00    901.75    913.48  ...    907.181250    907.447115   \n",
       "2       910.15    907.60    904.48  ...    907.344688    907.502045   \n",
       "\n",
       "           macd      macd9      SMA-20   stddev-20  Bollinger-UpperBand  \\\n",
       "0      0.000000   0.000000         NaN         NaN                  NaN   \n",
       "1     -0.049359  -0.027422         NaN         NaN                  NaN   \n",
       "2     -0.521840  -0.230052         NaN         NaN                  NaN   \n",
       "3     -1.554351  -0.678663         NaN         NaN                  NaN   \n",
       "4     -1.362439  -0.882071         NaN         NaN                  NaN   \n",
       "...         ...        ...         ...         ...                  ...   \n",
       "2665 -47.720974 -39.347659  16415.2975  282.364335         16980.026169   \n",
       "2666 -39.678854 -39.413898  16412.3175  282.354420         16977.026339   \n",
       "0      0.000000   0.000000         NaN         NaN                  NaN   \n",
       "1     -0.265865  -0.147703         NaN         NaN                  NaN   \n",
       "2     -0.157357  -0.151660         NaN         NaN                  NaN   \n",
       "\n",
       "      Bollinger-LowerBand  OBV Non-Cum      OBV  \n",
       "0                     NaN           51       51  \n",
       "1                     NaN         -897     -846  \n",
       "2                     NaN         -426    -1272  \n",
       "3                     NaN         -359    -1631  \n",
       "4                     NaN          317    -1314  \n",
       "...                   ...          ...      ...  \n",
       "2665         15850.568831         6371  2547264  \n",
       "2666         15847.608661        -6133  2541131  \n",
       "0                     NaN       852434   852434  \n",
       "1                     NaN      -439209   413225  \n",
       "2                     NaN       517109   930334  \n",
       "\n",
       "[2670 rows x 36 columns]"
      ]
     },
     "execution_count": 25,
     "metadata": {},
     "output_type": "execute_result"
    }
   ],
   "source": [
    "daily_data.head(2670)"
   ]
  },
  {
   "cell_type": "code",
   "execution_count": 26,
   "metadata": {},
   "outputs": [
    {
     "data": {
      "text/plain": [
       "Date                       0\n",
       "Symbol                     0\n",
       "Series                     0\n",
       "Prev Close                 0\n",
       "Open                       0\n",
       "High                       0\n",
       "Low                        0\n",
       "Last                       0\n",
       "Close                      0\n",
       "VWAP                       0\n",
       "Volume                     0\n",
       "Turnover                   0\n",
       "Trades                 30684\n",
       "Deliverable Volume         0\n",
       "%Deliverble                0\n",
       "SMA-5                    400\n",
       "SMA-10                   900\n",
       "SMA-50                  4900\n",
       "SMA-100                 9900\n",
       "SMA-200                19839\n",
       "EMA-5                      0\n",
       "EMA-10                     0\n",
       "EMA-50                     0\n",
       "EMA-100                    0\n",
       "EMA-200                    0\n",
       "rsi                     1401\n",
       "ema12                      0\n",
       "ema26                      0\n",
       "macd                       0\n",
       "macd9                      0\n",
       "SMA-20                  1900\n",
       "stddev-20               1900\n",
       "Bollinger-UpperBand     1900\n",
       "Bollinger-LowerBand     1900\n",
       "OBV Non-Cum                0\n",
       "OBV                        0\n",
       "dtype: int64"
      ]
     },
     "execution_count": 26,
     "metadata": {},
     "output_type": "execute_result"
    }
   ],
   "source": [
    "daily_data.isnull().sum()"
   ]
  },
  {
   "cell_type": "code",
   "execution_count": 27,
   "metadata": {},
   "outputs": [],
   "source": [
    "# determine Bearish or Bullish market and the trade strategy based on macd and macd9\n",
    "# if macd > macd9, \"bullish\" and \"buy\"\n",
    "# if macd < macd9, \"bearish\" and \"sell\"\n",
    "daily_data['TradingStrategymacd'] = np.where(daily_data['macd'] > daily_data['macd9'], \"Buy\", \"Sell\")"
   ]
  },
  {
   "cell_type": "code",
   "execution_count": 28,
   "metadata": {},
   "outputs": [],
   "source": [
    "# determine the trading strategy for Bollinger\n",
    "# Buy - first trade confirmation we need is for the price to break and close above the middle Bollinger band\n",
    "# Sell - Close price drops from a Buy region of y/day to below the middle Bollinger band\n",
    "daily_data['TradingStrategyBollinger'] = np.where(daily_data['Close'] >= daily_data['SMA-20'], \"Buy\", \"Sell\")"
   ]
  },
  {
   "cell_type": "code",
   "execution_count": 29,
   "metadata": {},
   "outputs": [],
   "source": [
    "# determine the trading strategy for RSI\n",
    "# RSI reading above the 50 level is considered as a positive momentum \n",
    "# RSI reading below the 50 level is considered negative momentum\n",
    "daily_data['TradingStrategyRSI'] = np.where(daily_data['rsi'] > 50, \"positive\", \"negative\")"
   ]
  },
  {
   "cell_type": "code",
   "execution_count": 30,
   "metadata": {},
   "outputs": [],
   "source": [
    "# determine the trading strategy for OBV\n",
    "# Buy at the market once you see volume confirming the price\n",
    "daily_data['TradingStrategyOBV'] = np.where((daily_data['OBV'] > daily_data['OBV'].shift(1)) & (daily_data['OBV'] > 0), \"Buy\", \"Sell\")"
   ]
  },
  {
   "cell_type": "code",
   "execution_count": 31,
   "metadata": {},
   "outputs": [],
   "source": [
    "# HIDE THE PROTECTIVE STOP LOSS BELOW THE BOLLINGER BAND\n",
    "# The logical place to hide your protective stop loss is below the lower Bollinger band. \n",
    "# A break below the lower BB will invalidate our trade idea, and we want to minimize our losses.\n",
    "\n",
    "# STRATEGY FOR EXIT FROM THE MARKET (MAKE A SELL DECISION)\n",
    "# A break below the lower Bollinger Band is a good signal for a possible reversal, so cash out profits\n",
    "daily_data['STOP'] = np.where((daily_data['Close'] < daily_data['Bollinger-LowerBand']), \"STOP\", \"WAIT\")"
   ]
  },
  {
   "cell_type": "code",
   "execution_count": 32,
   "metadata": {},
   "outputs": [],
   "source": [
    "# COMBINED STRATEGY TO ENTER THE MARKET (MAKE A BUY DECISION)\n",
    "# Step #1: Price needs to Break and Close above the middle Bollinger Band\n",
    "# Step #2: Wait for the RSI indicator to trade above the 50 level if it doesn’t already\n",
    "# Step #3: Wait for the OBV indicator to rise. Buy at the market once you see volume confirming the price\n",
    "\n",
    "# HIDE THE PROTECTIVE STOP LOSS BELOW THE BOLLINGER BAND\n",
    "# The logical place to hide your protective stop loss is below the lower Bollinger band. \n",
    "# A break below the lower BB will invalidate our trade idea, and we want to minimize our losses.\n",
    "\n",
    "# STRATEGY FOR EXIT FROM THE MARKET (MAKE A SELL DECISION)\n",
    "# A break below the lower Bollinger Band is a good signal for a possible reversal, so we want to cash out our profits\n",
    "\n",
    "df1_grouped = daily_data.groupby('Symbol')\n",
    "COMBINED = [0]\n",
    "for group_keys, df_group in df1_grouped:\n",
    "    i = 0\n",
    "    for row_index, row in df_group.iterrows():\n",
    "        if i <= df_group.index[-1] :\n",
    "            if i == 0 :\n",
    "                COMBINED.append(\"WAIT\")\n",
    "            else:\n",
    "                if df_group.loc[row_index, 'TradingStrategyBollinger'] == \"Buy\":\n",
    "                    if df_group.loc[row_index, 'TradingStrategyRSI'] == \"positive\":\n",
    "                        if df_group.loc[row_index, 'TradingStrategyOBV'] == \"Buy\":\n",
    "                            COMBINED.append(\"ENTER\")\n",
    "                        else:\n",
    "                            COMBINED.append(\"SELL\")\n",
    "                    else:\n",
    "                        COMBINED.append(\"SELL\")\n",
    "                else:\n",
    "                    COMBINED.append(\"WAIT\")\n",
    "        i = i + 1"
   ]
  },
  {
   "cell_type": "code",
   "execution_count": 33,
   "metadata": {},
   "outputs": [
    {
     "data": {
      "text/html": [
       "<div>\n",
       "<style scoped>\n",
       "    .dataframe tbody tr th:only-of-type {\n",
       "        vertical-align: middle;\n",
       "    }\n",
       "\n",
       "    .dataframe tbody tr th {\n",
       "        vertical-align: top;\n",
       "    }\n",
       "\n",
       "    .dataframe thead th {\n",
       "        text-align: right;\n",
       "    }\n",
       "</style>\n",
       "<table border=\"1\" class=\"dataframe\">\n",
       "  <thead>\n",
       "    <tr style=\"text-align: right;\">\n",
       "      <th></th>\n",
       "      <th>COMBINED</th>\n",
       "    </tr>\n",
       "  </thead>\n",
       "  <tbody>\n",
       "    <tr>\n",
       "      <th>0</th>\n",
       "      <td>0</td>\n",
       "    </tr>\n",
       "    <tr>\n",
       "      <th>1</th>\n",
       "      <td>WAIT</td>\n",
       "    </tr>\n",
       "    <tr>\n",
       "      <th>2</th>\n",
       "      <td>WAIT</td>\n",
       "    </tr>\n",
       "    <tr>\n",
       "      <th>3</th>\n",
       "      <td>WAIT</td>\n",
       "    </tr>\n",
       "    <tr>\n",
       "      <th>4</th>\n",
       "      <td>WAIT</td>\n",
       "    </tr>\n",
       "    <tr>\n",
       "      <th>...</th>\n",
       "      <td>...</td>\n",
       "    </tr>\n",
       "    <tr>\n",
       "      <th>244897</th>\n",
       "      <td>WAIT</td>\n",
       "    </tr>\n",
       "    <tr>\n",
       "      <th>244898</th>\n",
       "      <td>WAIT</td>\n",
       "    </tr>\n",
       "    <tr>\n",
       "      <th>244899</th>\n",
       "      <td>WAIT</td>\n",
       "    </tr>\n",
       "    <tr>\n",
       "      <th>244900</th>\n",
       "      <td>WAIT</td>\n",
       "    </tr>\n",
       "    <tr>\n",
       "      <th>244901</th>\n",
       "      <td>SELL</td>\n",
       "    </tr>\n",
       "  </tbody>\n",
       "</table>\n",
       "<p>244902 rows × 1 columns</p>\n",
       "</div>"
      ],
      "text/plain": [
       "       COMBINED\n",
       "0             0\n",
       "1          WAIT\n",
       "2          WAIT\n",
       "3          WAIT\n",
       "4          WAIT\n",
       "...         ...\n",
       "244897     WAIT\n",
       "244898     WAIT\n",
       "244899     WAIT\n",
       "244900     WAIT\n",
       "244901     SELL\n",
       "\n",
       "[244902 rows x 1 columns]"
      ]
     },
     "execution_count": 33,
     "metadata": {},
     "output_type": "execute_result"
    }
   ],
   "source": [
    "# convert the series to dataframe with column as COMBINED\n",
    "dataframe_COMBINED = pd.DataFrame(COMBINED,columns=['COMBINED'])\n",
    "dataframe_COMBINED"
   ]
  },
  {
   "cell_type": "code",
   "execution_count": 34,
   "metadata": {},
   "outputs": [
    {
     "data": {
      "text/html": [
       "<div>\n",
       "<style scoped>\n",
       "    .dataframe tbody tr th:only-of-type {\n",
       "        vertical-align: middle;\n",
       "    }\n",
       "\n",
       "    .dataframe tbody tr th {\n",
       "        vertical-align: top;\n",
       "    }\n",
       "\n",
       "    .dataframe thead th {\n",
       "        text-align: right;\n",
       "    }\n",
       "</style>\n",
       "<table border=\"1\" class=\"dataframe\">\n",
       "  <thead>\n",
       "    <tr style=\"text-align: right;\">\n",
       "      <th></th>\n",
       "      <th>COMBINED</th>\n",
       "    </tr>\n",
       "  </thead>\n",
       "  <tbody>\n",
       "    <tr>\n",
       "      <th>244897</th>\n",
       "      <td>WAIT</td>\n",
       "    </tr>\n",
       "    <tr>\n",
       "      <th>244898</th>\n",
       "      <td>WAIT</td>\n",
       "    </tr>\n",
       "    <tr>\n",
       "      <th>244899</th>\n",
       "      <td>WAIT</td>\n",
       "    </tr>\n",
       "    <tr>\n",
       "      <th>244900</th>\n",
       "      <td>WAIT</td>\n",
       "    </tr>\n",
       "    <tr>\n",
       "      <th>244901</th>\n",
       "      <td>SELL</td>\n",
       "    </tr>\n",
       "  </tbody>\n",
       "</table>\n",
       "</div>"
      ],
      "text/plain": [
       "       COMBINED\n",
       "244897     WAIT\n",
       "244898     WAIT\n",
       "244899     WAIT\n",
       "244900     WAIT\n",
       "244901     SELL"
      ]
     },
     "execution_count": 34,
     "metadata": {},
     "output_type": "execute_result"
    }
   ],
   "source": [
    "# remove the first row since the append was started with COMBINED[0] - this way this would align to the length of the original dataframe\n",
    "dataframe_COMBINED_corrected = dataframe_COMBINED[1:]\n",
    "dataframe_COMBINED_corrected.tail()"
   ]
  },
  {
   "cell_type": "code",
   "execution_count": 40,
   "metadata": {},
   "outputs": [],
   "source": [
    "# add the Combined Strategy value to the existing daily_data dataframe\n",
    "daily_data['TradingStrategyCombined'] = dataframe_COMBINED_corrected['COMBINED'].values"
   ]
  },
  {
   "cell_type": "code",
   "execution_count": 41,
   "metadata": {},
   "outputs": [],
   "source": [
    "# store the data in an excel\n",
    "daily_data.to_csv('D:\\Personal\\Analytics course\\IPBA\\Case Study\\Output\\Calculated KPIs.csv')"
   ]
  },
  {
   "cell_type": "code",
   "execution_count": null,
   "metadata": {},
   "outputs": [],
   "source": [
    "# determine which stocks to buy. first look at price change each day for each stock\n",
    "daily_data['dailypricechange'] = np.log(daily_data.groupby('Symbol')['Close'].pct_change().add(1))"
   ]
  },
  {
   "cell_type": "code",
   "execution_count": null,
   "metadata": {},
   "outputs": [],
   "source": [
    "# BUY/SELL for a week based on MACD strategy\n",
    "# Define a user defined function for iterating and deciding which stocks to buy and which stocks to sell\n",
    "# Assume a portfolio money of 10 Lakhs INR to start with and calculate the value at the end of the week\n",
    "\n",
    "def on_balance_volume(temp_data, start_date, end_date):\n",
    "    i = 0\n",
    "    OBV = [0]\n",
    "    for index, row in temp_data.iterrows():\n",
    "        while i < temp_data.index[-1]:\n",
    "            if temp_data.loc[i + 1, 'Close'] - temp_data.loc[i, 'Close'] > 0\n",
    "                OBV.append(temp_data.loc[i + 1, 'Volume'])\n",
    "            if temp_data.loc[i + 1, 'Close'] - temp_data.loc[i, 'Close'] == 0\n",
    "                OBV.append(0)\n",
    "            if temp_data.loc[i + 1, 'Close'] - temp_data.loc[i, 'Close'] < 0:\\n\",\n",
    "                OBV.append(-temp_data.loc[i + 1, 'Volume'])\n",
    "        i = i + 1\n",
    "    OBV = pd.Series(OBV)\n",
    "    OBV_ma = pd.Series(OBV.rolling(n, min_periods=n).mean(), name='OBV_' + str(n))\n",
    "    temp_data = temp_data.join(OBV_ma)\n",
    "return temp_data"
   ]
  },
  {
   "cell_type": "code",
   "execution_count": null,
   "metadata": {},
   "outputs": [],
   "source": []
  },
  {
   "cell_type": "code",
   "execution_count": null,
   "metadata": {},
   "outputs": [],
   "source": []
  },
  {
   "cell_type": "code",
   "execution_count": null,
   "metadata": {},
   "outputs": [],
   "source": []
  },
  {
   "cell_type": "code",
   "execution_count": null,
   "metadata": {},
   "outputs": [],
   "source": []
  },
  {
   "cell_type": "code",
   "execution_count": null,
   "metadata": {},
   "outputs": [],
   "source": []
  },
  {
   "cell_type": "code",
   "execution_count": null,
   "metadata": {},
   "outputs": [],
   "source": []
  },
  {
   "cell_type": "code",
   "execution_count": null,
   "metadata": {},
   "outputs": [],
   "source": [
    "# determine the day (Mon-Fri) of the day so that we do a weekly transaction, rather than on a day basis - else the cost would increase due to tx fees\n",
    "import datetime as dt\n",
    "dayOfWeek={0:'Monday', 1:'Tuesday', 2:'Wednesday', 3:'Thursday', 4:'Friday', 5:'Saturday', 6:'Sunday'}\n",
    "daily_data['WeekdayName']=daily_data['Date'].dt.dayofweek.map(dayOfWeek)\n",
    "# determine the year, week number and day of transaction - that way we can use this for picking the last working day of each week\n",
    "daily_data['TransactionYear'] = daily_data['Date'].dt.year\n",
    "daily_data['TransactionWeek'] = daily_data['Date'].dt.week\n",
    "daily_data['TransactionDay'] = daily_data['Date'].dt.dayofweek"
   ]
  },
  {
   "cell_type": "code",
   "execution_count": null,
   "metadata": {
    "scrolled": true
   },
   "outputs": [],
   "source": [
    "daily_data['MaxWeekDay'] = daily_data.groupby(['Symbol','TransactionYear','TransactionWeek'],sort=False)['TransactionDay'].transform(max)\n",
    "daily_data.tail(50)"
   ]
  },
  {
   "cell_type": "code",
   "execution_count": null,
   "metadata": {},
   "outputs": [],
   "source": [
    "# extract the rows where MaxWeekDay matches to WeekDay\n",
    "week_data = daily_data[daily_data['TransactionDay'] == daily_data['MaxWeekDay']]"
   ]
  },
  {
   "cell_type": "code",
   "execution_count": null,
   "metadata": {},
   "outputs": [],
   "source": []
  },
  {
   "cell_type": "code",
   "execution_count": null,
   "metadata": {},
   "outputs": [],
   "source": [
    "# extract the rows belonging to last day of each week\n",
    "transyear = raw_data['TransactionYear'].map(str)\n",
    "transweek = raw_data['TransactionWeek'].apply(lambda x: '{0:0>2}'.format(x)).map(str)\n",
    "transday = raw_data['TransactionDay'].map(str)\n",
    "#raw_data[['TransactionYear','TransactionWeek']].apply(lambda x: \"\".join(x),axis=1)\n",
    "transyearweekday = transyear + transweek + transday\n",
    "type(transyearweekday)\n",
    "transyearweekday"
   ]
  },
  {
   "cell_type": "code",
   "execution_count": null,
   "metadata": {},
   "outputs": [],
   "source": []
  },
  {
   "cell_type": "code",
   "execution_count": null,
   "metadata": {},
   "outputs": [],
   "source": []
  },
  {
   "cell_type": "code",
   "execution_count": null,
   "metadata": {},
   "outputs": [],
   "source": []
  },
  {
   "cell_type": "code",
   "execution_count": null,
   "metadata": {},
   "outputs": [],
   "source": []
  },
  {
   "cell_type": "code",
   "execution_count": null,
   "metadata": {},
   "outputs": [],
   "source": []
  },
  {
   "cell_type": "code",
   "execution_count": null,
   "metadata": {},
   "outputs": [],
   "source": []
  },
  {
   "cell_type": "code",
   "execution_count": null,
   "metadata": {},
   "outputs": [],
   "source": [
    "AbbotIndia = raw_data[raw_data.Symbol == \"ABBOTINDIA\"]\n",
    "print(AbbotIndia)"
   ]
  },
  {
   "cell_type": "code",
   "execution_count": null,
   "metadata": {},
   "outputs": [],
   "source": [
    "plt.plot(AbbotIndia.Date, AbbotIndia['Close'], label='Close')\n",
    "plt.plot(AbbotIndia.Date, AbbotIndia['SMA-200'], label='SMA-200', color='green')\n",
    "plt.plot(AbbotIndia.Date, AbbotIndia['EMA-200'], label='EMA-200', color='red')\n",
    "plt.legend(loc='upper left')\n",
    "plt.show()"
   ]
  },
  {
   "cell_type": "code",
   "execution_count": null,
   "metadata": {},
   "outputs": [],
   "source": [
    "from datetime import datetime\n",
    "mydate = AbbotIndia['Date'].dt.year\n",
    "print(mydate)\n",
    "AbbotIndia[mydate == 2020]"
   ]
  },
  {
   "cell_type": "code",
   "execution_count": null,
   "metadata": {},
   "outputs": [],
   "source": [
    "leadingchar = \"Stock_\"\n",
    "trailingchar = \".xlsx\"\n",
    "stocklist = np.char.strip(filepaths,leadingchar)\n",
    "stocklist = np.char.strip(stocklist,trailingchar)\n",
    "print(stocklist)"
   ]
  },
  {
   "cell_type": "code",
   "execution_count": null,
   "metadata": {},
   "outputs": [],
   "source": [
    "#for i in stocklist:\n",
    "#    print(i)\n",
    "#    raw_data[raw_data.Symbol == stocklist[i]]\n",
    "#stock(i) = raw_data[raw_data.Symbol == stocklist[1]]\n",
    "AbbotIndia = raw_data[raw_data.Symbol == \"ABBOTINDIA\"]\n",
    "plt.plot(AbbotIndia.Date, AbbotIndia['Close'], label='Close')\n",
    "plt.plot(AbbotIndia.Date, AbbotIndia['SMA-200'], label='SMA-200', color='green')\n",
    "plt.plot(AbbotIndia.Date, AbbotIndia['EMA-200'], label='EMA-200', color='red')\n",
    "plt.plot(AbbotIndia.Date, AbbotIndia['rsi'], label='RSI', color='orange')\n",
    "plt.legend(loc='upper left')\n",
    "plt.show()"
   ]
  },
  {
   "cell_type": "code",
   "execution_count": null,
   "metadata": {},
   "outputs": [],
   "source": [
    "Acc = raw_data[raw_data.Symbol == \"ACC\"]\n",
    "plt.plot(Acc.Date, Acc['Close'], label='Close')\n",
    "plt.plot(Acc.Date, Acc['SMA-200'], label='SMA-200', color='green')\n",
    "plt.plot(Acc.Date, Acc['EMA-200'], label='EMA-200', color='red')\n",
    "plt.legend(loc='upper left')\n",
    "plt.show()"
   ]
  },
  {
   "cell_type": "code",
   "execution_count": null,
   "metadata": {},
   "outputs": [],
   "source": [
    "Adaniports = raw_data[raw_data.Symbol == \"ADANIPORTS\"]\n",
    "plt.plot(Adaniports.Date, Adaniports['Close'], label='Close')\n",
    "plt.plot(Adaniports.Date, Adaniports['SMA-200'], label='SMA-200', color='green')\n",
    "plt.plot(Adaniports.Date, Adaniports['EMA-200'], label='EMA-200', color='red')\n",
    "plt.legend(loc='upper left')\n",
    "plt.show()"
   ]
  },
  {
   "cell_type": "code",
   "execution_count": null,
   "metadata": {},
   "outputs": [],
   "source": [
    "Adanitrans = raw_data[raw_data.Symbol == \"ADANITRANS\"]\n",
    "plt.plot(Adanitrans.Date, Adanitrans['Close'], label='Close')\n",
    "plt.plot(Adanitrans.Date, Adanitrans['SMA-200'], label='SMA-200', color='green')\n",
    "plt.plot(Adanitrans.Date, Adanitrans['EMA-200'], label='EMA-200', color='red')\n",
    "plt.legend(loc='upper left')\n",
    "plt.show()"
   ]
  },
  {
   "cell_type": "code",
   "execution_count": null,
   "metadata": {},
   "outputs": [],
   "source": [
    "Ambujacem = raw_data[raw_data.Symbol == \"AMBUJACEM\"]\n",
    "plt.plot(Ambujacem.Date, Ambujacem['Close'], label='Close')\n",
    "plt.plot(Ambujacem.Date, Ambujacem['SMA-200'], label='SMA-200', color='green')\n",
    "plt.plot(Ambujacem.Date, Ambujacem['EMA-200'], label='EMA-200', color='red')\n",
    "plt.legend(loc='upper left')\n",
    "plt.show()"
   ]
  },
  {
   "cell_type": "code",
   "execution_count": null,
   "metadata": {},
   "outputs": [],
   "source": [
    "Asianpaint = raw_data[raw_data.Symbol == \"ASIANPAINT\"]\n",
    "plt.plot(Asianpaint.Date, Asianpaint['Close'], label='Close')\n",
    "plt.plot(Asianpaint.Date, Asianpaint['SMA-200'], label='SMA-200', color='green')\n",
    "plt.plot(Asianpaint.Date, Asianpaint['EMA-200'], label='EMA-200', color='red')\n",
    "plt.legend(loc='upper left')\n",
    "plt.show()"
   ]
  },
  {
   "cell_type": "code",
   "execution_count": null,
   "metadata": {},
   "outputs": [],
   "source": [
    "Auropharma = raw_data[raw_data.Symbol == \"AUROPHARMA\"]\n",
    "plt.plot(Auropharma.Date, Auropharma['Close'], label='Close')\n",
    "plt.plot(Auropharma.Date, Auropharma['SMA-200'], label='SMA-200', color='green')\n",
    "plt.plot(Auropharma.Date, Auropharma['EMA-200'], label='EMA-200', color='red')\n",
    "plt.legend(loc='upper left')\n",
    "plt.show()"
   ]
  },
  {
   "cell_type": "code",
   "execution_count": null,
   "metadata": {},
   "outputs": [],
   "source": [
    "Axisbank = raw_data[raw_data.Symbol == \"AXISBANK\"]\n",
    "plt.plot(Axisbank.Date, Axisbank['Close'], label='Close')\n",
    "plt.plot(Axisbank.Date, Axisbank['SMA-200'], label='SMA-200', color='green')\n",
    "plt.plot(Axisbank.Date, Axisbank['EMA-200'], label='EMA-200', color='red')\n",
    "plt.legend(loc='upper left')\n",
    "plt.show()"
   ]
  },
  {
   "cell_type": "code",
   "execution_count": null,
   "metadata": {},
   "outputs": [],
   "source": [
    "BajajAuto = raw_data[raw_data.Symbol == \"BAJAJ-AUTO\"]\n",
    "plt.plot(BajajAuto.Date, BajajAuto['Close'], label='Close')\n",
    "plt.plot(BajajAuto.Date, BajajAuto['SMA-200'], label='SMA-200', color='green')\n",
    "plt.plot(BajajAuto.Date, BajajAuto['EMA-200'], label='EMA-200', color='red')\n",
    "plt.legend(loc='upper left')\n",
    "plt.show()"
   ]
  },
  {
   "cell_type": "code",
   "execution_count": null,
   "metadata": {},
   "outputs": [],
   "source": [
    "Bajajfinsv = raw_data[raw_data.Symbol == \"BAJAJFINSV\"]\n",
    "plt.plot(Bajajfinsv.Date, Bajajfinsv['Close'], label='Close')\n",
    "plt.plot(Bajajfinsv.Date, Bajajfinsv['SMA-200'], label='SMA-200', color='green')\n",
    "plt.plot(Bajajfinsv.Date, Bajajfinsv['EMA-200'], label='EMA-200', color='red')\n",
    "plt.legend(loc='upper left')\n",
    "plt.show()"
   ]
  },
  {
   "cell_type": "code",
   "execution_count": null,
   "metadata": {},
   "outputs": [],
   "source": [
    "Bajajhldng = raw_data[raw_data.Symbol == \"BAJAJHLDNG\"]\n",
    "plt.plot(Bajajhldng.Date, Bajajhldng['Close'], label='Close')\n",
    "plt.plot(Bajajhldng.Date, Bajajhldng['SMA-200'], label='SMA-200', color='green')\n",
    "plt.plot(Bajajhldng.Date, Bajajhldng['EMA-200'], label='EMA-200', color='red')\n",
    "plt.legend(loc='upper left')\n",
    "plt.show()"
   ]
  },
  {
   "cell_type": "code",
   "execution_count": null,
   "metadata": {},
   "outputs": [],
   "source": [
    "BajFinance = raw_data[raw_data.Symbol == \"BAJFINANCE\"]\n",
    "plt.plot(BajFinance.Date, BajFinance['Close'], label='Close')\n",
    "plt.plot(BajFinance.Date, BajFinance['SMA-200'], label='SMA-200', color='green')\n",
    "plt.plot(BajFinance.Date, BajFinance['EMA-200'], label='EMA-200', color='red')\n",
    "plt.legend(loc='upper left')\n",
    "plt.show()"
   ]
  },
  {
   "cell_type": "code",
   "execution_count": null,
   "metadata": {},
   "outputs": [],
   "source": [
    "BandhanBnk = raw_data[raw_data.Symbol == \"BANDHANBNK\"]\n",
    "plt.plot(BandhanBnk.Date, BandhanBnk['Close'], label='Close')\n",
    "plt.plot(BandhanBnk.Date, BandhanBnk['SMA-200'], label='SMA-200', color='green')\n",
    "plt.plot(BandhanBnk.Date, BandhanBnk['EMA-200'], label='EMA-200', color='red')\n",
    "plt.legend(loc='upper left')\n",
    "plt.show()"
   ]
  },
  {
   "cell_type": "code",
   "execution_count": null,
   "metadata": {},
   "outputs": [],
   "source": [
    "BankBaroda = raw_data[raw_data.Symbol == \"BANKBARODA\"]\n",
    "plt.plot(BankBaroda.Date, BankBaroda['Close'], label='Close')\n",
    "plt.plot(BankBaroda.Date, BankBaroda['SMA-200'], label='SMA-200', color='green')\n",
    "plt.plot(BankBaroda.Date, BankBaroda['EMA-200'], label='EMA-200', color='red')\n",
    "plt.legend(loc='upper left')\n",
    "plt.show()"
   ]
  },
  {
   "cell_type": "code",
   "execution_count": null,
   "metadata": {},
   "outputs": [],
   "source": [
    "BergePaint = raw_data[raw_data.Symbol == \"BERGEPAINT\"]\n",
    "plt.plot(BergePaint.Date, BergePaint['Close'], label='Close')\n",
    "plt.plot(BergePaint.Date, BergePaint['SMA-200'], label='SMA-200', color='green')\n",
    "plt.plot(BergePaint.Date, BergePaint['EMA-200'], label='EMA-200', color='red')\n",
    "plt.legend(loc='upper left')\n",
    "plt.show()"
   ]
  },
  {
   "cell_type": "code",
   "execution_count": null,
   "metadata": {},
   "outputs": [],
   "source": [
    "BhartiArtl = raw_data[raw_data.Symbol == \"BHARTIARTL\"]\n",
    "plt.plot(BhartiArtl.Date, BhartiArtl['Close'], label='Close')\n",
    "plt.plot(BhartiArtl.Date, BhartiArtl['SMA-200'], label='SMA-200', color='green')\n",
    "plt.plot(BhartiArtl.Date, BhartiArtl['EMA-200'], label='EMA-200', color='red')\n",
    "plt.legend(loc='upper left')\n",
    "plt.show()"
   ]
  },
  {
   "cell_type": "code",
   "execution_count": null,
   "metadata": {},
   "outputs": [],
   "source": [
    "Biocon = raw_data[raw_data.Symbol == \"BIOCON\"]\n",
    "plt.plot(Biocon.Date, Biocon['Close'], label='Close')\n",
    "plt.plot(Biocon.Date, Biocon['SMA-200'], label='SMA-200', color='green')\n",
    "plt.plot(Biocon.Date, Biocon['EMA-200'], label='EMA-200', color='red')\n",
    "plt.legend(loc='upper left')\n",
    "plt.show()"
   ]
  },
  {
   "cell_type": "code",
   "execution_count": null,
   "metadata": {},
   "outputs": [],
   "source": [
    "BoschLtd = raw_data[raw_data.Symbol == \"BOSCHLTD\"]\n",
    "plt.plot(BoschLtd.Date, BoschLtd['Close'], label='Close')\n",
    "plt.plot(BoschLtd.Date, BoschLtd['SMA-200'], label='SMA-200', color='green')\n",
    "plt.plot(BoschLtd.Date, BoschLtd['EMA-200'], label='EMA-200', color='red')\n",
    "plt.legend(loc='upper left')\n",
    "plt.show()"
   ]
  },
  {
   "cell_type": "code",
   "execution_count": null,
   "metadata": {},
   "outputs": [],
   "source": [
    "Bpcl = raw_data[raw_data.Symbol == \"BPCL\"]\n",
    "plt.plot(Bpcl.Date, Bpcl['Close'], label='Close')\n",
    "plt.plot(Bpcl.Date, Bpcl['SMA-200'], label='SMA-200', color='green')\n",
    "plt.plot(Bpcl.Date, Bpcl['EMA-200'], label='EMA-200', color='red')\n",
    "plt.legend(loc='upper left')\n",
    "plt.show()"
   ]
  },
  {
   "cell_type": "code",
   "execution_count": null,
   "metadata": {},
   "outputs": [],
   "source": [
    "Britannia = raw_data[raw_data.Symbol == \"BRITANNIA\"]\n",
    "plt.plot(Britannia.Date, Britannia['Close'], label='Close')\n",
    "plt.plot(Britannia.Date, Britannia['SMA-200'], label='SMA-200', color='green')\n",
    "plt.plot(Britannia.Date, Britannia['EMA-200'], label='EMA-200', color='red')\n",
    "plt.legend(loc='upper left')\n",
    "plt.show()"
   ]
  },
  {
   "cell_type": "code",
   "execution_count": null,
   "metadata": {},
   "outputs": [],
   "source": [
    "Cadilahc = raw_data[raw_data.Symbol == \"CADILAHC\"]\n",
    "plt.plot(Cadilahc.Date, Cadilahc['Close'], label='Close')\n",
    "plt.plot(Cadilahc.Date, Cadilahc['SMA-200'], label='SMA-200', color='green')\n",
    "plt.plot(Cadilahc.Date, Cadilahc['EMA-200'], label='EMA-200', color='red')\n",
    "plt.legend(loc='upper left')\n",
    "plt.show()"
   ]
  },
  {
   "cell_type": "code",
   "execution_count": null,
   "metadata": {},
   "outputs": [],
   "source": [
    "Cipla = raw_data[raw_data.Symbol == \"CIPLA\"]\n",
    "plt.plot(Cipla.Date, Cipla['Close'], label='Close')\n",
    "plt.plot(Cipla.Date, Cipla['SMA-200'], label='SMA-200', color='green')\n",
    "plt.plot(Cipla.Date, Cipla['EMA-200'], label='EMA-200', color='red')\n",
    "plt.legend(loc='upper left')\n",
    "plt.show()"
   ]
  },
  {
   "cell_type": "code",
   "execution_count": null,
   "metadata": {},
   "outputs": [],
   "source": [
    "CoalIndia = raw_data[raw_data.Symbol == \"COALINDIA\"]\n",
    "plt.plot(CoalIndia.Date, CoalIndia['Close'], label='Close')\n",
    "plt.plot(CoalIndia.Date, CoalIndia['SMA-200'], label='SMA-200', color='green')\n",
    "plt.plot(CoalIndia.Date, CoalIndia['EMA-200'], label='EMA-200', color='red')\n",
    "plt.legend(loc='upper left')\n",
    "plt.show()"
   ]
  },
  {
   "cell_type": "code",
   "execution_count": null,
   "metadata": {},
   "outputs": [],
   "source": [
    "Colpal = raw_data[raw_data.Symbol == \"COLPAL\"]\n",
    "plt.plot(Colpal.Date, Colpal['Close'], label='Close')\n",
    "plt.plot(Colpal.Date, Colpal['SMA-200'], label='SMA-200', color='green')\n",
    "plt.plot(Colpal.Date, Colpal['EMA-200'], label='EMA-200', color='red')\n",
    "plt.legend(loc='upper left')\n",
    "plt.show()"
   ]
  },
  {
   "cell_type": "code",
   "execution_count": null,
   "metadata": {},
   "outputs": [],
   "source": [
    "Concor = raw_data[raw_data.Symbol == \"CONCOR\"]\n",
    "plt.plot(Concor.Date, Concor['Close'], label='Close')\n",
    "plt.plot(Concor.Date, Concor['SMA-200'], label='SMA-200', color='green')\n",
    "plt.plot(Concor.Date, Concor['EMA-200'], label='EMA-200', color='red')\n",
    "plt.legend(loc='upper left')\n",
    "plt.show()"
   ]
  },
  {
   "cell_type": "code",
   "execution_count": null,
   "metadata": {},
   "outputs": [],
   "source": [
    "Dabur = raw_data[raw_data.Symbol == \"DABUR\"]\n",
    "plt.plot(Dabur.Date, Dabur['Close'], label='Close')\n",
    "plt.plot(Dabur.Date, Dabur['SMA-200'], label='SMA-200', color='green')\n",
    "plt.plot(Dabur.Date, Dabur['EMA-200'], label='EMA-200', color='red')\n",
    "plt.legend(loc='upper left')\n",
    "plt.show()"
   ]
  },
  {
   "cell_type": "code",
   "execution_count": null,
   "metadata": {},
   "outputs": [],
   "source": [
    "DivisLab = raw_data[raw_data.Symbol == \"DIVISLAB\"]\n",
    "plt.plot(DivisLab.Date, DivisLab['Close'], label='Close')\n",
    "plt.plot(DivisLab.Date, DivisLab['SMA-200'], label='SMA-200', color='green')\n",
    "plt.plot(DivisLab.Date, DivisLab['EMA-200'], label='EMA-200', color='red')\n",
    "plt.legend(loc='upper left')\n",
    "plt.show()"
   ]
  },
  {
   "cell_type": "code",
   "execution_count": null,
   "metadata": {},
   "outputs": [],
   "source": [
    "Dlf = raw_data[raw_data.Symbol == \"DLF\"]\n",
    "plt.plot(Dlf.Date, Dlf['Close'], label='Close')\n",
    "plt.plot(Dlf.Date, Dlf['SMA-200'], label='SMA-200', color='green')\n",
    "plt.plot(Dlf.Date, Dlf['EMA-200'], label='EMA-200', color='red')\n",
    "plt.legend(loc='upper left')\n",
    "plt.show()"
   ]
  },
  {
   "cell_type": "code",
   "execution_count": null,
   "metadata": {},
   "outputs": [],
   "source": [
    "Dmart = raw_data[raw_data.Symbol == \"DMART\"]\n",
    "plt.plot(Dmart.Date, Dmart['Close'], label='Close')\n",
    "plt.plot(Dmart.Date, Dmart['SMA-200'], label='SMA-200', color='green')\n",
    "plt.plot(Dmart.Date, Dmart['EMA-200'], label='EMA-200', color='red')\n",
    "plt.legend(loc='upper left')\n",
    "plt.show()"
   ]
  },
  {
   "cell_type": "code",
   "execution_count": null,
   "metadata": {},
   "outputs": [],
   "source": [
    "DrReddy = raw_data[raw_data.Symbol == \"DRREDDY\"]\n",
    "plt.plot(DrReddy.Date, DrReddy['Close'], label='Close')\n",
    "plt.plot(DrReddy.Date, DrReddy['SMA-200'], label='SMA-200', color='green')\n",
    "plt.plot(DrReddy.Date, DrReddy['EMA-200'], label='EMA-200', color='red')\n",
    "plt.legend(loc='upper left')\n",
    "plt.show()"
   ]
  },
  {
   "cell_type": "code",
   "execution_count": null,
   "metadata": {},
   "outputs": [],
   "source": [
    "EicherMot = raw_data[raw_data.Symbol == \"EICHERMOT\"]\n",
    "plt.plot(EicherMot.Date, EicherMot['Close'], label='Close')\n",
    "plt.plot(EicherMot.Date, EicherMot['SMA-200'], label='SMA-200', color='green')\n",
    "plt.plot(EicherMot.Date, EicherMot['EMA-200'], label='EMA-200', color='red')\n",
    "plt.legend(loc='upper left')\n",
    "plt.show()"
   ]
  },
  {
   "cell_type": "code",
   "execution_count": null,
   "metadata": {},
   "outputs": [],
   "source": [
    "Gail = raw_data[raw_data.Symbol == \"GAIL\"]\n",
    "plt.plot(Gail.Date, Gail['Close'], label='Close')\n",
    "plt.plot(Gail.Date, Gail['SMA-200'], label='SMA-200', color='green')\n",
    "plt.plot(Gail.Date, Gail['EMA-200'], label='EMA-200', color='red')\n",
    "plt.legend(loc='upper left')\n",
    "plt.show()"
   ]
  },
  {
   "cell_type": "code",
   "execution_count": null,
   "metadata": {},
   "outputs": [],
   "source": [
    "Gicre = raw_data[raw_data.Symbol == \"GICRE\"]\n",
    "plt.plot(Gicre.Date, Gicre['Close'], label='Close')\n",
    "plt.plot(Gicre.Date, Gicre['SMA-200'], label='SMA-200', color='green')\n",
    "plt.plot(Gicre.Date, Gicre['EMA-200'], label='EMA-200', color='red')\n",
    "plt.legend(loc='upper left')\n",
    "plt.show()"
   ]
  },
  {
   "cell_type": "code",
   "execution_count": null,
   "metadata": {},
   "outputs": [],
   "source": [
    "GodrejCp = raw_data[raw_data.Symbol == \"GODREJCP\"]\n",
    "plt.plot(GodrejCp.Date, GodrejCp['Close'], label='Close')\n",
    "plt.plot(GodrejCp.Date, GodrejCp['SMA-200'], label='SMA-200', color='green')\n",
    "plt.plot(GodrejCp.Date, GodrejCp['EMA-200'], label='EMA-200', color='red')\n",
    "plt.legend(loc='upper left')\n",
    "plt.show()"
   ]
  },
  {
   "cell_type": "code",
   "execution_count": null,
   "metadata": {},
   "outputs": [],
   "source": [
    "Grasim = raw_data[raw_data.Symbol == \"GRASIM\"]\n",
    "plt.plot(Grasim.Date, Grasim['Close'], label='Close')\n",
    "plt.plot(Grasim.Date, Grasim['SMA-200'], label='SMA-200', color='green')\n",
    "plt.plot(Grasim.Date, Grasim['EMA-200'], label='EMA-200', color='red')\n",
    "plt.legend(loc='upper left')\n",
    "plt.show()"
   ]
  },
  {
   "cell_type": "code",
   "execution_count": null,
   "metadata": {},
   "outputs": [],
   "source": [
    "Havells = raw_data[raw_data.Symbol == \"HAVELLS\"]\n",
    "plt.plot(Havells.Date, Havells['Close'], label='Close')\n",
    "plt.plot(Havells.Date, Havells['SMA-200'], label='SMA-200', color='green')\n",
    "plt.plot(Havells.Date, Havells['EMA-200'], label='EMA-200', color='red')\n",
    "plt.legend(loc='upper left')\n",
    "plt.show()"
   ]
  },
  {
   "cell_type": "code",
   "execution_count": null,
   "metadata": {},
   "outputs": [],
   "source": [
    "HclTech = raw_data[raw_data.Symbol == \"HCLTECH\"]\n",
    "plt.plot(HclTech.Date, HclTech['Close'], label='Close')\n",
    "plt.plot(HclTech.Date, HclTech['SMA-200'], label='SMA-200', color='green')\n",
    "plt.plot(HclTech.Date, HclTech['EMA-200'], label='EMA-200', color='red')\n",
    "plt.legend(loc='upper left')\n",
    "plt.show()"
   ]
  },
  {
   "cell_type": "code",
   "execution_count": null,
   "metadata": {},
   "outputs": [],
   "source": [
    "Hdfc = raw_data[raw_data.Symbol == \"HDFC\"]\n",
    "plt.plot(Hdfc.Date, Hdfc['Close'], label='Close')\n",
    "plt.plot(Hdfc.Date, Hdfc['SMA-200'], label='SMA-200', color='green')\n",
    "plt.plot(Hdfc.Date, Hdfc['EMA-200'], label='EMA-200', color='red')\n",
    "plt.legend(loc='upper left')\n",
    "plt.show()"
   ]
  },
  {
   "cell_type": "code",
   "execution_count": null,
   "metadata": {},
   "outputs": [],
   "source": [
    "HdfcAmc = raw_data[raw_data.Symbol == \"HDFCAMC\"]\n",
    "plt.plot(HdfcAmc.Date, HdfcAmc['Close'], label='Close')\n",
    "plt.plot(HdfcAmc.Date, HdfcAmc['SMA-200'], label='SMA-200', color='green')\n",
    "plt.plot(HdfcAmc.Date, HdfcAmc['EMA-200'], label='EMA-200', color='red')\n",
    "plt.legend(loc='upper left')\n",
    "plt.show()"
   ]
  },
  {
   "cell_type": "code",
   "execution_count": null,
   "metadata": {},
   "outputs": [],
   "source": [
    "HdfcBank = raw_data[raw_data.Symbol == \"HDFCBANK\"]\n",
    "plt.plot(HdfcBank.Date, HdfcBank['Close'], label='Close')\n",
    "plt.plot(HdfcBank.Date, HdfcBank['SMA-200'], label='SMA-200', color='green')\n",
    "plt.plot(HdfcBank.Date, HdfcBank['EMA-200'], label='EMA-200', color='red')\n",
    "plt.legend(loc='upper left')\n",
    "plt.show()"
   ]
  },
  {
   "cell_type": "code",
   "execution_count": null,
   "metadata": {},
   "outputs": [],
   "source": [
    "HdfcLife = raw_data[raw_data.Symbol == \"HDFCLIFE\"]\n",
    "plt.plot(HdfcLife.Date, HdfcLife['Close'], label='Close')\n",
    "plt.plot(HdfcLife.Date, HdfcLife['SMA-200'], label='SMA-200', color='green')\n",
    "plt.plot(HdfcLife.Date, HdfcLife['EMA-200'], label='EMA-200', color='red')\n",
    "plt.legend(loc='upper left')\n",
    "plt.show()"
   ]
  },
  {
   "cell_type": "code",
   "execution_count": null,
   "metadata": {},
   "outputs": [],
   "source": [
    "HeroMotoCo = raw_data[raw_data.Symbol == \"HEROMOTOCO\"]\n",
    "plt.plot(HeroMotoCo.Date, HeroMotoCo['Close'], label='Close')\n",
    "plt.plot(HeroMotoCo.Date, HeroMotoCo['SMA-200'], label='SMA-200', color='green')\n",
    "plt.plot(HeroMotoCo.Date, HeroMotoCo['EMA-200'], label='EMA-200', color='red')\n",
    "plt.legend(loc='upper left')\n",
    "plt.show()"
   ]
  },
  {
   "cell_type": "code",
   "execution_count": null,
   "metadata": {},
   "outputs": [],
   "source": [
    "HindalCo = raw_data[raw_data.Symbol == \"HINDALCO\"]\n",
    "plt.plot(HindalCo.Date, HindalCo['Close'], label='Close')\n",
    "plt.plot(HindalCo.Date, HindalCo['SMA-200'], label='SMA-200', color='green')\n",
    "plt.plot(HindalCo.Date, HindalCo['EMA-200'], label='EMA-200', color='red')\n",
    "plt.legend(loc='upper left')\n",
    "plt.show()"
   ]
  },
  {
   "cell_type": "code",
   "execution_count": null,
   "metadata": {},
   "outputs": [],
   "source": [
    "HindPetro = raw_data[raw_data.Symbol == \"HINDPETRO\"]\n",
    "plt.plot(HindPetro.Date, HindPetro['Close'], label='Close')\n",
    "plt.plot(HindPetro.Date, HindPetro['SMA-200'], label='SMA-200', color='green')\n",
    "plt.plot(HindPetro.Date, HindPetro['EMA-200'], label='EMA-200', color='red')\n",
    "plt.legend(loc='upper left')\n",
    "plt.show()"
   ]
  },
  {
   "cell_type": "code",
   "execution_count": null,
   "metadata": {},
   "outputs": [],
   "source": [
    "HindUnilvr = raw_data[raw_data.Symbol == \"HINDUNILVR\"]\n",
    "plt.plot(HindUnilvr.Date, HindUnilvr['Close'], label='Close')\n",
    "plt.plot(HindUnilvr.Date, HindUnilvr['SMA-200'], label='SMA-200', color='green')\n",
    "plt.plot(HindUnilvr.Date, HindUnilvr['EMA-200'], label='EMA-200', color='red')\n",
    "plt.legend(loc='upper left')\n",
    "plt.show()"
   ]
  },
  {
   "cell_type": "code",
   "execution_count": null,
   "metadata": {},
   "outputs": [],
   "source": [
    "HindZinc = raw_data[raw_data.Symbol == \"HINDZINC\"]\n",
    "plt.plot(HindZinc.Date, HindZinc['Close'], label='Close')\n",
    "plt.plot(HindZinc.Date, HindZinc['SMA-200'], label='SMA-200', color='green')\n",
    "plt.plot(HindZinc.Date, HindZinc['EMA-200'], label='EMA-200', color='red')\n",
    "plt.legend(loc='upper left')\n",
    "plt.show()"
   ]
  },
  {
   "cell_type": "code",
   "execution_count": null,
   "metadata": {},
   "outputs": [],
   "source": [
    "IciciBank = raw_data[raw_data.Symbol == \"ICICIBANK\"]\n",
    "plt.plot(IciciBank.Date, IciciBank['Close'], label='Close')\n",
    "plt.plot(IciciBank.Date, IciciBank['SMA-200'], label='SMA-200', color='green')\n",
    "plt.plot(IciciBank.Date, IciciBank['EMA-200'], label='EMA-200', color='red')\n",
    "plt.legend(loc='upper left')\n",
    "plt.show()"
   ]
  },
  {
   "cell_type": "code",
   "execution_count": null,
   "metadata": {},
   "outputs": [],
   "source": [
    "IciciGi = raw_data[raw_data.Symbol == \"ICICIGI\"]\n",
    "plt.plot(IciciGi.Date, IciciGi['Close'], label='Close')\n",
    "plt.plot(IciciGi.Date, IciciGi['SMA-200'], label='SMA-200', color='green')\n",
    "plt.plot(IciciGi.Date, IciciGi['EMA-200'], label='EMA-200', color='red')\n",
    "plt.legend(loc='upper left')\n",
    "plt.show()"
   ]
  },
  {
   "cell_type": "code",
   "execution_count": null,
   "metadata": {},
   "outputs": [],
   "source": [
    "IciciPruLi = raw_data[raw_data.Symbol == \"ICICIPRULI\"]\n",
    "plt.plot(IciciPruLi.Date, IciciPruLi['Close'], label='Close')\n",
    "plt.plot(IciciPruLi.Date, IciciPruLi['SMA-200'], label='SMA-200', color='green')\n",
    "plt.plot(IciciPruLi.Date, IciciPruLi['EMA-200'], label='EMA-200', color='red')\n",
    "plt.legend(loc='upper left')\n",
    "plt.show()"
   ]
  },
  {
   "cell_type": "code",
   "execution_count": null,
   "metadata": {},
   "outputs": [],
   "source": [
    "Igl = raw_data[raw_data.Symbol == \"IGL\"]\n",
    "plt.plot(Igl.Date, Igl['Close'], label='Close')\n",
    "plt.plot(Igl.Date, Igl['SMA-200'], label='SMA-200', color='green')\n",
    "plt.plot(Igl.Date, Igl['EMA-200'], label='EMA-200', color='red')\n",
    "plt.legend(loc='upper left')\n",
    "plt.show()"
   ]
  },
  {
   "cell_type": "code",
   "execution_count": null,
   "metadata": {},
   "outputs": [],
   "source": [
    "Indigo = raw_data[raw_data.Symbol == \"INDIGO\"]\n",
    "plt.plot(Indigo.Date, Indigo['Close'], label='Close')\n",
    "plt.plot(Indigo.Date, Indigo['SMA-200'], label='SMA-200', color='green')\n",
    "plt.plot(Indigo.Date, Indigo['EMA-200'], label='EMA-200', color='red')\n",
    "plt.legend(loc='upper left')\n",
    "plt.show()"
   ]
  },
  {
   "cell_type": "code",
   "execution_count": null,
   "metadata": {},
   "outputs": [],
   "source": [
    "IndusIndBk = raw_data[raw_data.Symbol == \"INDUSINDBK\"]\n",
    "plt.plot(IndusIndBk.Date, IndusIndBk['Close'], label='Close')\n",
    "plt.plot(IndusIndBk.Date, IndusIndBk['SMA-200'], label='SMA-200', color='green')\n",
    "plt.plot(IndusIndBk.Date, IndusIndBk['EMA-200'], label='EMA-200', color='red')\n",
    "plt.legend(loc='upper left')\n",
    "plt.show()"
   ]
  },
  {
   "cell_type": "code",
   "execution_count": null,
   "metadata": {},
   "outputs": [],
   "source": [
    "InfraTel = raw_data[raw_data.Symbol == \"INFRATEL\"]\n",
    "plt.plot(InfraTel.Date, InfraTel['Close'], label='Close')\n",
    "plt.plot(InfraTel.Date, InfraTel['SMA-200'], label='SMA-200', color='green')\n",
    "plt.plot(InfraTel.Date, InfraTel['EMA-200'], label='EMA-200', color='red')\n",
    "plt.legend(loc='upper left')\n",
    "plt.show()"
   ]
  },
  {
   "cell_type": "code",
   "execution_count": null,
   "metadata": {},
   "outputs": [],
   "source": [
    "Infy = raw_data[raw_data.Symbol == \"INFY\"]\n",
    "plt.plot(Infy.Date, Infy['Close'], label='Close')\n",
    "plt.plot(Infy.Date, Infy['SMA-200'], label='SMA-200', color='green')\n",
    "plt.plot(Infy.Date, Infy['EMA-200'], label='EMA-200', color='red')\n",
    "plt.legend(loc='upper left')\n",
    "plt.show()"
   ]
  },
  {
   "cell_type": "code",
   "execution_count": null,
   "metadata": {},
   "outputs": [],
   "source": [
    "Ioc = raw_data[raw_data.Symbol == \"IOC\"]\n",
    "plt.plot(Ioc.Date, Ioc['Close'], label='Close')\n",
    "plt.plot(Ioc.Date, Ioc['SMA-200'], label='SMA-200', color='green')\n",
    "plt.plot(Ioc.Date, Ioc['EMA-200'], label='EMA-200', color='red')\n",
    "plt.legend(loc='upper left')\n",
    "plt.show()"
   ]
  },
  {
   "cell_type": "code",
   "execution_count": null,
   "metadata": {},
   "outputs": [],
   "source": [
    "Itc = raw_data[raw_data.Symbol == \"ITC\"]\n",
    "plt.plot(Itc.Date, Itc['Close'], label='Close')\n",
    "plt.plot(Itc.Date, Itc['SMA-200'], label='SMA-200', color='green')\n",
    "plt.plot(Itc.Date, Itc['EMA-200'], label='EMA-200', color='red')\n",
    "plt.legend(loc='upper left')\n",
    "plt.show()"
   ]
  },
  {
   "cell_type": "code",
   "execution_count": null,
   "metadata": {},
   "outputs": [],
   "source": [
    "JswSteel = raw_data[raw_data.Symbol == \"JSWSTEEL\"]\n",
    "plt.plot(JswSteel.Date, JswSteel['Close'], label='Close')\n",
    "plt.plot(JswSteel.Date, JswSteel['SMA-200'], label='SMA-200', color='green')\n",
    "plt.plot(JswSteel.Date, JswSteel['EMA-200'], label='EMA-200', color='red')\n",
    "plt.legend(loc='upper left')\n",
    "plt.show()"
   ]
  },
  {
   "cell_type": "code",
   "execution_count": null,
   "metadata": {},
   "outputs": [],
   "source": [
    "KotakBank = raw_data[raw_data.Symbol == \"KOTAKBANK\"]\n",
    "plt.plot(KotakBank.Date, KotakBank['Close'], label='Close')\n",
    "plt.plot(KotakBank.Date, KotakBank['SMA-200'], label='SMA-200', color='green')\n",
    "plt.plot(KotakBank.Date, KotakBank['EMA-200'], label='EMA-200', color='red')\n",
    "plt.legend(loc='upper left')\n",
    "plt.show()"
   ]
  },
  {
   "cell_type": "code",
   "execution_count": null,
   "metadata": {},
   "outputs": [],
   "source": [
    "Lt = raw_data[raw_data.Symbol == \"LT\"]\n",
    "plt.plot(Lt.Date, Lt['Close'], label='Close')\n",
    "plt.plot(Lt.Date, Lt['SMA-200'], label='SMA-200', color='green')\n",
    "plt.plot(Lt.Date, Lt['EMA-200'], label='EMA-200', color='red')\n",
    "plt.legend(loc='upper left')\n",
    "plt.show()"
   ]
  },
  {
   "cell_type": "code",
   "execution_count": null,
   "metadata": {},
   "outputs": [],
   "source": [
    "Lupin = raw_data[raw_data.Symbol == \"LUPIN\"]\n",
    "plt.plot(Lupin.Date, Lupin['Close'], label='Close')\n",
    "plt.plot(Lupin.Date, Lupin['SMA-200'], label='SMA-200', color='green')\n",
    "plt.plot(Lupin.Date, Lupin['EMA-200'], label='EMA-200', color='red')\n",
    "plt.legend(loc='upper left')\n",
    "plt.show()"
   ]
  },
  {
   "cell_type": "code",
   "execution_count": null,
   "metadata": {},
   "outputs": [],
   "source": [
    "MM = raw_data[raw_data.Symbol == \"M&M\"]\n",
    "plt.plot(MM.Date, MM['Close'], label='Close')\n",
    "plt.plot(MM.Date, MM['SMA-200'], label='SMA-200', color='green')\n",
    "plt.plot(MM.Date, MM['EMA-200'], label='EMA-200', color='red')\n",
    "plt.legend(loc='upper left')\n",
    "plt.show()"
   ]
  },
  {
   "cell_type": "code",
   "execution_count": null,
   "metadata": {},
   "outputs": [],
   "source": [
    "Marico = raw_data[raw_data.Symbol == \"MARICO\"]\n",
    "plt.plot(Marico.Date, Marico['Close'], label='Close')\n",
    "plt.plot(Marico.Date, Marico['SMA-200'], label='SMA-200', color='green')\n",
    "plt.plot(Marico.Date, Marico['EMA-200'], label='EMA-200', color='red')\n",
    "plt.legend(loc='upper left')\n",
    "plt.show()"
   ]
  },
  {
   "cell_type": "code",
   "execution_count": null,
   "metadata": {},
   "outputs": [],
   "source": [
    "Maruti = raw_data[raw_data.Symbol == \"MARUTI\"]\n",
    "plt.plot(Maruti.Date, Maruti['Close'], label='Close')\n",
    "plt.plot(Maruti.Date, Maruti['SMA-200'], label='SMA-200', color='green')\n",
    "plt.plot(Maruti.Date, Maruti['EMA-200'], label='EMA-200', color='red')\n",
    "plt.legend(loc='upper left')\n",
    "plt.show()"
   ]
  },
  {
   "cell_type": "code",
   "execution_count": null,
   "metadata": {},
   "outputs": [],
   "source": [
    "McDowellN = raw_data[raw_data.Symbol == \"MCDOWELL-N\"]\n",
    "plt.plot(McDowellN.Date, McDowellN['Close'], label='Close')\n",
    "plt.plot(McDowellN.Date, McDowellN['SMA-200'], label='SMA-200', color='green')\n",
    "plt.plot(McDowellN.Date, McDowellN['EMA-200'], label='EMA-200', color='red')\n",
    "plt.legend(loc='upper left')\n",
    "plt.show()"
   ]
  },
  {
   "cell_type": "code",
   "execution_count": null,
   "metadata": {},
   "outputs": [],
   "source": [
    "MotherSumi = raw_data[raw_data.Symbol == \"MOTHERSUMI\"]\n",
    "plt.plot(MotherSumi.Date, MotherSumi['Close'], label='Close')\n",
    "plt.plot(MotherSumi.Date, MotherSumi['SMA-200'], label='SMA-200', color='green')\n",
    "plt.plot(MotherSumi.Date, MotherSumi['EMA-200'], label='EMA-200', color='red')\n",
    "plt.legend(loc='upper left')\n",
    "plt.show()"
   ]
  },
  {
   "cell_type": "code",
   "execution_count": null,
   "metadata": {},
   "outputs": [],
   "source": [
    "MuthootFin = raw_data[raw_data.Symbol == \"MUTHOOTFIN\"]\n",
    "plt.plot(MuthootFin.Date, MuthootFin['Close'], label='Close')\n",
    "plt.plot(MuthootFin.Date, MuthootFin['SMA-200'], label='SMA-200', color='green')\n",
    "plt.plot(MuthootFin.Date, MuthootFin['EMA-200'], label='EMA-200', color='red')\n",
    "plt.legend(loc='upper left')\n",
    "plt.show()"
   ]
  },
  {
   "cell_type": "code",
   "execution_count": null,
   "metadata": {},
   "outputs": [],
   "source": [
    "Naukri = raw_data[raw_data.Symbol == \"NAUKRI\"]\n",
    "plt.plot(Naukri.Date, Naukri['Close'], label='Close')\n",
    "plt.plot(Naukri.Date, Naukri['SMA-200'], label='SMA-200', color='green')\n",
    "plt.plot(Naukri.Date, Naukri['EMA-200'], label='EMA-200', color='red')\n",
    "plt.legend(loc='upper left')\n",
    "plt.show()"
   ]
  },
  {
   "cell_type": "code",
   "execution_count": null,
   "metadata": {},
   "outputs": [],
   "source": [
    "NestleInd = raw_data[raw_data.Symbol == \"NESTLEIND\"]\n",
    "plt.plot(NestleInd.Date, NestleInd['Close'], label='Close')\n",
    "plt.plot(NestleInd.Date, NestleInd['SMA-200'], label='SMA-200', color='green')\n",
    "plt.plot(NestleInd.Date, NestleInd['EMA-200'], label='EMA-200', color='red')\n",
    "plt.legend(loc='upper left')\n",
    "plt.show()"
   ]
  },
  {
   "cell_type": "code",
   "execution_count": null,
   "metadata": {},
   "outputs": [],
   "source": [
    "Nhpc = raw_data[raw_data.Symbol == \"NHPC\"]\n",
    "plt.plot(Nhpc.Date, Nhpc['Close'], label='Close')\n",
    "plt.plot(Nhpc.Date, Nhpc['SMA-200'], label='SMA-200', color='green')\n",
    "plt.plot(Nhpc.Date, Nhpc['EMA-200'], label='EMA-200', color='red')\n",
    "plt.legend(loc='upper left')\n",
    "plt.show()"
   ]
  },
  {
   "cell_type": "code",
   "execution_count": null,
   "metadata": {},
   "outputs": [],
   "source": [
    "Nmdc = raw_data[raw_data.Symbol == \"NMDC\"]\n",
    "plt.plot(Nmdc.Date, Nmdc['Close'], label='Close')\n",
    "plt.plot(Nmdc.Date, Nmdc['SMA-200'], label='SMA-200', color='green')\n",
    "plt.plot(Nmdc.Date, Nmdc['EMA-200'], label='EMA-200', color='red')\n",
    "plt.legend(loc='upper left')\n",
    "plt.show()"
   ]
  },
  {
   "cell_type": "code",
   "execution_count": null,
   "metadata": {},
   "outputs": [],
   "source": [
    "Ntpc = raw_data[raw_data.Symbol == \"NTPC\"]\n",
    "plt.plot(Ntpc.Date, Ntpc['Close'], label='Close')\n",
    "plt.plot(Ntpc.Date, Ntpc['SMA-200'], label='SMA-200', color='green')\n",
    "plt.plot(Ntpc.Date, Ntpc['EMA-200'], label='EMA-200', color='red')\n",
    "plt.legend(loc='upper left')\n",
    "plt.show()"
   ]
  },
  {
   "cell_type": "code",
   "execution_count": null,
   "metadata": {},
   "outputs": [],
   "source": [
    "Ofss = raw_data[raw_data.Symbol == \"OFSS\"]\n",
    "plt.plot(Ofss.Date, Ofss['Close'], label='Close')\n",
    "plt.plot(Ofss.Date, Ofss['SMA-200'], label='SMA-200', color='green')\n",
    "plt.plot(Ofss.Date, Ofss['EMA-200'], label='EMA-200', color='red')\n",
    "plt.legend(loc='upper left')\n",
    "plt.show()"
   ]
  },
  {
   "cell_type": "code",
   "execution_count": null,
   "metadata": {},
   "outputs": [],
   "source": [
    "Ongc = raw_data[raw_data.Symbol == \"ONGC\"]\n",
    "plt.plot(Ongc.Date, Ongc['Close'], label='Close')\n",
    "plt.plot(Ongc.Date, Ongc['SMA-200'], label='SMA-200', color='green')\n",
    "plt.plot(Ongc.Date, Ongc['EMA-200'], label='EMA-200', color='red')\n",
    "plt.legend(loc='upper left')\n",
    "plt.show()"
   ]
  },
  {
   "cell_type": "code",
   "execution_count": null,
   "metadata": {},
   "outputs": [],
   "source": [
    "PageInd = raw_data[raw_data.Symbol == \"PAGEIND\"]\n",
    "plt.plot(PageInd.Date, PageInd['Close'], label='Close')\n",
    "plt.plot(PageInd.Date, PageInd['SMA-200'], label='SMA-200', color='green')\n",
    "plt.plot(PageInd.Date, PageInd['EMA-200'], label='EMA-200', color='red')\n",
    "plt.legend(loc='upper left')\n",
    "plt.show()"
   ]
  },
  {
   "cell_type": "code",
   "execution_count": null,
   "metadata": {},
   "outputs": [],
   "source": [
    "Pel = raw_data[raw_data.Symbol == \"PEL\"]\n",
    "plt.plot(Pel.Date, Pel['Close'], label='Close')\n",
    "plt.plot(Pel.Date, Pel['SMA-200'], label='SMA-200', color='green')\n",
    "plt.plot(Pel.Date, Pel['EMA-200'], label='EMA-200', color='red')\n",
    "plt.legend(loc='upper left')\n",
    "plt.show()"
   ]
  },
  {
   "cell_type": "code",
   "execution_count": null,
   "metadata": {},
   "outputs": [],
   "source": [
    "PetroNet = raw_data[raw_data.Symbol == \"PETRONET\"]\n",
    "plt.plot(PetroNet.Date, PetroNet['Close'], label='Close')\n",
    "plt.plot(PetroNet.Date, PetroNet['SMA-200'], label='SMA-200', color='green')\n",
    "plt.plot(PetroNet.Date, PetroNet['EMA-200'], label='EMA-200', color='red')\n",
    "plt.legend(loc='upper left')\n",
    "plt.show()"
   ]
  },
  {
   "cell_type": "code",
   "execution_count": null,
   "metadata": {},
   "outputs": [],
   "source": [
    "Pfc = raw_data[raw_data.Symbol == \"PFC\"]\n",
    "plt.plot(Pfc.Date, Pfc['Close'], label='Close')\n",
    "plt.plot(Pfc.Date, Pfc['SMA-200'], label='SMA-200', color='green')\n",
    "plt.plot(Pfc.Date, Pfc['EMA-200'], label='EMA-200', color='red')\n",
    "plt.legend(loc='upper left')\n",
    "plt.show()"
   ]
  },
  {
   "cell_type": "code",
   "execution_count": null,
   "metadata": {},
   "outputs": [],
   "source": [
    "Pghh = raw_data[raw_data.Symbol == \"PGHH\"]\n",
    "plt.plot(Pghh.Date, Pghh['Close'], label='Close')\n",
    "plt.plot(Pghh.Date, Pghh['SMA-200'], label='SMA-200', color='green')\n",
    "plt.plot(Pghh.Date, Pghh['EMA-200'], label='EMA-200', color='red')\n",
    "plt.legend(loc='upper left')\n",
    "plt.show()"
   ]
  },
  {
   "cell_type": "code",
   "execution_count": null,
   "metadata": {},
   "outputs": [],
   "source": [
    "PidiLitInd = raw_data[raw_data.Symbol == \"PIDILITIND\"]\n",
    "plt.plot(PidiLitInd.Date, PidiLitInd['Close'], label='Close')\n",
    "plt.plot(PidiLitInd.Date, PidiLitInd['SMA-200'], label='SMA-200', color='green')\n",
    "plt.plot(PidiLitInd.Date, PidiLitInd['EMA-200'], label='EMA-200', color='red')\n",
    "plt.legend(loc='upper left')\n",
    "plt.show()"
   ]
  },
  {
   "cell_type": "code",
   "execution_count": null,
   "metadata": {},
   "outputs": [],
   "source": [
    "Pnb = raw_data[raw_data.Symbol == \"PNB\"]\n",
    "plt.plot(Pnb.Date, Pnb['Close'], label='Close')\n",
    "plt.plot(Pnb.Date, Pnb['SMA-200'], label='SMA-200', color='green')\n",
    "plt.plot(Pnb.Date, Pnb['EMA-200'], label='EMA-200', color='red')\n",
    "plt.legend(loc='upper left')\n",
    "plt.show()"
   ]
  },
  {
   "cell_type": "code",
   "execution_count": null,
   "metadata": {},
   "outputs": [],
   "source": [
    "PowerGrid = raw_data[raw_data.Symbol == \"POWERGRID\"]\n",
    "plt.plot(PowerGrid.Date, PowerGrid['Close'], label='Close')\n",
    "plt.plot(PowerGrid.Date, PowerGrid['SMA-200'], label='SMA-200', color='green')\n",
    "plt.plot(PowerGrid.Date, PowerGrid['EMA-200'], label='EMA-200', color='red')\n",
    "plt.legend(loc='upper left')\n",
    "plt.show()"
   ]
  },
  {
   "cell_type": "code",
   "execution_count": null,
   "metadata": {},
   "outputs": [],
   "source": [
    "Reliance = raw_data[raw_data.Symbol == \"RELIANCE\"]\n",
    "plt.plot(Reliance.Date, Reliance['Close'], label='Close')\n",
    "plt.plot(Reliance.Date, Reliance['SMA-200'], label='SMA-200', color='green')\n",
    "plt.plot(Reliance.Date, Reliance['EMA-200'], label='EMA-200', color='red')\n",
    "plt.legend(loc='upper left')\n",
    "plt.show()"
   ]
  },
  {
   "cell_type": "code",
   "execution_count": null,
   "metadata": {},
   "outputs": [],
   "source": [
    "Sbicard = raw_data[raw_data.Symbol == \"SBICARD\"]\n",
    "plt.plot(Sbicard.Date, Sbicard['Close'], label='Close')\n",
    "plt.plot(Sbicard.Date, Sbicard['SMA-200'], label='SMA-200', color='green')\n",
    "plt.plot(Sbicard.Date, Sbicard['EMA-200'], label='EMA-200', color='red')\n",
    "plt.legend(loc='upper left')\n",
    "plt.show()"
   ]
  },
  {
   "cell_type": "code",
   "execution_count": null,
   "metadata": {},
   "outputs": [],
   "source": [
    "SbiLife = raw_data[raw_data.Symbol == \"SBILIFE\"]\n",
    "plt.plot(SbiLife.Date, SbiLife['Close'], label='Close')\n",
    "plt.plot(SbiLife.Date, SbiLife['SMA-200'], label='SMA-200', color='green')\n",
    "plt.plot(SbiLife.Date, SbiLife['EMA-200'], label='EMA-200', color='red')\n",
    "plt.legend(loc='upper left')\n",
    "plt.show()"
   ]
  },
  {
   "cell_type": "code",
   "execution_count": null,
   "metadata": {},
   "outputs": [],
   "source": [
    "Sbin = raw_data[raw_data.Symbol == \"SBIN\"]\n",
    "plt.plot(Sbin.Date, Sbin['Close'], label='Close')\n",
    "plt.plot(Sbin.Date, Sbin['SMA-200'], label='SMA-200', color='green')\n",
    "plt.plot(Sbin.Date, Sbin['EMA-200'], label='EMA-200', color='red')\n",
    "plt.legend(loc='upper left')\n",
    "plt.show()"
   ]
  },
  {
   "cell_type": "code",
   "execution_count": null,
   "metadata": {},
   "outputs": [],
   "source": [
    "ShreeCem = raw_data[raw_data.Symbol == \"SHREECEM\"]\n",
    "plt.plot(ShreeCem.Date, ShreeCem['Close'], label='Close')\n",
    "plt.plot(ShreeCem.Date, ShreeCem['SMA-200'], label='SMA-200', color='green')\n",
    "plt.plot(ShreeCem.Date, ShreeCem['EMA-200'], label='EMA-200', color='red')\n",
    "plt.legend(loc='upper left')\n",
    "plt.show()"
   ]
  },
  {
   "cell_type": "code",
   "execution_count": null,
   "metadata": {},
   "outputs": [],
   "source": [
    "Siemens = raw_data[raw_data.Symbol == \"SIEMENS\"]\n",
    "plt.plot(Siemens.Date, Siemens['Close'], label='Close')\n",
    "plt.plot(Siemens.Date, Siemens['SMA-200'], label='SMA-200', color='green')\n",
    "plt.plot(Siemens.Date, Siemens['EMA-200'], label='EMA-200', color='red')\n",
    "plt.legend(loc='upper left')\n",
    "plt.show()"
   ]
  },
  {
   "cell_type": "code",
   "execution_count": null,
   "metadata": {},
   "outputs": [],
   "source": [
    "SRTransFin = raw_data[raw_data.Symbol == \"SRTRANSFIN\"]\n",
    "plt.plot(SRTransFin.Date, SRTransFin['Close'], label='Close')\n",
    "plt.plot(SRTransFin.Date, SRTransFin['SMA-200'], label='SMA-200', color='green')\n",
    "plt.plot(SRTransFin.Date, SRTransFin['EMA-200'], label='EMA-200', color='red')\n",
    "plt.legend(loc='upper left')\n",
    "plt.show()"
   ]
  },
  {
   "cell_type": "code",
   "execution_count": null,
   "metadata": {},
   "outputs": [],
   "source": [
    "SunPharma = raw_data[raw_data.Symbol == \"SUNPHARMA\"]\n",
    "plt.plot(SunPharma.Date, SunPharma['Close'], label='Close')\n",
    "plt.plot(SunPharma.Date, SunPharma['SMA-200'], label='SMA-200', color='green')\n",
    "plt.plot(SunPharma.Date, SunPharma['EMA-200'], label='EMA-200', color='red')\n",
    "plt.legend(loc='upper left')\n",
    "plt.show()"
   ]
  },
  {
   "cell_type": "code",
   "execution_count": null,
   "metadata": {},
   "outputs": [],
   "source": [
    "TataMotors = raw_data[raw_data.Symbol == \"TATAMOTORS\"]\n",
    "plt.plot(TataMotors.Date, TataMotors['Close'], label='Close')\n",
    "plt.plot(TataMotors.Date, TataMotors['SMA-200'], label='SMA-200', color='green')\n",
    "plt.plot(TataMotors.Date, TataMotors['EMA-200'], label='EMA-200', color='red')\n",
    "plt.legend(loc='upper left')\n",
    "plt.show()"
   ]
  },
  {
   "cell_type": "code",
   "execution_count": null,
   "metadata": {},
   "outputs": [],
   "source": [
    "TataSteel = raw_data[raw_data.Symbol == \"TATASTEEL\"]\n",
    "plt.plot(TataSteel.Date, TataSteel['Close'], label='Close')\n",
    "plt.plot(TataSteel.Date, TataSteel['SMA-200'], label='SMA-200', color='green')\n",
    "plt.plot(TataSteel.Date, TataSteel['EMA-200'], label='EMA-200', color='red')\n",
    "plt.legend(loc='upper left')\n",
    "plt.show()"
   ]
  },
  {
   "cell_type": "code",
   "execution_count": null,
   "metadata": {},
   "outputs": [],
   "source": [
    "Tcs = raw_data[raw_data.Symbol == \"TCS\"]\n",
    "plt.plot(Tcs.Date, Tcs['Close'], label='Close')\n",
    "plt.plot(Tcs.Date, Tcs['SMA-200'], label='SMA-200', color='green')\n",
    "plt.plot(Tcs.Date, Tcs['EMA-200'], label='EMA-200', color='red')\n",
    "plt.legend(loc='upper left')\n",
    "plt.show()"
   ]
  },
  {
   "cell_type": "code",
   "execution_count": null,
   "metadata": {},
   "outputs": [],
   "source": [
    "TechM = raw_data[raw_data.Symbol == \"TECHM\"]\n",
    "plt.plot(TechM.Date, TechM['Close'], label='Close')\n",
    "plt.plot(TechM.Date, TechM['SMA-200'], label='SMA-200', color='green')\n",
    "plt.plot(TechM.Date, TechM['EMA-200'], label='EMA-200', color='red')\n",
    "plt.legend(loc='upper left')\n",
    "plt.show()"
   ]
  },
  {
   "cell_type": "code",
   "execution_count": null,
   "metadata": {},
   "outputs": [],
   "source": [
    "Titan = raw_data[raw_data.Symbol == \"TITAN\"]\n",
    "plt.plot(Titan.Date, Titan['Close'], label='Close')\n",
    "plt.plot(Titan.Date, Titan['SMA-200'], label='SMA-200', color='green')\n",
    "plt.plot(Titan.Date, Titan['EMA-200'], label='EMA-200', color='red')\n",
    "plt.legend(loc='upper left')\n",
    "plt.show()"
   ]
  },
  {
   "cell_type": "code",
   "execution_count": null,
   "metadata": {},
   "outputs": [],
   "source": [
    "TorntPharm = raw_data[raw_data.Symbol == \"TORNTPHARM\"]\n",
    "plt.plot(TorntPharm.Date, TorntPharm['Close'], label='Close')\n",
    "plt.plot(TorntPharm.Date, TorntPharm['SMA-200'], label='SMA-200', color='green')\n",
    "plt.plot(TorntPharm.Date, TorntPharm['EMA-200'], label='EMA-200', color='red')\n",
    "plt.legend(loc='upper left')\n",
    "plt.show()"
   ]
  },
  {
   "cell_type": "code",
   "execution_count": null,
   "metadata": {},
   "outputs": [],
   "source": [
    "Ubl = raw_data[raw_data.Symbol == \"UBL\"]\n",
    "plt.plot(Ubl.Date, Ubl['Close'], label='Close')\n",
    "plt.plot(Ubl.Date, Ubl['SMA-200'], label='SMA-200', color='green')\n",
    "plt.plot(Ubl.Date, Ubl['EMA-200'], label='EMA-200', color='red')\n",
    "plt.legend(loc='upper left')\n",
    "plt.show()"
   ]
  },
  {
   "cell_type": "code",
   "execution_count": null,
   "metadata": {},
   "outputs": [],
   "source": [
    "UltraCemCo = raw_data[raw_data.Symbol == \"ULTRACEMCO\"]\n",
    "plt.plot(UltraCemCo.Date, UltraCemCo['Close'], label='Close')\n",
    "plt.plot(UltraCemCo.Date, UltraCemCo['SMA-200'], label='SMA-200', color='green')\n",
    "plt.plot(UltraCemCo.Date, UltraCemCo['EMA-200'], label='EMA-200', color='red')\n",
    "plt.legend(loc='upper left')\n",
    "plt.show()"
   ]
  },
  {
   "cell_type": "code",
   "execution_count": null,
   "metadata": {},
   "outputs": [],
   "source": [
    "Upl = raw_data[raw_data.Symbol == \"UPL\"]\n",
    "plt.plot(Upl.Date, Upl['Close'], label='Close')\n",
    "plt.plot(Upl.Date, Upl['SMA-200'], label='SMA-200', color='green')\n",
    "plt.plot(Upl.Date, Upl['EMA-200'], label='EMA-200', color='red')\n",
    "plt.legend(loc='upper left')\n",
    "plt.show()"
   ]
  },
  {
   "cell_type": "code",
   "execution_count": null,
   "metadata": {},
   "outputs": [],
   "source": [
    "Wipro = raw_data[raw_data.Symbol == \"WIPRO\"]\n",
    "plt.plot(Wipro.Date, Wipro['Close'], label='Close')\n",
    "plt.plot(Wipro.Date, Wipro['SMA-200'], label='SMA-200', color='green')\n",
    "plt.plot(Wipro.Date, Wipro['EMA-200'], label='EMA-200', color='red')\n",
    "plt.legend(loc='upper left')\n",
    "plt.show()"
   ]
  },
  {
   "cell_type": "code",
   "execution_count": null,
   "metadata": {},
   "outputs": [],
   "source": [
    "Zeel = raw_data[raw_data.Symbol == \"ZEEL\"]\n",
    "plt.plot(Zeel.Date, Zeel['Close'], label='Close')\n",
    "plt.plot(Zeel.Date, Zeel['SMA-200'], label='SMA-200', color='green')\n",
    "plt.plot(Zeel.Date, Zeel['EMA-200'], label='EMA-200', color='red')\n",
    "plt.legend(loc='upper left')\n",
    "plt.show()"
   ]
  },
  {
   "cell_type": "code",
   "execution_count": null,
   "metadata": {},
   "outputs": [],
   "source": []
  },
  {
   "cell_type": "code",
   "execution_count": null,
   "metadata": {},
   "outputs": [],
   "source": []
  },
  {
   "cell_type": "code",
   "execution_count": null,
   "metadata": {},
   "outputs": [],
   "source": []
  },
  {
   "cell_type": "code",
   "execution_count": null,
   "metadata": {},
   "outputs": [],
   "source": []
  },
  {
   "cell_type": "code",
   "execution_count": null,
   "metadata": {},
   "outputs": [],
   "source": []
  },
  {
   "cell_type": "code",
   "execution_count": null,
   "metadata": {},
   "outputs": [],
   "source": []
  },
  {
   "cell_type": "code",
   "execution_count": null,
   "metadata": {},
   "outputs": [],
   "source": []
  },
  {
   "cell_type": "code",
   "execution_count": null,
   "metadata": {},
   "outputs": [],
   "source": []
  },
  {
   "cell_type": "code",
   "execution_count": null,
   "metadata": {},
   "outputs": [],
   "source": []
  }
 ],
 "metadata": {
  "kernelspec": {
   "display_name": "Python 3",
   "language": "python",
   "name": "python3"
  },
  "language_info": {
   "codemirror_mode": {
    "name": "ipython",
    "version": 3
   },
   "file_extension": ".py",
   "mimetype": "text/x-python",
   "name": "python",
   "nbconvert_exporter": "python",
   "pygments_lexer": "ipython3",
   "version": "3.7.6"
  }
 },
 "nbformat": 4,
 "nbformat_minor": 4
}
