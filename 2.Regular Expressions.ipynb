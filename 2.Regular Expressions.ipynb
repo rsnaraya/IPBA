{
 "cells": [
  {
   "cell_type": "code",
   "execution_count": null,
   "metadata": {},
   "outputs": [],
   "source": [
    "#Extract patterns from String"
   ]
  },
  {
   "cell_type": "code",
   "execution_count": 2,
   "metadata": {},
   "outputs": [],
   "source": [
    "text = \"1998 The film Titanic was released in year\""
   ]
  },
  {
   "cell_type": "code",
   "execution_count": 4,
   "metadata": {},
   "outputs": [
    {
     "data": {
      "text/plain": [
       "0"
      ]
     },
     "execution_count": 4,
     "metadata": {},
     "output_type": "execute_result"
    }
   ],
   "source": [
    "text.find(\"1998\")"
   ]
  },
  {
   "cell_type": "code",
   "execution_count": 6,
   "metadata": {},
   "outputs": [
    {
     "name": "stdout",
     "output_type": "stream",
     "text": [
      "1998 The film Titanic was released in year\n"
     ]
    }
   ],
   "source": [
    "if text.find(\"film\")>=0:\n",
    "    print(text)"
   ]
  },
  {
   "cell_type": "markdown",
   "metadata": {},
   "source": [
    "Basic meta charecters used in regular expressions\n",
    "\n",
    "    . -> matches a single character\n",
    "    * -> matches zero or more occourrence of the previous charecter\n",
    "    + -> matches one or more occourrence of the previous charecter\n",
    "    ^ -> matches any character start of a string\n",
    "    $ -> matches any character end of a string\n",
    "    [] -> matches one of the set of characters within []\n",
    "    [a-z] -> matches on of the range of characters in lowercase alphabet\n",
    "    [^abc] -> matches a character that is not a, b, or c"
   ]
  },
  {
   "cell_type": "markdown",
   "metadata": {},
   "source": [
    "## Whats the purpose of regular expressions?\n",
    "\n",
    "Regular Expressions are extensively used for:\n",
    "       \n",
    "        1.To Extract insignts about the text -> search() and findall()\n",
    "        2.To Clean the text -> sub()"
   ]
  },
  {
   "cell_type": "code",
   "execution_count": 7,
   "metadata": {},
   "outputs": [],
   "source": [
    "import re"
   ]
  },
  {
   "cell_type": "code",
   "execution_count": null,
   "metadata": {},
   "outputs": [],
   "source": [
    "#re.search returns a match object, if the pattern is present in the string"
   ]
  },
  {
   "cell_type": "code",
   "execution_count": 8,
   "metadata": {},
   "outputs": [],
   "source": [
    "text = \"1998 The film Titanic was release in year. The year 1998 was very glorous\""
   ]
  },
  {
   "cell_type": "code",
   "execution_count": 9,
   "metadata": {
    "collapsed": true
   },
   "outputs": [
    {
     "data": {
      "text/plain": [
       "<re.Match object; span=(0, 4), match='1998'>"
      ]
     },
     "execution_count": 9,
     "metadata": {},
     "output_type": "execute_result"
    }
   ],
   "source": [
    "match = re.search(\"1998\", text)\n",
    "match"
   ]
  },
  {
   "cell_type": "code",
   "execution_count": 10,
   "metadata": {
    "collapsed": true
   },
   "outputs": [
    {
     "data": {
      "text/plain": [
       "'1998'"
      ]
     },
     "execution_count": 10,
     "metadata": {},
     "output_type": "execute_result"
    }
   ],
   "source": [
    "#Returns the first occurrence of the pattern\n",
    "match.group()"
   ]
  },
  {
   "cell_type": "code",
   "execution_count": 11,
   "metadata": {
    "collapsed": true
   },
   "outputs": [
    {
     "data": {
      "text/plain": [
       "(0, 4)"
      ]
     },
     "execution_count": 11,
     "metadata": {},
     "output_type": "execute_result"
    }
   ],
   "source": [
    "#Returns the starting index and ending index of the matched pattern\n",
    "match.span()"
   ]
  },
  {
   "cell_type": "code",
   "execution_count": 14,
   "metadata": {},
   "outputs": [],
   "source": [
    "match = re.search(\"1996\", text)"
   ]
  },
  {
   "cell_type": "code",
   "execution_count": 13,
   "metadata": {},
   "outputs": [
    {
     "ename": "AttributeError",
     "evalue": "'NoneType' object has no attribute 'group'",
     "output_type": "error",
     "traceback": [
      "\u001b[1;31m---------------------------------------------------------------------------\u001b[0m",
      "\u001b[1;31mAttributeError\u001b[0m                            Traceback (most recent call last)",
      "\u001b[1;32m<ipython-input-13-6b4ba0f981fe>\u001b[0m in \u001b[0;36m<module>\u001b[1;34m\u001b[0m\n\u001b[0;32m      1\u001b[0m \u001b[1;31m#Find out the reason for the below error, provide a fix to the below error\u001b[0m\u001b[1;33m\u001b[0m\u001b[1;33m\u001b[0m\u001b[1;33m\u001b[0m\u001b[0m\n\u001b[1;32m----> 2\u001b[1;33m \u001b[0mmatch\u001b[0m\u001b[1;33m.\u001b[0m\u001b[0mgroup\u001b[0m\u001b[1;33m(\u001b[0m\u001b[1;33m)\u001b[0m\u001b[1;33m\u001b[0m\u001b[1;33m\u001b[0m\u001b[0m\n\u001b[0m",
      "\u001b[1;31mAttributeError\u001b[0m: 'NoneType' object has no attribute 'group'"
     ]
    }
   ],
   "source": [
    "#Find out the reason for the below error, provide a fix to the below error\n",
    "match.group()"
   ]
  },
  {
   "cell_type": "code",
   "execution_count": 15,
   "metadata": {},
   "outputs": [
    {
     "name": "stdout",
     "output_type": "stream",
     "text": [
      "pattern not found in the text\n"
     ]
    }
   ],
   "source": [
    "#if the match object is present then print the message, pattern found\n",
    "if match:\n",
    "    print(\"pattern \",match.group(), \" found in the text\")\n",
    "else:\n",
    "    print(\"pattern not found in the text\")"
   ]
  },
  {
   "cell_type": "code",
   "execution_count": 16,
   "metadata": {},
   "outputs": [
    {
     "name": "stdout",
     "output_type": "stream",
     "text": [
      "pattern found in the text\n",
      "the matched pattern is 1998\n"
     ]
    }
   ],
   "source": [
    "match = re.search(\"^1998\", text)\n",
    "if match: # ^ to check from Begining \n",
    "    print(\"pattern found in the text\")\n",
    "    print(\"the matched pattern is\",match.group())"
   ]
  },
  {
   "cell_type": "code",
   "execution_count": 17,
   "metadata": {},
   "outputs": [
    {
     "name": "stdout",
     "output_type": "stream",
     "text": [
      "pattern found in the text\n",
      "the matched pattern is 1998 \n",
      "the length of the matched pattern is 5\n"
     ]
    }
   ],
   "source": [
    "result = re.search(\"^1998 \", text)\n",
    "if result: # ^ to check from Begining \n",
    "    print(\"pattern found in the text\")\n",
    "    print(\"the matched pattern is\",result.group())\n",
    "    length = result.span()[1]-result.span()[0]\n",
    "    print(\"the length of the matched pattern is\",length)"
   ]
  },
  {
   "cell_type": "code",
   "execution_count": 18,
   "metadata": {},
   "outputs": [],
   "source": [
    "text = \"The film Titanic was released in year 1998 and was a hit till the year 2000 \\n5000 was the cost of the mobile\\ni baragined it to\""
   ]
  },
  {
   "cell_type": "code",
   "execution_count": 19,
   "metadata": {},
   "outputs": [
    {
     "name": "stdout",
     "output_type": "stream",
     "text": [
      "The film Titanic was released in year 1998 and was a hit till the year 2000 \n",
      "5000 was the cost of the mobile\n",
      "i baragined it to\n"
     ]
    }
   ],
   "source": [
    "print(text)"
   ]
  },
  {
   "cell_type": "code",
   "execution_count": 20,
   "metadata": {},
   "outputs": [
    {
     "data": {
      "text/plain": [
       "['The film Titanic was released in year 1998 and was a hit till the year 2000 ',\n",
       " '5000 was the cost of the mobile',\n",
       " 'i baragined it to']"
      ]
     },
     "execution_count": 20,
     "metadata": {},
     "output_type": "execute_result"
    }
   ],
   "source": [
    "text.split(\"\\n\")"
   ]
  },
  {
   "cell_type": "code",
   "execution_count": 21,
   "metadata": {},
   "outputs": [
    {
     "name": "stdout",
     "output_type": "stream",
     "text": [
      "The film Titanic was released in year 1998 and was a hit till the year 2000 \n",
      "5000 was the cost of the mobile\n"
     ]
    }
   ],
   "source": [
    "#Checking for lines containing one or more digits and printing those lines\n",
    "for line in text.split(\"\\n\"):\n",
    "    find = re.search(\"[0-9]+\",line)\n",
    "    if find: \n",
    "        print(line)"
   ]
  },
  {
   "cell_type": "code",
   "execution_count": 22,
   "metadata": {},
   "outputs": [
    {
     "name": "stdout",
     "output_type": "stream",
     "text": [
      "5000 was the cost of the mobile\n"
     ]
    }
   ],
   "source": [
    "#Checking for lines beginning with one or more digits\n",
    "for line in text.split(\"\\n\"):\n",
    "    find = re.search(\"^[0-9]+\",line)\n",
    "    if find: \n",
    "        print(line)"
   ]
  },
  {
   "cell_type": "code",
   "execution_count": 23,
   "metadata": {},
   "outputs": [],
   "source": [
    "#Checking for lines ending with one or more digits\n",
    "for line in text.split(\"\\n\"):\n",
    "    find = re.search(\"[0-9]+$\",line)\n",
    "    if find: \n",
    "        print(line)"
   ]
  },
  {
   "cell_type": "code",
   "execution_count": 24,
   "metadata": {},
   "outputs": [
    {
     "name": "stdout",
     "output_type": "stream",
     "text": [
      "The film Titanic was released in year 1998 and was a hit till the year 2000\n"
     ]
    }
   ],
   "source": [
    "for line in text.split(\"\\n\"):\n",
    "    line = line.strip()\n",
    "    find = re.search(\"[0-9]+$\",line)\n",
    "    if find: \n",
    "        print(line)"
   ]
  },
  {
   "cell_type": "markdown",
   "metadata": {},
   "source": [
    " Extended Regular Expressions:\n",
    " \n",
    "     \\d -> Any digit, equivalent to [0-9]\n",
    "     \\D -> Any non-digit, equivalent to [^0-9]\n",
    "     \\s -> Any whitespace, equivalent to [ \\t\\n\\r]\n",
    "    \\S -> Any nonwhitespace, equivalent to [a-zA-Z0-9_]\n",
    "    \\w -> Any alphanumeric, equivalent to [a-zA-Z0-9_]\n",
    "    \\W -> Non-alphanumeric, equivalent to [^a-zA-Z0-9_]\n",
    "  \n",
    "    () -> Scoping for extraction\n",
    "    ? -> make the pattern non greedy\n",
    "    {n} -> multiplicity of the pattern"
   ]
  },
  {
   "cell_type": "code",
   "execution_count": 25,
   "metadata": {},
   "outputs": [],
   "source": [
    "text = 'A message from csev@umich.edu to cwen@iupui.edu about meeting @2PM'"
   ]
  },
  {
   "cell_type": "code",
   "execution_count": 26,
   "metadata": {},
   "outputs": [
    {
     "name": "stdout",
     "output_type": "stream",
     "text": [
      "csev@umich.edu\n"
     ]
    }
   ],
   "source": [
    "# Extract the Email ID's from the text\n",
    "match = re.search(\"\\S+@\\S+\", text)\n",
    "print(match.group())"
   ]
  },
  {
   "cell_type": "code",
   "execution_count": 27,
   "metadata": {},
   "outputs": [
    {
     "data": {
      "text/plain": [
       "['csev@umich.edu', 'cwen@iupui.edu']"
      ]
     },
     "execution_count": 27,
     "metadata": {},
     "output_type": "execute_result"
    }
   ],
   "source": [
    "re.findall(\"\\S+@\\S+\", text)"
   ]
  },
  {
   "cell_type": "code",
   "execution_count": 29,
   "metadata": {},
   "outputs": [
    {
     "data": {
      "text/plain": [
       "['umich.edu', 'iupui.edu']"
      ]
     },
     "execution_count": 29,
     "metadata": {},
     "output_type": "execute_result"
    }
   ],
   "source": [
    "#spcify Scoping to extract only the domain\n",
    "re.findall(\"\\S+@(\\S+)\", text)"
   ]
  },
  {
   "cell_type": "code",
   "execution_count": 30,
   "metadata": {},
   "outputs": [
    {
     "data": {
      "text/plain": [
       "['csev', 'cwen']"
      ]
     },
     "execution_count": 30,
     "metadata": {},
     "output_type": "execute_result"
    }
   ],
   "source": [
    "#Extract the email ID portion excluding the domain\n",
    "re.findall(\"(\\S+)@\\S+\", text)"
   ]
  },
  {
   "cell_type": "code",
   "execution_count": 31,
   "metadata": {},
   "outputs": [
    {
     "name": "stdout",
     "output_type": "stream",
     "text": [
      " @2PM\n"
     ]
    }
   ],
   "source": [
    "#What does the below code do?\n",
    "match = re.search(\"\\s+@\\S+\", text)\n",
    "print(match.group())"
   ]
  },
  {
   "cell_type": "code",
   "execution_count": 32,
   "metadata": {},
   "outputs": [
    {
     "name": "stdout",
     "output_type": "stream",
     "text": [
      "The film Titanic was released in year 1998 and was a hit till the year 2000 \n",
      "5000 was the cost of the mobile\n",
      "i baragined it to a lower price\n"
     ]
    }
   ],
   "source": [
    "text = \"The film Titanic was released in year 1998 and was a hit till the year 2000 \\n5000 was the cost of the mobile\\ni baragined it to a lower price\"\n",
    "print(text)"
   ]
  },
  {
   "cell_type": "code",
   "execution_count": 33,
   "metadata": {},
   "outputs": [
    {
     "name": "stdout",
     "output_type": "stream",
     "text": [
      "['1998', '2000']\n",
      "['5000']\n",
      "[]\n"
     ]
    }
   ],
   "source": [
    "#Find all the years which is mentioned in each line of the text\n",
    "for line in text.split(\"\\n\"):\n",
    "    line = line.strip()\n",
    "    result = re.findall(\"[0-9]+\",line)\n",
    "    print(result)"
   ]
  },
  {
   "cell_type": "code",
   "execution_count": 34,
   "metadata": {},
   "outputs": [
    {
     "name": "stdout",
     "output_type": "stream",
     "text": [
      "['1998', '2000']\n",
      "['5000']\n"
     ]
    }
   ],
   "source": [
    "for line in text.split(\"\\n\"):\n",
    "    line = line.strip()\n",
    "    result = re.findall(\"[0-9]+\",line)\n",
    "    if len(result)>0:\n",
    "        print(result)"
   ]
  },
  {
   "cell_type": "code",
   "execution_count": 35,
   "metadata": {},
   "outputs": [
    {
     "name": "stdout",
     "output_type": "stream",
     "text": [
      "The film Titanic was released in year 98 and was a hit till the year 2000 \n",
      "5000 was the cost of the mobile\n",
      "i baragined it to\n"
     ]
    }
   ],
   "source": [
    "text = \"The film Titanic was released in year 98 and was a hit till the year 2000 \\n5000 was the cost of the mobile\\ni baragined it to\"\n",
    "print(text)"
   ]
  },
  {
   "cell_type": "code",
   "execution_count": 38,
   "metadata": {},
   "outputs": [
    {
     "name": "stdout",
     "output_type": "stream",
     "text": [
      "['2000']\n",
      "['5000']\n"
     ]
    }
   ],
   "source": [
    "for line in text.split(\"\\n\"):\n",
    "    line = line.strip()\n",
    "    find = re.findall(\"[0-9]{4}\",line)\n",
    "    if len(find)>0: \n",
    "        print(find)"
   ]
  },
  {
   "cell_type": "code",
   "execution_count": 39,
   "metadata": {},
   "outputs": [
    {
     "data": {
      "text/plain": [
       "['40000', '60000']"
      ]
     },
     "execution_count": 39,
     "metadata": {},
     "output_type": "execute_result"
    }
   ],
   "source": [
    "text = \"I want to buy laptop between 40000 to 60000 Rs\"\n",
    "# I want to extract all the digits from this text \n",
    "result = re.findall(\"\\d+\", text)\n",
    "result"
   ]
  },
  {
   "cell_type": "code",
   "execution_count": 41,
   "metadata": {},
   "outputs": [],
   "source": [
    "text = \"film ABC  @ was ? produced %  in , year $ 1994  .  'by'   Mr_X\""
   ]
  },
  {
   "cell_type": "code",
   "execution_count": 42,
   "metadata": {},
   "outputs": [
    {
     "data": {
      "text/plain": [
       "\"film ABC @ was ? produced % in , year $ 1994 . 'by' Mr_X\""
      ]
     },
     "execution_count": 42,
     "metadata": {},
     "output_type": "execute_result"
    }
   ],
   "source": [
    "#Removing multiple spaces with a single space\n",
    "result = re.sub(\"\\s+\", \" \", text)\n",
    "result"
   ]
  },
  {
   "cell_type": "code",
   "execution_count": 43,
   "metadata": {},
   "outputs": [
    {
     "data": {
      "text/plain": [
       "'film ABC  was  produced  in  year  1994  by MrX'"
      ]
     },
     "execution_count": 43,
     "metadata": {},
     "output_type": "execute_result"
    }
   ],
   "source": [
    "#Removing special charecters with nothing\n",
    "result1 = re.sub(\"[,@'?.$%_]\", \"\", result)\n",
    "result1"
   ]
  },
  {
   "cell_type": "code",
   "execution_count": 44,
   "metadata": {},
   "outputs": [
    {
     "data": {
      "text/plain": [
       "'film ABC  was  produced  in  year  1994  by MrX'"
      ]
     },
     "execution_count": 44,
     "metadata": {},
     "output_type": "execute_result"
    }
   ],
   "source": [
    "#Removing special charecters(non Alpha numeric and Space) with nothing\n",
    "re.sub(\"[^a-zA-Z0-9 ]\",\"\",result)"
   ]
  },
  {
   "cell_type": "code",
   "execution_count": 45,
   "metadata": {},
   "outputs": [
    {
     "data": {
      "text/plain": [
       "'film ABC  was  produced  in  year  1994  by Mr_X'"
      ]
     },
     "execution_count": 45,
     "metadata": {},
     "output_type": "execute_result"
    }
   ],
   "source": [
    "# \\W -> Alphanumeric with underscores\n",
    "#\\s -> Space\n",
    "re.sub(\"[^\\w\\s]\",\"\",result)"
   ]
  },
  {
   "cell_type": "code",
   "execution_count": 46,
   "metadata": {},
   "outputs": [],
   "source": [
    "text = \"\"\"this book costs between 5000 to 10000 rs. am i going to read this book?\n",
    "yes,this is very interesting\"\"\""
   ]
  },
  {
   "cell_type": "code",
   "execution_count": 47,
   "metadata": {},
   "outputs": [
    {
     "name": "stdout",
     "output_type": "stream",
     "text": [
      "this book costs between  to  rs. am i going to read this book?\n",
      "yes,this is very interesting\n"
     ]
    }
   ],
   "source": [
    "print(re.sub(\"[0-9]\",\"\",text))"
   ]
  },
  {
   "cell_type": "code",
   "execution_count": 48,
   "metadata": {},
   "outputs": [
    {
     "name": "stdout",
     "output_type": "stream",
     "text": [
      "this book costs between  to  rs. am i going to read this book?\n",
      "yes,this is very interesting\n"
     ]
    }
   ],
   "source": [
    "print(re.sub(\"[\\d]\",\"\",text))"
   ]
  },
  {
   "cell_type": "code",
   "execution_count": 49,
   "metadata": {},
   "outputs": [],
   "source": [
    "def remove_digit(text):\n",
    "    result = re.sub(\"\\d\", \"\", text)\n",
    "    return result"
   ]
  },
  {
   "cell_type": "code",
   "execution_count": 50,
   "metadata": {},
   "outputs": [
    {
     "name": "stdout",
     "output_type": "stream",
     "text": [
      "this book costs between  to  rs. am i going to read this book?\n",
      "yes,this is very interesting\n"
     ]
    }
   ],
   "source": [
    "print(remove_digit(text))"
   ]
  },
  {
   "cell_type": "code",
   "execution_count": 51,
   "metadata": {},
   "outputs": [
    {
     "data": {
      "text/plain": [
       "'this book costs between 5000 to 10000 rs am i going to read this bookyesthis is very interesting'"
      ]
     },
     "execution_count": 51,
     "metadata": {},
     "output_type": "execute_result"
    }
   ],
   "source": [
    "#removal of non alphabets and non digits\n",
    "re.sub(\"[^a-zA-Z0-9 _]\",\"\",text)"
   ]
  },
  {
   "cell_type": "code",
   "execution_count": 52,
   "metadata": {},
   "outputs": [
    {
     "data": {
      "text/plain": [
       "'this book costs between 5000 to 10000 rs am i going to read this bookyesthis is very interesting'"
      ]
     },
     "execution_count": 52,
     "metadata": {},
     "output_type": "execute_result"
    }
   ],
   "source": [
    "re.sub(\"[^\\w ]\",\"\",text)"
   ]
  },
  {
   "cell_type": "markdown",
   "metadata": {},
   "source": [
    "Removal of HTML Tag from text"
   ]
  },
  {
   "cell_type": "code",
   "execution_count": 61,
   "metadata": {},
   "outputs": [],
   "source": [
    "text = \"\"\"<div>\n",
    "<h1> H2O</h1>\n",
    "<p> AutoML</p>\n",
    "<a href=\"https://www.amazon.ai/products/h2o-driverless-ai/\"> Driverless AI</a>\n",
    "</div>\"\"\""
   ]
  },
  {
   "cell_type": "code",
   "execution_count": null,
   "metadata": {},
   "outputs": [],
   "source": [
    "#We can combine a regular expression pattern into pattern objects, \n",
    "#which can later be used for finding the pattern in the string\n",
    "html_pattern = re.compile('<.*?>') # one or more occourrence of any chatecter between < and >"
   ]
  },
  {
   "cell_type": "code",
   "execution_count": null,
   "metadata": {},
   "outputs": [],
   "source": [
    "#.* is greedy - it matches everything including the closing angular bracket >\n",
    "# .* should stop matching a pattern as soon as it encounters the closing angular bracket\n",
    "# henve use a \"?\" along with .* to make it non greedy"
   ]
  },
  {
   "cell_type": "code",
   "execution_count": null,
   "metadata": {},
   "outputs": [],
   "source": [
    "print(html_pattern.sub('', text))"
   ]
  },
  {
   "cell_type": "code",
   "execution_count": 60,
   "metadata": {},
   "outputs": [
    {
     "name": "stdout",
     "output_type": "stream",
     "text": [
      "\n",
      " H2O\n",
      " AutoML\n"
     ]
    }
   ],
   "source": [
    "print(re.sub('<.*?>',\"\",text))"
   ]
  },
  {
   "cell_type": "code",
   "execution_count": 57,
   "metadata": {},
   "outputs": [],
   "source": [
    "def remove_html(text):\n",
    "    html_pattern = re.compile('<.*?>') # Find out anything that is in between < & > symbol \n",
    "    return html_pattern.sub('', text)"
   ]
  },
  {
   "cell_type": "code",
   "execution_count": 58,
   "metadata": {},
   "outputs": [
    {
     "name": "stdout",
     "output_type": "stream",
     "text": [
      "\n",
      " H2O\n",
      " AutoML\n",
      " Driverless AI\n",
      "\n"
     ]
    }
   ],
   "source": [
    "print(remove_html(text))"
   ]
  },
  {
   "cell_type": "code",
   "execution_count": null,
   "metadata": {},
   "outputs": [],
   "source": []
  }
 ],
 "metadata": {
  "kernelspec": {
   "display_name": "Python 3",
   "language": "python",
   "name": "python3"
  },
  "language_info": {
   "codemirror_mode": {
    "name": "ipython",
    "version": 3
   },
   "file_extension": ".py",
   "mimetype": "text/x-python",
   "name": "python",
   "nbconvert_exporter": "python",
   "pygments_lexer": "ipython3",
   "version": "3.7.3"
  }
 },
 "nbformat": 4,
 "nbformat_minor": 2
}
