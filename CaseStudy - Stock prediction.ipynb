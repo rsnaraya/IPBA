{
 "cells": [
  {
   "cell_type": "code",
   "execution_count": 1,
   "metadata": {},
   "outputs": [],
   "source": [
    "import pandas as pd\n",
    "import numpy as np\n",
    "import matplotlib.pyplot as plt\n",
    "import os\n",
    "import re"
   ]
  },
  {
   "cell_type": "code",
   "execution_count": 2,
   "metadata": {},
   "outputs": [
    {
     "data": {
      "text/plain": [
       "'C:\\\\Users\\\\IN0202'"
      ]
     },
     "execution_count": 2,
     "metadata": {},
     "output_type": "execute_result"
    }
   ],
   "source": [
    "os.getcwd()"
   ]
  },
  {
   "cell_type": "code",
   "execution_count": 3,
   "metadata": {},
   "outputs": [],
   "source": [
    "os.chdir(r\"D:\\Personal\\Analytics course\\IPBA\\Case Study\")"
   ]
  },
  {
   "cell_type": "code",
   "execution_count": 5,
   "metadata": {},
   "outputs": [
    {
     "data": {
      "text/plain": [
       "'D:\\\\Personal\\\\Analytics course\\\\IPBA\\\\Case Study'"
      ]
     },
     "execution_count": 5,
     "metadata": {},
     "output_type": "execute_result"
    }
   ],
   "source": [
    "os.getcwd()"
   ]
  },
  {
   "cell_type": "code",
   "execution_count": 10,
   "metadata": {},
   "outputs": [],
   "source": [
    "raw_data = pd.read_excel(\"NSE 2018 data.xlsx\")"
   ]
  },
  {
   "cell_type": "code",
   "execution_count": 11,
   "metadata": {},
   "outputs": [
    {
     "data": {
      "text/html": [
       "<div>\n",
       "<style scoped>\n",
       "    .dataframe tbody tr th:only-of-type {\n",
       "        vertical-align: middle;\n",
       "    }\n",
       "\n",
       "    .dataframe tbody tr th {\n",
       "        vertical-align: top;\n",
       "    }\n",
       "\n",
       "    .dataframe thead th {\n",
       "        text-align: right;\n",
       "    }\n",
       "</style>\n",
       "<table border=\"1\" class=\"dataframe\">\n",
       "  <thead>\n",
       "    <tr style=\"text-align: right;\">\n",
       "      <th></th>\n",
       "      <th>SYMBOL</th>\n",
       "      <th>sector</th>\n",
       "      <th>OPEN</th>\n",
       "      <th>HIGH</th>\n",
       "      <th>LOW</th>\n",
       "      <th>CLOSE</th>\n",
       "      <th>TOTTRDQTY</th>\n",
       "      <th>TOTTRDVAL</th>\n",
       "      <th>TIMESTAMP</th>\n",
       "      <th>TOTALTRADES</th>\n",
       "    </tr>\n",
       "  </thead>\n",
       "  <tbody>\n",
       "    <tr>\n",
       "      <th>0</th>\n",
       "      <td>20MICRONS</td>\n",
       "      <td>Mining</td>\n",
       "      <td>58.95</td>\n",
       "      <td>60.70</td>\n",
       "      <td>57.90</td>\n",
       "      <td>58.75</td>\n",
       "      <td>156506</td>\n",
       "      <td>9316661.05</td>\n",
       "      <td>2018-01-01</td>\n",
       "      <td>1527</td>\n",
       "    </tr>\n",
       "    <tr>\n",
       "      <th>1</th>\n",
       "      <td>20MICRONS</td>\n",
       "      <td>Mining</td>\n",
       "      <td>58.75</td>\n",
       "      <td>60.55</td>\n",
       "      <td>57.65</td>\n",
       "      <td>58.05</td>\n",
       "      <td>173946</td>\n",
       "      <td>10190754.15</td>\n",
       "      <td>2018-01-02</td>\n",
       "      <td>994</td>\n",
       "    </tr>\n",
       "    <tr>\n",
       "      <th>2</th>\n",
       "      <td>20MICRONS</td>\n",
       "      <td>Mining</td>\n",
       "      <td>58.70</td>\n",
       "      <td>60.50</td>\n",
       "      <td>58.50</td>\n",
       "      <td>59.20</td>\n",
       "      <td>191320</td>\n",
       "      <td>11345473.80</td>\n",
       "      <td>2018-01-03</td>\n",
       "      <td>1004</td>\n",
       "    </tr>\n",
       "    <tr>\n",
       "      <th>3</th>\n",
       "      <td>20MICRONS</td>\n",
       "      <td>Mining</td>\n",
       "      <td>59.45</td>\n",
       "      <td>63.20</td>\n",
       "      <td>58.60</td>\n",
       "      <td>62.60</td>\n",
       "      <td>812025</td>\n",
       "      <td>50057113.35</td>\n",
       "      <td>2018-01-04</td>\n",
       "      <td>5189</td>\n",
       "    </tr>\n",
       "    <tr>\n",
       "      <th>4</th>\n",
       "      <td>20MICRONS</td>\n",
       "      <td>Mining</td>\n",
       "      <td>64.80</td>\n",
       "      <td>67.00</td>\n",
       "      <td>63.00</td>\n",
       "      <td>63.60</td>\n",
       "      <td>1129498</td>\n",
       "      <td>73646779.85</td>\n",
       "      <td>2018-01-05</td>\n",
       "      <td>7645</td>\n",
       "    </tr>\n",
       "    <tr>\n",
       "      <th>5</th>\n",
       "      <td>20MICRONS</td>\n",
       "      <td>Mining</td>\n",
       "      <td>64.00</td>\n",
       "      <td>64.25</td>\n",
       "      <td>61.05</td>\n",
       "      <td>61.65</td>\n",
       "      <td>298210</td>\n",
       "      <td>18580153.50</td>\n",
       "      <td>2018-01-08</td>\n",
       "      <td>2177</td>\n",
       "    </tr>\n",
       "    <tr>\n",
       "      <th>6</th>\n",
       "      <td>20MICRONS</td>\n",
       "      <td>Mining</td>\n",
       "      <td>62.15</td>\n",
       "      <td>64.70</td>\n",
       "      <td>60.00</td>\n",
       "      <td>62.50</td>\n",
       "      <td>509757</td>\n",
       "      <td>32010514.30</td>\n",
       "      <td>2018-01-09</td>\n",
       "      <td>2964</td>\n",
       "    </tr>\n",
       "    <tr>\n",
       "      <th>7</th>\n",
       "      <td>20MICRONS</td>\n",
       "      <td>Mining</td>\n",
       "      <td>62.60</td>\n",
       "      <td>63.30</td>\n",
       "      <td>60.25</td>\n",
       "      <td>60.95</td>\n",
       "      <td>183357</td>\n",
       "      <td>11290482.45</td>\n",
       "      <td>2018-01-10</td>\n",
       "      <td>1370</td>\n",
       "    </tr>\n",
       "    <tr>\n",
       "      <th>8</th>\n",
       "      <td>20MICRONS</td>\n",
       "      <td>Mining</td>\n",
       "      <td>60.95</td>\n",
       "      <td>62.50</td>\n",
       "      <td>60.30</td>\n",
       "      <td>61.10</td>\n",
       "      <td>162283</td>\n",
       "      <td>9945594.35</td>\n",
       "      <td>2018-01-11</td>\n",
       "      <td>1043</td>\n",
       "    </tr>\n",
       "    <tr>\n",
       "      <th>9</th>\n",
       "      <td>20MICRONS</td>\n",
       "      <td>Mining</td>\n",
       "      <td>61.70</td>\n",
       "      <td>62.30</td>\n",
       "      <td>57.00</td>\n",
       "      <td>59.80</td>\n",
       "      <td>227365</td>\n",
       "      <td>13683355.75</td>\n",
       "      <td>2018-01-12</td>\n",
       "      <td>1779</td>\n",
       "    </tr>\n",
       "  </tbody>\n",
       "</table>\n",
       "</div>"
      ],
      "text/plain": [
       "      SYMBOL  sector   OPEN   HIGH    LOW  CLOSE  TOTTRDQTY    TOTTRDVAL  \\\n",
       "0  20MICRONS  Mining  58.95  60.70  57.90  58.75     156506   9316661.05   \n",
       "1  20MICRONS  Mining  58.75  60.55  57.65  58.05     173946  10190754.15   \n",
       "2  20MICRONS  Mining  58.70  60.50  58.50  59.20     191320  11345473.80   \n",
       "3  20MICRONS  Mining  59.45  63.20  58.60  62.60     812025  50057113.35   \n",
       "4  20MICRONS  Mining  64.80  67.00  63.00  63.60    1129498  73646779.85   \n",
       "5  20MICRONS  Mining  64.00  64.25  61.05  61.65     298210  18580153.50   \n",
       "6  20MICRONS  Mining  62.15  64.70  60.00  62.50     509757  32010514.30   \n",
       "7  20MICRONS  Mining  62.60  63.30  60.25  60.95     183357  11290482.45   \n",
       "8  20MICRONS  Mining  60.95  62.50  60.30  61.10     162283   9945594.35   \n",
       "9  20MICRONS  Mining  61.70  62.30  57.00  59.80     227365  13683355.75   \n",
       "\n",
       "   TIMESTAMP  TOTALTRADES  \n",
       "0 2018-01-01         1527  \n",
       "1 2018-01-02          994  \n",
       "2 2018-01-03         1004  \n",
       "3 2018-01-04         5189  \n",
       "4 2018-01-05         7645  \n",
       "5 2018-01-08         2177  \n",
       "6 2018-01-09         2964  \n",
       "7 2018-01-10         1370  \n",
       "8 2018-01-11         1043  \n",
       "9 2018-01-12         1779  "
      ]
     },
     "execution_count": 11,
     "metadata": {},
     "output_type": "execute_result"
    }
   ],
   "source": [
    "raw_data.head(10)"
   ]
  },
  {
   "cell_type": "code",
   "execution_count": 12,
   "metadata": {},
   "outputs": [
    {
     "data": {
      "text/plain": [
       "(320754, 10)"
      ]
     },
     "execution_count": 12,
     "metadata": {},
     "output_type": "execute_result"
    }
   ],
   "source": [
    "raw_data.shape"
   ]
  },
  {
   "cell_type": "code",
   "execution_count": 13,
   "metadata": {},
   "outputs": [
    {
     "data": {
      "text/plain": [
       "SYMBOL             0\n",
       "sector         98041\n",
       "OPEN               0\n",
       "HIGH               0\n",
       "LOW                0\n",
       "CLOSE              0\n",
       "TOTTRDQTY          0\n",
       "TOTTRDVAL          0\n",
       "TIMESTAMP          0\n",
       "TOTALTRADES        0\n",
       "dtype: int64"
      ]
     },
     "execution_count": 13,
     "metadata": {},
     "output_type": "execute_result"
    }
   ],
   "source": [
    "raw_data.isnull().sum()"
   ]
  },
  {
   "cell_type": "code",
   "execution_count": null,
   "metadata": {},
   "outputs": [],
   "source": []
  },
  {
   "cell_type": "code",
   "execution_count": null,
   "metadata": {},
   "outputs": [],
   "source": []
  },
  {
   "cell_type": "code",
   "execution_count": null,
   "metadata": {},
   "outputs": [],
   "source": []
  },
  {
   "cell_type": "code",
   "execution_count": null,
   "metadata": {},
   "outputs": [],
   "source": []
  }
 ],
 "metadata": {
  "kernelspec": {
   "display_name": "Python 3",
   "language": "python",
   "name": "python3"
  },
  "language_info": {
   "codemirror_mode": {
    "name": "ipython",
    "version": 3
   },
   "file_extension": ".py",
   "mimetype": "text/x-python",
   "name": "python",
   "nbconvert_exporter": "python",
   "pygments_lexer": "ipython3",
   "version": "3.7.6"
  }
 },
 "nbformat": 4,
 "nbformat_minor": 4
}
