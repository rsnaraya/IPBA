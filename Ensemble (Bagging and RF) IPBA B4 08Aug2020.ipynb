{
 "cells": [
  {
   "cell_type": "markdown",
   "metadata": {},
   "source": [
    "# Bagging and Random Forest with OOB and K fold cross validation"
   ]
  },
  {
   "cell_type": "code",
   "execution_count": 1,
   "metadata": {},
   "outputs": [
    {
     "name": "stderr",
     "output_type": "stream",
     "text": [
      "UsageError: unrecognized arguments: # To do the visualization in Python\n"
     ]
    }
   ],
   "source": [
    "# importing important libraries\n",
    "import os\n",
    "import pandas as pd\n",
    "import numpy as np\n",
    "import matplotlib.pyplot as plt\n",
    "%matplotlib inline   # To do the visualization in Python"
   ]
  },
  {
   "cell_type": "code",
   "execution_count": 2,
   "metadata": {},
   "outputs": [],
   "source": [
    "# Path of the file\n",
    "path=\"F:/Jitendra/IPBA/Training/Machine Learning/Decision Tree/HR_data.csv\""
   ]
  },
  {
   "cell_type": "code",
   "execution_count": 3,
   "metadata": {},
   "outputs": [],
   "source": [
    "# Read the data into data frame\n",
    "data=pd.read_csv(path)"
   ]
  },
  {
   "cell_type": "code",
   "execution_count": 4,
   "metadata": {},
   "outputs": [
    {
     "data": {
      "text/html": [
       "<div>\n",
       "<style scoped>\n",
       "    .dataframe tbody tr th:only-of-type {\n",
       "        vertical-align: middle;\n",
       "    }\n",
       "\n",
       "    .dataframe tbody tr th {\n",
       "        vertical-align: top;\n",
       "    }\n",
       "\n",
       "    .dataframe thead th {\n",
       "        text-align: right;\n",
       "    }\n",
       "</style>\n",
       "<table border=\"1\" class=\"dataframe\">\n",
       "  <thead>\n",
       "    <tr style=\"text-align: right;\">\n",
       "      <th></th>\n",
       "      <th>satisfaction_level</th>\n",
       "      <th>last_evaluation</th>\n",
       "      <th>number_project</th>\n",
       "      <th>average_montly_hours</th>\n",
       "      <th>time_spend_company</th>\n",
       "      <th>Work_accident</th>\n",
       "      <th>left</th>\n",
       "      <th>promotion_last_5years</th>\n",
       "      <th>sales</th>\n",
       "      <th>salary</th>\n",
       "    </tr>\n",
       "  </thead>\n",
       "  <tbody>\n",
       "    <tr>\n",
       "      <th>0</th>\n",
       "      <td>0.38</td>\n",
       "      <td>0.53</td>\n",
       "      <td>2</td>\n",
       "      <td>157</td>\n",
       "      <td>3</td>\n",
       "      <td>0</td>\n",
       "      <td>1</td>\n",
       "      <td>0</td>\n",
       "      <td>sales</td>\n",
       "      <td>low</td>\n",
       "    </tr>\n",
       "    <tr>\n",
       "      <th>1</th>\n",
       "      <td>0.80</td>\n",
       "      <td>0.86</td>\n",
       "      <td>5</td>\n",
       "      <td>262</td>\n",
       "      <td>6</td>\n",
       "      <td>0</td>\n",
       "      <td>1</td>\n",
       "      <td>0</td>\n",
       "      <td>sales</td>\n",
       "      <td>medium</td>\n",
       "    </tr>\n",
       "    <tr>\n",
       "      <th>2</th>\n",
       "      <td>0.11</td>\n",
       "      <td>0.88</td>\n",
       "      <td>7</td>\n",
       "      <td>272</td>\n",
       "      <td>4</td>\n",
       "      <td>0</td>\n",
       "      <td>1</td>\n",
       "      <td>0</td>\n",
       "      <td>sales</td>\n",
       "      <td>medium</td>\n",
       "    </tr>\n",
       "    <tr>\n",
       "      <th>3</th>\n",
       "      <td>0.72</td>\n",
       "      <td>0.87</td>\n",
       "      <td>5</td>\n",
       "      <td>223</td>\n",
       "      <td>5</td>\n",
       "      <td>0</td>\n",
       "      <td>1</td>\n",
       "      <td>0</td>\n",
       "      <td>sales</td>\n",
       "      <td>low</td>\n",
       "    </tr>\n",
       "    <tr>\n",
       "      <th>4</th>\n",
       "      <td>0.37</td>\n",
       "      <td>0.52</td>\n",
       "      <td>2</td>\n",
       "      <td>159</td>\n",
       "      <td>3</td>\n",
       "      <td>0</td>\n",
       "      <td>1</td>\n",
       "      <td>0</td>\n",
       "      <td>sales</td>\n",
       "      <td>low</td>\n",
       "    </tr>\n",
       "  </tbody>\n",
       "</table>\n",
       "</div>"
      ],
      "text/plain": [
       "   satisfaction_level  last_evaluation  number_project  average_montly_hours  \\\n",
       "0                0.38             0.53               2                   157   \n",
       "1                0.80             0.86               5                   262   \n",
       "2                0.11             0.88               7                   272   \n",
       "3                0.72             0.87               5                   223   \n",
       "4                0.37             0.52               2                   159   \n",
       "\n",
       "   time_spend_company  Work_accident  left  promotion_last_5years  sales  \\\n",
       "0                   3              0     1                      0  sales   \n",
       "1                   6              0     1                      0  sales   \n",
       "2                   4              0     1                      0  sales   \n",
       "3                   5              0     1                      0  sales   \n",
       "4                   3              0     1                      0  sales   \n",
       "\n",
       "   salary  \n",
       "0     low  \n",
       "1  medium  \n",
       "2  medium  \n",
       "3     low  \n",
       "4     low  "
      ]
     },
     "execution_count": 4,
     "metadata": {},
     "output_type": "execute_result"
    }
   ],
   "source": [
    "# Check the first 5 records\n",
    "data.head(5)"
   ]
  },
  {
   "cell_type": "code",
   "execution_count": 5,
   "metadata": {},
   "outputs": [
    {
     "data": {
      "text/plain": [
       "satisfaction_level       0\n",
       "last_evaluation          0\n",
       "number_project           0\n",
       "average_montly_hours     0\n",
       "time_spend_company       0\n",
       "Work_accident            0\n",
       "left                     0\n",
       "promotion_last_5years    0\n",
       "sales                    0\n",
       "salary                   0\n",
       "dtype: int64"
      ]
     },
     "execution_count": 5,
     "metadata": {},
     "output_type": "execute_result"
    }
   ],
   "source": [
    "# Do we have missing values in the datframe \n",
    "data.isnull().sum()"
   ]
  },
  {
   "cell_type": "code",
   "execution_count": 6,
   "metadata": {},
   "outputs": [
    {
     "data": {
      "text/plain": [
       "satisfaction_level       float64\n",
       "last_evaluation          float64\n",
       "number_project             int64\n",
       "average_montly_hours       int64\n",
       "time_spend_company         int64\n",
       "Work_accident              int64\n",
       "left                       int64\n",
       "promotion_last_5years      int64\n",
       "sales                     object\n",
       "salary                    object\n",
       "dtype: object"
      ]
     },
     "execution_count": 6,
     "metadata": {},
     "output_type": "execute_result"
    }
   ],
   "source": [
    "# Check the data types\n",
    "data.dtypes"
   ]
  },
  {
   "cell_type": "code",
   "execution_count": 7,
   "metadata": {},
   "outputs": [
    {
     "data": {
      "text/plain": [
       "['sales',\n",
       " 'accounting',\n",
       " 'hr',\n",
       " 'technical',\n",
       " 'support',\n",
       " 'management',\n",
       " 'IT',\n",
       " 'product_mng',\n",
       " 'marketing',\n",
       " 'RandD']"
      ]
     },
     "execution_count": 7,
     "metadata": {},
     "output_type": "execute_result"
    }
   ],
   "source": [
    "# Unique values of sales columns\n",
    "data['sales'].unique().tolist()  # Not a correct name for column "
   ]
  },
  {
   "cell_type": "code",
   "execution_count": 8,
   "metadata": {},
   "outputs": [],
   "source": [
    "# Rename sales column from sales to dept\n",
    "data.rename(columns={'sales':'dept'},inplace=True)  # Change column name "
   ]
  },
  {
   "cell_type": "code",
   "execution_count": 9,
   "metadata": {},
   "outputs": [
    {
     "data": {
      "text/html": [
       "<div>\n",
       "<style scoped>\n",
       "    .dataframe tbody tr th:only-of-type {\n",
       "        vertical-align: middle;\n",
       "    }\n",
       "\n",
       "    .dataframe tbody tr th {\n",
       "        vertical-align: top;\n",
       "    }\n",
       "\n",
       "    .dataframe thead th {\n",
       "        text-align: right;\n",
       "    }\n",
       "</style>\n",
       "<table border=\"1\" class=\"dataframe\">\n",
       "  <thead>\n",
       "    <tr style=\"text-align: right;\">\n",
       "      <th></th>\n",
       "      <th>satisfaction_level</th>\n",
       "      <th>last_evaluation</th>\n",
       "      <th>number_project</th>\n",
       "      <th>average_montly_hours</th>\n",
       "      <th>time_spend_company</th>\n",
       "      <th>Work_accident</th>\n",
       "      <th>left</th>\n",
       "      <th>promotion_last_5years</th>\n",
       "      <th>dept</th>\n",
       "      <th>salary</th>\n",
       "    </tr>\n",
       "  </thead>\n",
       "  <tbody>\n",
       "    <tr>\n",
       "      <th>0</th>\n",
       "      <td>0.38</td>\n",
       "      <td>0.53</td>\n",
       "      <td>2</td>\n",
       "      <td>157</td>\n",
       "      <td>3</td>\n",
       "      <td>0</td>\n",
       "      <td>1</td>\n",
       "      <td>0</td>\n",
       "      <td>sales</td>\n",
       "      <td>low</td>\n",
       "    </tr>\n",
       "    <tr>\n",
       "      <th>1</th>\n",
       "      <td>0.80</td>\n",
       "      <td>0.86</td>\n",
       "      <td>5</td>\n",
       "      <td>262</td>\n",
       "      <td>6</td>\n",
       "      <td>0</td>\n",
       "      <td>1</td>\n",
       "      <td>0</td>\n",
       "      <td>sales</td>\n",
       "      <td>medium</td>\n",
       "    </tr>\n",
       "    <tr>\n",
       "      <th>2</th>\n",
       "      <td>0.11</td>\n",
       "      <td>0.88</td>\n",
       "      <td>7</td>\n",
       "      <td>272</td>\n",
       "      <td>4</td>\n",
       "      <td>0</td>\n",
       "      <td>1</td>\n",
       "      <td>0</td>\n",
       "      <td>sales</td>\n",
       "      <td>medium</td>\n",
       "    </tr>\n",
       "    <tr>\n",
       "      <th>3</th>\n",
       "      <td>0.72</td>\n",
       "      <td>0.87</td>\n",
       "      <td>5</td>\n",
       "      <td>223</td>\n",
       "      <td>5</td>\n",
       "      <td>0</td>\n",
       "      <td>1</td>\n",
       "      <td>0</td>\n",
       "      <td>sales</td>\n",
       "      <td>low</td>\n",
       "    </tr>\n",
       "    <tr>\n",
       "      <th>4</th>\n",
       "      <td>0.37</td>\n",
       "      <td>0.52</td>\n",
       "      <td>2</td>\n",
       "      <td>159</td>\n",
       "      <td>3</td>\n",
       "      <td>0</td>\n",
       "      <td>1</td>\n",
       "      <td>0</td>\n",
       "      <td>sales</td>\n",
       "      <td>low</td>\n",
       "    </tr>\n",
       "  </tbody>\n",
       "</table>\n",
       "</div>"
      ],
      "text/plain": [
       "   satisfaction_level  last_evaluation  number_project  average_montly_hours  \\\n",
       "0                0.38             0.53               2                   157   \n",
       "1                0.80             0.86               5                   262   \n",
       "2                0.11             0.88               7                   272   \n",
       "3                0.72             0.87               5                   223   \n",
       "4                0.37             0.52               2                   159   \n",
       "\n",
       "   time_spend_company  Work_accident  left  promotion_last_5years   dept  \\\n",
       "0                   3              0     1                      0  sales   \n",
       "1                   6              0     1                      0  sales   \n",
       "2                   4              0     1                      0  sales   \n",
       "3                   5              0     1                      0  sales   \n",
       "4                   3              0     1                      0  sales   \n",
       "\n",
       "   salary  \n",
       "0     low  \n",
       "1  medium  \n",
       "2  medium  \n",
       "3     low  \n",
       "4     low  "
      ]
     },
     "execution_count": 9,
     "metadata": {},
     "output_type": "execute_result"
    }
   ],
   "source": [
    "data.head()"
   ]
  },
  {
   "cell_type": "code",
   "execution_count": 10,
   "metadata": {},
   "outputs": [],
   "source": [
    "# Before data goes in for modeling, you have to convert categorical variables into dummies\n",
    "data_dummy=pd.get_dummies(data)"
   ]
  },
  {
   "cell_type": "code",
   "execution_count": 11,
   "metadata": {},
   "outputs": [
    {
     "data": {
      "text/html": [
       "<div>\n",
       "<style scoped>\n",
       "    .dataframe tbody tr th:only-of-type {\n",
       "        vertical-align: middle;\n",
       "    }\n",
       "\n",
       "    .dataframe tbody tr th {\n",
       "        vertical-align: top;\n",
       "    }\n",
       "\n",
       "    .dataframe thead th {\n",
       "        text-align: right;\n",
       "    }\n",
       "</style>\n",
       "<table border=\"1\" class=\"dataframe\">\n",
       "  <thead>\n",
       "    <tr style=\"text-align: right;\">\n",
       "      <th></th>\n",
       "      <th>satisfaction_level</th>\n",
       "      <th>last_evaluation</th>\n",
       "      <th>number_project</th>\n",
       "      <th>average_montly_hours</th>\n",
       "      <th>time_spend_company</th>\n",
       "      <th>Work_accident</th>\n",
       "      <th>left</th>\n",
       "      <th>promotion_last_5years</th>\n",
       "      <th>dept_IT</th>\n",
       "      <th>dept_RandD</th>\n",
       "      <th>...</th>\n",
       "      <th>dept_hr</th>\n",
       "      <th>dept_management</th>\n",
       "      <th>dept_marketing</th>\n",
       "      <th>dept_product_mng</th>\n",
       "      <th>dept_sales</th>\n",
       "      <th>dept_support</th>\n",
       "      <th>dept_technical</th>\n",
       "      <th>salary_high</th>\n",
       "      <th>salary_low</th>\n",
       "      <th>salary_medium</th>\n",
       "    </tr>\n",
       "  </thead>\n",
       "  <tbody>\n",
       "    <tr>\n",
       "      <th>0</th>\n",
       "      <td>0.38</td>\n",
       "      <td>0.53</td>\n",
       "      <td>2</td>\n",
       "      <td>157</td>\n",
       "      <td>3</td>\n",
       "      <td>0</td>\n",
       "      <td>1</td>\n",
       "      <td>0</td>\n",
       "      <td>0</td>\n",
       "      <td>0</td>\n",
       "      <td>...</td>\n",
       "      <td>0</td>\n",
       "      <td>0</td>\n",
       "      <td>0</td>\n",
       "      <td>0</td>\n",
       "      <td>1</td>\n",
       "      <td>0</td>\n",
       "      <td>0</td>\n",
       "      <td>0</td>\n",
       "      <td>1</td>\n",
       "      <td>0</td>\n",
       "    </tr>\n",
       "    <tr>\n",
       "      <th>1</th>\n",
       "      <td>0.80</td>\n",
       "      <td>0.86</td>\n",
       "      <td>5</td>\n",
       "      <td>262</td>\n",
       "      <td>6</td>\n",
       "      <td>0</td>\n",
       "      <td>1</td>\n",
       "      <td>0</td>\n",
       "      <td>0</td>\n",
       "      <td>0</td>\n",
       "      <td>...</td>\n",
       "      <td>0</td>\n",
       "      <td>0</td>\n",
       "      <td>0</td>\n",
       "      <td>0</td>\n",
       "      <td>1</td>\n",
       "      <td>0</td>\n",
       "      <td>0</td>\n",
       "      <td>0</td>\n",
       "      <td>0</td>\n",
       "      <td>1</td>\n",
       "    </tr>\n",
       "    <tr>\n",
       "      <th>2</th>\n",
       "      <td>0.11</td>\n",
       "      <td>0.88</td>\n",
       "      <td>7</td>\n",
       "      <td>272</td>\n",
       "      <td>4</td>\n",
       "      <td>0</td>\n",
       "      <td>1</td>\n",
       "      <td>0</td>\n",
       "      <td>0</td>\n",
       "      <td>0</td>\n",
       "      <td>...</td>\n",
       "      <td>0</td>\n",
       "      <td>0</td>\n",
       "      <td>0</td>\n",
       "      <td>0</td>\n",
       "      <td>1</td>\n",
       "      <td>0</td>\n",
       "      <td>0</td>\n",
       "      <td>0</td>\n",
       "      <td>0</td>\n",
       "      <td>1</td>\n",
       "    </tr>\n",
       "    <tr>\n",
       "      <th>3</th>\n",
       "      <td>0.72</td>\n",
       "      <td>0.87</td>\n",
       "      <td>5</td>\n",
       "      <td>223</td>\n",
       "      <td>5</td>\n",
       "      <td>0</td>\n",
       "      <td>1</td>\n",
       "      <td>0</td>\n",
       "      <td>0</td>\n",
       "      <td>0</td>\n",
       "      <td>...</td>\n",
       "      <td>0</td>\n",
       "      <td>0</td>\n",
       "      <td>0</td>\n",
       "      <td>0</td>\n",
       "      <td>1</td>\n",
       "      <td>0</td>\n",
       "      <td>0</td>\n",
       "      <td>0</td>\n",
       "      <td>1</td>\n",
       "      <td>0</td>\n",
       "    </tr>\n",
       "    <tr>\n",
       "      <th>4</th>\n",
       "      <td>0.37</td>\n",
       "      <td>0.52</td>\n",
       "      <td>2</td>\n",
       "      <td>159</td>\n",
       "      <td>3</td>\n",
       "      <td>0</td>\n",
       "      <td>1</td>\n",
       "      <td>0</td>\n",
       "      <td>0</td>\n",
       "      <td>0</td>\n",
       "      <td>...</td>\n",
       "      <td>0</td>\n",
       "      <td>0</td>\n",
       "      <td>0</td>\n",
       "      <td>0</td>\n",
       "      <td>1</td>\n",
       "      <td>0</td>\n",
       "      <td>0</td>\n",
       "      <td>0</td>\n",
       "      <td>1</td>\n",
       "      <td>0</td>\n",
       "    </tr>\n",
       "  </tbody>\n",
       "</table>\n",
       "<p>5 rows × 21 columns</p>\n",
       "</div>"
      ],
      "text/plain": [
       "   satisfaction_level  last_evaluation  number_project  average_montly_hours  \\\n",
       "0                0.38             0.53               2                   157   \n",
       "1                0.80             0.86               5                   262   \n",
       "2                0.11             0.88               7                   272   \n",
       "3                0.72             0.87               5                   223   \n",
       "4                0.37             0.52               2                   159   \n",
       "\n",
       "   time_spend_company  Work_accident  left  promotion_last_5years  dept_IT  \\\n",
       "0                   3              0     1                      0        0   \n",
       "1                   6              0     1                      0        0   \n",
       "2                   4              0     1                      0        0   \n",
       "3                   5              0     1                      0        0   \n",
       "4                   3              0     1                      0        0   \n",
       "\n",
       "   dept_RandD  ...  dept_hr  dept_management  dept_marketing  \\\n",
       "0           0  ...        0                0               0   \n",
       "1           0  ...        0                0               0   \n",
       "2           0  ...        0                0               0   \n",
       "3           0  ...        0                0               0   \n",
       "4           0  ...        0                0               0   \n",
       "\n",
       "   dept_product_mng  dept_sales  dept_support  dept_technical  salary_high  \\\n",
       "0                 0           1             0               0            0   \n",
       "1                 0           1             0               0            0   \n",
       "2                 0           1             0               0            0   \n",
       "3                 0           1             0               0            0   \n",
       "4                 0           1             0               0            0   \n",
       "\n",
       "   salary_low  salary_medium  \n",
       "0           1              0  \n",
       "1           0              1  \n",
       "2           0              1  \n",
       "3           1              0  \n",
       "4           1              0  \n",
       "\n",
       "[5 rows x 21 columns]"
      ]
     },
     "execution_count": 11,
     "metadata": {},
     "output_type": "execute_result"
    }
   ],
   "source": [
    "# Check the top 5 records of dummy table\n",
    "data_dummy.head(5)"
   ]
  },
  {
   "cell_type": "code",
   "execution_count": 12,
   "metadata": {},
   "outputs": [],
   "source": [
    "# For sklearn library you have to separate out target varible data frame and Independent variables dataframe\n",
    "# X ==> Data frame of independent variable (drop the target variable 'left')\n",
    "# .values in the end covert the data frame to an array and sklearn library is comfortable working with arrays\n",
    "X=data_dummy.drop(\"left\",axis=1).values"
   ]
  },
  {
   "cell_type": "code",
   "execution_count": 13,
   "metadata": {},
   "outputs": [
    {
     "data": {
      "text/plain": [
       "array([[0.38, 0.53, 2.  , ..., 0.  , 1.  , 0.  ],\n",
       "       [0.8 , 0.86, 5.  , ..., 0.  , 0.  , 1.  ],\n",
       "       [0.11, 0.88, 7.  , ..., 0.  , 0.  , 1.  ],\n",
       "       ...,\n",
       "       [0.37, 0.53, 2.  , ..., 0.  , 1.  , 0.  ],\n",
       "       [0.11, 0.96, 6.  , ..., 0.  , 1.  , 0.  ],\n",
       "       [0.37, 0.52, 2.  , ..., 0.  , 1.  , 0.  ]])"
      ]
     },
     "execution_count": 13,
     "metadata": {},
     "output_type": "execute_result"
    }
   ],
   "source": [
    "# Print array of X variables\n",
    "X"
   ]
  },
  {
   "cell_type": "code",
   "execution_count": 14,
   "metadata": {},
   "outputs": [],
   "source": [
    "# y ==> target variable\n",
    "y=data_dummy['left'].values"
   ]
  },
  {
   "cell_type": "code",
   "execution_count": 15,
   "metadata": {},
   "outputs": [
    {
     "data": {
      "text/plain": [
       "array([1, 1, 1, ..., 1, 1, 1], dtype=int64)"
      ]
     },
     "execution_count": 15,
     "metadata": {},
     "output_type": "execute_result"
    }
   ],
   "source": [
    "# Print array of y variable\n",
    "y"
   ]
  },
  {
   "cell_type": "markdown",
   "metadata": {},
   "source": [
    "## ------------------------Bagging Classifier--------------------------"
   ]
  },
  {
   "cell_type": "code",
   "execution_count": null,
   "metadata": {},
   "outputs": [],
   "source": [
    "# Steps to create a model\n",
    "# 1. Create a train data and a test data for model validation\n",
    "# 2. Create an object of the ensemble class (clf) which will be a Ensemble of DT Classifier object...\n",
    "# ...(Bagging or RF classifier/ Regressor)\n",
    "# 3. Instantiate the object of the class with its required method (Bagging/ RF )\n",
    "# 4. Fit the model with input data - X_train,y_train using fit method of clf\n",
    "# 5. Predit the output lablels (in case of classification) or continpus target variable(in case of regression) on test data\n",
    "# 6. Validate/ Score the model on test set and compare the predicted outcome with actual labels/ target continous variable"
   ]
  },
  {
   "cell_type": "code",
   "execution_count": 16,
   "metadata": {},
   "outputs": [],
   "source": [
    "# Import train and test data split class\n",
    "from sklearn.model_selection import train_test_split\n",
    "X_train,X_test,y_train,y_test=train_test_split(X,y,test_size=0.20,random_state=400)"
   ]
  },
  {
   "cell_type": "code",
   "execution_count": 17,
   "metadata": {},
   "outputs": [
    {
     "name": "stdout",
     "output_type": "stream",
     "text": [
      "(14999, 20)\n",
      "(11999, 20)\n",
      "(3000, 20)\n"
     ]
    }
   ],
   "source": [
    "print(X.shape)\n",
    "print(X_train.shape)\n",
    "print(X_test.shape)"
   ]
  },
  {
   "cell_type": "code",
   "execution_count": 18,
   "metadata": {},
   "outputs": [],
   "source": [
    "# Import library for ensemble models\n",
    "from sklearn import ensemble  # This is my ensemble class\n",
    "# from sklearn.tree import DecisionTreeClassifier # This is my base learner ( Classifier decision tree)"
   ]
  },
  {
   "cell_type": "code",
   "execution_count": 19,
   "metadata": {},
   "outputs": [
    {
     "data": {
      "text/plain": [
       "['AdaBoostClassifier',\n",
       " 'AdaBoostRegressor',\n",
       " 'BaggingClassifier',\n",
       " 'BaggingRegressor',\n",
       " 'BaseEnsemble',\n",
       " 'ExtraTreesClassifier',\n",
       " 'ExtraTreesRegressor',\n",
       " 'GradientBoostingClassifier',\n",
       " 'GradientBoostingRegressor',\n",
       " 'IsolationForest',\n",
       " 'RandomForestClassifier',\n",
       " 'RandomForestRegressor',\n",
       " 'RandomTreesEmbedding',\n",
       " 'StackingClassifier',\n",
       " 'StackingRegressor',\n",
       " 'VotingClassifier',\n",
       " 'VotingRegressor',\n",
       " '__all__',\n",
       " '__builtins__',\n",
       " '__cached__',\n",
       " '__doc__',\n",
       " '__file__',\n",
       " '__loader__',\n",
       " '__name__',\n",
       " '__package__',\n",
       " '__path__',\n",
       " '__spec__',\n",
       " '_bagging',\n",
       " '_base',\n",
       " '_forest',\n",
       " '_gb',\n",
       " '_gb_losses',\n",
       " '_gradient_boosting',\n",
       " '_iforest',\n",
       " '_stacking',\n",
       " '_voting',\n",
       " '_weight_boosting',\n",
       " 'typing']"
      ]
     },
     "execution_count": 19,
     "metadata": {},
     "output_type": "execute_result"
    }
   ],
   "source": [
    "dir(ensemble)"
   ]
  },
  {
   "cell_type": "code",
   "execution_count": 20,
   "metadata": {},
   "outputs": [],
   "source": [
    "# Creating and initializing Baggig Classifier object\n",
    "clf=ensemble.BaggingClassifier(oob_score=True,n_jobs=-1,n_estimators=20,random_state=400)\n",
    "\n",
    "\n",
    "# oob_score = True >> out of bag to be computed or not \n",
    "# n_estimators - number of trees we want to create\n",
    "# n_jobs > # of cores to be used for parellel processing. If -1, use all the cpu cores\n",
    "# base estimator = by default is is DT, but we can change it to SVC etc.\n",
    "\n",
    "# clf=ensemble.BaggingClassifier(oob_score=True,n_jobs=-1,n_estimators=20,random_state=400,\n",
    "#                     base_estimator = DecisionTreeClassifier())"
   ]
  },
  {
   "cell_type": "code",
   "execution_count": 21,
   "metadata": {},
   "outputs": [
    {
     "name": "stderr",
     "output_type": "stream",
     "text": [
      "C:\\ProgramData\\Anaconda3\\lib\\site-packages\\sklearn\\ensemble\\_bagging.py:638: UserWarning: Some inputs do not have OOB scores. This probably means too few estimators were used to compute any reliable oob estimates.\n",
      "  warn(\"Some inputs do not have OOB scores. \"\n",
      "C:\\ProgramData\\Anaconda3\\lib\\site-packages\\sklearn\\ensemble\\_bagging.py:643: RuntimeWarning: invalid value encountered in true_divide\n",
      "  predictions.sum(axis=1)[:, np.newaxis])\n"
     ]
    },
    {
     "data": {
      "text/plain": [
       "BaggingClassifier(n_estimators=20, n_jobs=-1, oob_score=True, random_state=400)"
      ]
     },
     "execution_count": 21,
     "metadata": {},
     "output_type": "execute_result"
    }
   ],
   "source": [
    "# Building and fitting a bagging tree \n",
    "clf.fit(X_train,y_train) "
   ]
  },
  {
   "cell_type": "code",
   "execution_count": 22,
   "metadata": {},
   "outputs": [
    {
     "data": {
      "text/plain": [
       "0.987415617968164"
      ]
     },
     "execution_count": 22,
     "metadata": {},
     "output_type": "execute_result"
    }
   ],
   "source": [
    "# OOB Accuracy # Average accuracy on OOB dataset ( testing set for each tree)\n",
    "# Accuracy on the training set - accuracy on the OOB set of each tree\n",
    "clf.oob_score_"
   ]
  },
  {
   "cell_type": "code",
   "execution_count": 23,
   "metadata": {},
   "outputs": [
    {
     "data": {
      "text/plain": [
       "0.986"
      ]
     },
     "execution_count": 23,
     "metadata": {},
     "output_type": "execute_result"
    }
   ],
   "source": [
    "# Accuracy on the testing dataset \n",
    "clf.score(X_test,y_test)  "
   ]
  },
  {
   "cell_type": "code",
   "execution_count": 24,
   "metadata": {},
   "outputs": [
    {
     "name": "stderr",
     "output_type": "stream",
     "text": [
      "C:\\ProgramData\\Anaconda3\\lib\\site-packages\\sklearn\\ensemble\\_bagging.py:638: UserWarning: Some inputs do not have OOB scores. This probably means too few estimators were used to compute any reliable oob estimates.\n",
      "  warn(\"Some inputs do not have OOB scores. \"\n",
      "C:\\ProgramData\\Anaconda3\\lib\\site-packages\\sklearn\\ensemble\\_bagging.py:643: RuntimeWarning: invalid value encountered in true_divide\n",
      "  predictions.sum(axis=1)[:, np.newaxis])\n"
     ]
    },
    {
     "name": "stdout",
     "output_type": "stream",
     "text": [
      "For n_estimators = 10\n",
      "OOB score is 0.9830819234936244\n",
      "***********************\n",
      "For n_estimators = 30\n",
      "OOB score is 0.9884990415867989\n",
      "***********************\n",
      "For n_estimators = 50\n",
      "OOB score is 0.9892491040920076\n",
      "***********************\n",
      "For n_estimators = 70\n",
      "OOB score is 0.9895824652054338\n",
      "***********************\n",
      "For n_estimators = 90\n",
      "OOB score is 0.990082506875573\n",
      "***********************\n",
      "For n_estimators = 110\n",
      "OOB score is 0.990082506875573\n",
      "***********************\n",
      "For n_estimators = 130\n",
      "OOB score is 0.9903325277106425\n",
      "***********************\n",
      "For n_estimators = 150\n",
      "OOB score is 0.990415867988999\n",
      "***********************\n",
      "For n_estimators = 170\n",
      "OOB score is 0.9902491874322861\n",
      "***********************\n",
      "For n_estimators = 190\n",
      "OOB score is 0.9901658471539295\n",
      "***********************\n"
     ]
    }
   ],
   "source": [
    "# How to know how many estimators/ trees the bagging algo should build, so as to achieve best score\n",
    "# Trying to find out the best number of estimators for the bagging model \n",
    "# This for loop will create multiple ensembles - 10, 30, 50, 70.... 190\n",
    "for n_trees in range(10,200,20):\n",
    "    clf=ensemble.BaggingClassifier(oob_score=True,n_jobs=-1,n_estimators=n_trees,random_state=400)\n",
    "    clf.fit(X_train,y_train)\n",
    "    oob=clf.oob_score_\n",
    "    print ('For n_estimators = '+str(n_trees))\n",
    "    print ('OOB score is '+str(oob))\n",
    "    print ('***********************')"
   ]
  },
  {
   "cell_type": "code",
   "execution_count": 57,
   "metadata": {},
   "outputs": [
    {
     "data": {
      "text/plain": [
       "BaggingClassifier(n_estimators=150, n_jobs=-1, oob_score=True, random_state=400)"
      ]
     },
     "execution_count": 57,
     "metadata": {},
     "output_type": "execute_result"
    }
   ],
   "source": [
    "#Finalizing on a ensemble model with 150 trees\n",
    "clf=ensemble.BaggingClassifier(oob_score=True,n_jobs=-1,n_estimators=150,random_state=400)\n",
    "clf.fit(X_train,y_train)"
   ]
  },
  {
   "cell_type": "code",
   "execution_count": 58,
   "metadata": {},
   "outputs": [
    {
     "data": {
      "text/plain": [
       "array([0, 1, 0, ..., 1, 0, 0], dtype=int64)"
      ]
     },
     "execution_count": 58,
     "metadata": {},
     "output_type": "execute_result"
    }
   ],
   "source": [
    "# Confusion Matrix and AUC\n",
    "#### How good is it when it comes to making predictions?\n",
    "## Accuracy? test_data\n",
    "predicted_labels=clf.predict(X_test)\n",
    "predicted_labels"
   ]
  },
  {
   "cell_type": "code",
   "execution_count": 59,
   "metadata": {},
   "outputs": [
    {
     "data": {
      "text/plain": [
       "array([[1.        , 0.        ],\n",
       "       [0.        , 1.        ],\n",
       "       [1.        , 0.        ],\n",
       "       ...,\n",
       "       [0.        , 1.        ],\n",
       "       [0.97333333, 0.02666667],\n",
       "       [1.        , 0.        ]])"
      ]
     },
     "execution_count": 59,
     "metadata": {},
     "output_type": "execute_result"
    }
   ],
   "source": [
    "# Predcting the probability of the stayed and left class\n",
    "# It will give an array of 0 and 1 class (stayed and left respectively)\n",
    "probs = clf.predict_proba(X_test)\n",
    "probs"
   ]
  },
  {
   "cell_type": "code",
   "execution_count": 60,
   "metadata": {},
   "outputs": [
    {
     "data": {
      "text/plain": [
       "array([[2260,   11],\n",
       "       [  21,  708]], dtype=int64)"
      ]
     },
     "execution_count": 60,
     "metadata": {},
     "output_type": "execute_result"
    }
   ],
   "source": [
    "### Confusion Matrix\n",
    "from sklearn import metrics\n",
    "# Plot confusion matrix\n",
    "metrics.confusion_matrix(y_test,predicted_labels)"
   ]
  },
  {
   "cell_type": "code",
   "execution_count": 61,
   "metadata": {},
   "outputs": [
    {
     "data": {
      "text/plain": [
       "0.9899946181320025"
      ]
     },
     "execution_count": 61,
     "metadata": {},
     "output_type": "execute_result"
    }
   ],
   "source": [
    "#### Confusion Matrix relies on a threshold that I choose\n",
    "#### AUC\n",
    "probs_left = probs[:,1]\n",
    "metrics.roc_auc_score(y_test,probs_left)  # probs[:,1] >> first columns of stayed and left array of probabilities"
   ]
  },
  {
   "cell_type": "code",
   "execution_count": 62,
   "metadata": {},
   "outputs": [
    {
     "data": {
      "text/plain": [
       "[<matplotlib.lines.Line2D at 0x206299ae588>]"
      ]
     },
     "execution_count": 62,
     "metadata": {},
     "output_type": "execute_result"
    },
    {
     "data": {
      "image/png": "[encoded data removed]",
      "text/plain": [
       "<Figure size 432x288 with 1 Axes>"
      ]
     },
     "metadata": {
      "needs_background": "light"
     },
     "output_type": "display_data"
    }
   ],
   "source": [
    "# Getting FPR, TPR and Threshold\n",
    "fpr,tpr,thr=metrics.roc_curve(y_test,probs_left)\n",
    "# Plotting ROC\n",
    "plt.plot(fpr,tpr,\"-\")"
   ]
  },
  {
   "cell_type": "code",
   "execution_count": 63,
   "metadata": {},
   "outputs": [
    {
     "data": {
      "text/plain": [
       "[DecisionTreeClassifier(random_state=1859118377),\n",
       " DecisionTreeClassifier(random_state=1559503733),\n",
       " DecisionTreeClassifier(random_state=1714796222),\n",
       " DecisionTreeClassifier(random_state=1907120008),\n",
       " DecisionTreeClassifier(random_state=2074988447),\n",
       " DecisionTreeClassifier(random_state=270530007),\n",
       " DecisionTreeClassifier(random_state=494610195),\n",
       " DecisionTreeClassifier(random_state=914653141),\n",
       " DecisionTreeClassifier(random_state=1249763274),\n",
       " DecisionTreeClassifier(random_state=1698305238),\n",
       " DecisionTreeClassifier(random_state=764038977),\n",
       " DecisionTreeClassifier(random_state=554023484),\n",
       " DecisionTreeClassifier(random_state=980045649),\n",
       " DecisionTreeClassifier(random_state=618787335),\n",
       " DecisionTreeClassifier(random_state=1478338621),\n",
       " DecisionTreeClassifier(random_state=878522688),\n",
       " DecisionTreeClassifier(random_state=1479530151),\n",
       " DecisionTreeClassifier(random_state=529095905),\n",
       " DecisionTreeClassifier(random_state=1322465795),\n",
       " DecisionTreeClassifier(random_state=2138769912),\n",
       " DecisionTreeClassifier(random_state=61502782),\n",
       " DecisionTreeClassifier(random_state=1799310766),\n",
       " DecisionTreeClassifier(random_state=830858493),\n",
       " DecisionTreeClassifier(random_state=386390921),\n",
       " DecisionTreeClassifier(random_state=557988009),\n",
       " DecisionTreeClassifier(random_state=1236397848),\n",
       " DecisionTreeClassifier(random_state=2117385448),\n",
       " DecisionTreeClassifier(random_state=758019998),\n",
       " DecisionTreeClassifier(random_state=1432275623),\n",
       " DecisionTreeClassifier(random_state=1719636617),\n",
       " DecisionTreeClassifier(random_state=1689285904),\n",
       " DecisionTreeClassifier(random_state=686057112),\n",
       " DecisionTreeClassifier(random_state=882441692),\n",
       " DecisionTreeClassifier(random_state=1800072583),\n",
       " DecisionTreeClassifier(random_state=1714547571),\n",
       " DecisionTreeClassifier(random_state=1582051556),\n",
       " DecisionTreeClassifier(random_state=144629911),\n",
       " DecisionTreeClassifier(random_state=1872696256),\n",
       " DecisionTreeClassifier(random_state=1041021512),\n",
       " DecisionTreeClassifier(random_state=242714384),\n",
       " DecisionTreeClassifier(random_state=67350880),\n",
       " DecisionTreeClassifier(random_state=1803048660),\n",
       " DecisionTreeClassifier(random_state=1974008533),\n",
       " DecisionTreeClassifier(random_state=1958374617),\n",
       " DecisionTreeClassifier(random_state=1068946429),\n",
       " DecisionTreeClassifier(random_state=601425038),\n",
       " DecisionTreeClassifier(random_state=1256188943),\n",
       " DecisionTreeClassifier(random_state=1667272400),\n",
       " DecisionTreeClassifier(random_state=911707597),\n",
       " DecisionTreeClassifier(random_state=1683690693),\n",
       " DecisionTreeClassifier(random_state=644321642),\n",
       " DecisionTreeClassifier(random_state=1679272972),\n",
       " DecisionTreeClassifier(random_state=326694465),\n",
       " DecisionTreeClassifier(random_state=1093209313),\n",
       " DecisionTreeClassifier(random_state=758743505),\n",
       " DecisionTreeClassifier(random_state=1783367317),\n",
       " DecisionTreeClassifier(random_state=1110312258),\n",
       " DecisionTreeClassifier(random_state=755174166),\n",
       " DecisionTreeClassifier(random_state=443767883),\n",
       " DecisionTreeClassifier(random_state=512295005),\n",
       " DecisionTreeClassifier(random_state=1813233843),\n",
       " DecisionTreeClassifier(random_state=170003804),\n",
       " DecisionTreeClassifier(random_state=470033576),\n",
       " DecisionTreeClassifier(random_state=1747558770),\n",
       " DecisionTreeClassifier(random_state=103293719),\n",
       " DecisionTreeClassifier(random_state=266139621),\n",
       " DecisionTreeClassifier(random_state=1563088756),\n",
       " DecisionTreeClassifier(random_state=1645327151),\n",
       " DecisionTreeClassifier(random_state=1870515361),\n",
       " DecisionTreeClassifier(random_state=1259068907),\n",
       " DecisionTreeClassifier(random_state=803643537),\n",
       " DecisionTreeClassifier(random_state=1254692651),\n",
       " DecisionTreeClassifier(random_state=2110998686),\n",
       " DecisionTreeClassifier(random_state=169260570),\n",
       " DecisionTreeClassifier(random_state=1113025921),\n",
       " DecisionTreeClassifier(random_state=1212617349),\n",
       " DecisionTreeClassifier(random_state=171457250),\n",
       " DecisionTreeClassifier(random_state=478068692),\n",
       " DecisionTreeClassifier(random_state=924519212),\n",
       " DecisionTreeClassifier(random_state=733466383),\n",
       " DecisionTreeClassifier(random_state=1672275314),\n",
       " DecisionTreeClassifier(random_state=238185900),\n",
       " DecisionTreeClassifier(random_state=1536103009),\n",
       " DecisionTreeClassifier(random_state=689675985),\n",
       " DecisionTreeClassifier(random_state=1907793030),\n",
       " DecisionTreeClassifier(random_state=382225545),\n",
       " DecisionTreeClassifier(random_state=1644972390),\n",
       " DecisionTreeClassifier(random_state=847339331),\n",
       " DecisionTreeClassifier(random_state=1626851145),\n",
       " DecisionTreeClassifier(random_state=2011798348),\n",
       " DecisionTreeClassifier(random_state=2037082241),\n",
       " DecisionTreeClassifier(random_state=1857215151),\n",
       " DecisionTreeClassifier(random_state=416378566),\n",
       " DecisionTreeClassifier(random_state=1971571535),\n",
       " DecisionTreeClassifier(random_state=1274175726),\n",
       " DecisionTreeClassifier(random_state=2136282860),\n",
       " DecisionTreeClassifier(random_state=1489155995),\n",
       " DecisionTreeClassifier(random_state=53921855),\n",
       " DecisionTreeClassifier(random_state=804108957),\n",
       " DecisionTreeClassifier(random_state=944403480),\n",
       " DecisionTreeClassifier(random_state=1332483768),\n",
       " DecisionTreeClassifier(random_state=1685797527),\n",
       " DecisionTreeClassifier(random_state=954553673),\n",
       " DecisionTreeClassifier(random_state=242740042),\n",
       " DecisionTreeClassifier(random_state=277182503),\n",
       " DecisionTreeClassifier(random_state=47259024),\n",
       " DecisionTreeClassifier(random_state=248138264),\n",
       " DecisionTreeClassifier(random_state=702422597),\n",
       " DecisionTreeClassifier(random_state=939207604),\n",
       " DecisionTreeClassifier(random_state=1529342700),\n",
       " DecisionTreeClassifier(random_state=1284390939),\n",
       " DecisionTreeClassifier(random_state=863052931),\n",
       " DecisionTreeClassifier(random_state=679550330),\n",
       " DecisionTreeClassifier(random_state=453847719),\n",
       " DecisionTreeClassifier(random_state=1881191122),\n",
       " DecisionTreeClassifier(random_state=1807201344),\n",
       " DecisionTreeClassifier(random_state=1127250893),\n",
       " DecisionTreeClassifier(random_state=1690499701),\n",
       " DecisionTreeClassifier(random_state=87023501),\n",
       " DecisionTreeClassifier(random_state=196785349),\n",
       " DecisionTreeClassifier(random_state=2146979218),\n",
       " DecisionTreeClassifier(random_state=227036993),\n",
       " DecisionTreeClassifier(random_state=6548784),\n",
       " DecisionTreeClassifier(random_state=401703767),\n",
       " DecisionTreeClassifier(random_state=1957637872),\n",
       " DecisionTreeClassifier(random_state=413734935),\n",
       " DecisionTreeClassifier(random_state=2077008103),\n",
       " DecisionTreeClassifier(random_state=721477487),\n",
       " DecisionTreeClassifier(random_state=632227614),\n",
       " DecisionTreeClassifier(random_state=903198017),\n",
       " DecisionTreeClassifier(random_state=593799005),\n",
       " DecisionTreeClassifier(random_state=1050746870),\n",
       " DecisionTreeClassifier(random_state=1974551827),\n",
       " DecisionTreeClassifier(random_state=2083303979),\n",
       " DecisionTreeClassifier(random_state=640587267),\n",
       " DecisionTreeClassifier(random_state=1200156522),\n",
       " DecisionTreeClassifier(random_state=1027993271),\n",
       " DecisionTreeClassifier(random_state=1434528107),\n",
       " DecisionTreeClassifier(random_state=543625240),\n",
       " DecisionTreeClassifier(random_state=195990617),\n",
       " DecisionTreeClassifier(random_state=1040953304),\n",
       " DecisionTreeClassifier(random_state=1140418201),\n",
       " DecisionTreeClassifier(random_state=1630026140),\n",
       " DecisionTreeClassifier(random_state=1948767777),\n",
       " DecisionTreeClassifier(random_state=1645147505),\n",
       " DecisionTreeClassifier(random_state=1477362306),\n",
       " DecisionTreeClassifier(random_state=716788797),\n",
       " DecisionTreeClassifier(random_state=1727268797),\n",
       " DecisionTreeClassifier(random_state=149885973),\n",
       " DecisionTreeClassifier(random_state=1634624159)]"
      ]
     },
     "execution_count": 63,
     "metadata": {},
     "output_type": "execute_result"
    }
   ],
   "source": [
    "# Feature Importance\n",
    "# Information about all the 150 trees that were tries in ensemble \n",
    "clf.estimators_   # You will see one entry for each of the 150 trees "
   ]
  },
  {
   "cell_type": "code",
   "execution_count": 64,
   "metadata": {},
   "outputs": [
    {
     "name": "stdout",
     "output_type": "stream",
     "text": [
      "DecisionTreeClassifier(random_state=1859118377)\n"
     ]
    }
   ],
   "source": [
    "print (clf.estimators_[0]) # Information of first tree"
   ]
  },
  {
   "cell_type": "code",
   "execution_count": 33,
   "metadata": {},
   "outputs": [
    {
     "name": "stdout",
     "output_type": "stream",
     "text": [
      "Tree 1 Feature Importance \n",
      " [5.05132052e-01 1.32278580e-01 1.09549979e-01 7.25546688e-02\n",
      " 1.56255590e-01 9.77054732e-04 3.25242845e-04 9.23910569e-04\n",
      " 1.08261950e-03 2.53629992e-03 4.89557936e-04 1.25108377e-03\n",
      " 8.91966484e-04 8.15148799e-04 2.43313148e-03 2.96579677e-03\n",
      " 3.16560556e-03 5.68974302e-04 4.97063874e-03 8.32099901e-04] \n",
      "\n",
      "Tree 2 Feature Importance \n",
      " [3.86864908e-01 1.65497880e-01 2.19807061e-01 7.86005696e-02\n",
      " 1.28854285e-01 2.42813434e-03 7.57130099e-06 6.03048998e-04\n",
      " 0.00000000e+00 1.37024526e-03 6.56585426e-04 1.12741732e-04\n",
      " 1.44226767e-03 5.84106267e-04 1.61694260e-03 3.32979477e-03\n",
      " 3.21225805e-03 1.66973547e-03 1.98301782e-03 1.35884640e-03] \n",
      "\n",
      "Tree 150 Feature Importance \n",
      " [4.85386060e-01 1.42527203e-01 1.03746993e-01 7.52442492e-02\n",
      " 1.69116700e-01 1.81398709e-03 7.85296324e-04 8.57053747e-04\n",
      " 7.47246752e-04 8.29738619e-04 3.05751002e-04 3.54748679e-04\n",
      " 5.43472079e-04 5.24867889e-04 2.09889421e-03 3.92573687e-03\n",
      " 1.40514121e-03 1.56644449e-03 4.13164479e-03 4.08877181e-03] \n",
      "\n"
     ]
    }
   ],
   "source": [
    "# What are the important features according to the first tree\n",
    "print (\"Tree 1 Feature Importance \\n\", clf.estimators_[0].feature_importances_, \"\\n\")\n",
    "\n",
    "# What are the important features according to the second tree\n",
    "print (\"Tree 2 Feature Importance \\n\", clf.estimators_[1].feature_importances_, \"\\n\")\n",
    "\n",
    "# feature imporatnace data for tree number 150\n",
    "print (\"Tree 150 Feature Importance \\n\", clf.estimators_[149].feature_importances_, \"\\n\")"
   ]
  },
  {
   "cell_type": "code",
   "execution_count": 35,
   "metadata": {},
   "outputs": [
    {
     "data": {
      "text/plain": [
       "array([4.94406926e-01, 1.37858036e-01, 1.10367384e-01, 9.75657099e-02,\n",
       "       1.37457774e-01, 1.56322822e-03, 1.65693351e-04, 1.55038378e-03,\n",
       "       6.43746754e-04, 1.39149484e-03, 5.78268029e-04, 4.88292739e-04,\n",
       "       7.13635750e-04, 6.52154411e-04, 2.54031558e-03, 2.83330926e-03,\n",
       "       3.14726578e-03, 8.87796128e-04, 3.08386681e-03, 2.10471855e-03])"
      ]
     },
     "execution_count": 35,
     "metadata": {},
     "output_type": "execute_result"
    }
   ],
   "source": [
    "# We can extract feature importance from each tree then take a mean for all trees\n",
    "# Create an empty list of feature importances\n",
    "imp=[]\n",
    "\n",
    "# Loop over various estimators (150 trees) feature importances \n",
    "for i in clf.estimators_:\n",
    "    imp.append(i.feature_importances_)\n",
    "\n",
    "imp=np.mean(imp,axis=0)  # Averaging the feature importance from all the trees \n",
    "imp"
   ]
  },
  {
   "cell_type": "code",
   "execution_count": 36,
   "metadata": {},
   "outputs": [
    {
     "data": {
      "text/plain": [
       "['satisfaction_level',\n",
       " 'last_evaluation',\n",
       " 'number_project',\n",
       " 'average_montly_hours',\n",
       " 'time_spend_company',\n",
       " 'Work_accident',\n",
       " 'promotion_last_5years',\n",
       " 'dept_IT',\n",
       " 'dept_RandD',\n",
       " 'dept_accounting',\n",
       " 'dept_hr',\n",
       " 'dept_management',\n",
       " 'dept_marketing',\n",
       " 'dept_product_mng',\n",
       " 'dept_sales',\n",
       " 'dept_support',\n",
       " 'dept_technical',\n",
       " 'salary_high',\n",
       " 'salary_low',\n",
       " 'salary_medium']"
      ]
     },
     "execution_count": 36,
     "metadata": {},
     "output_type": "execute_result"
    }
   ],
   "source": [
    "# Getting feature names\n",
    "feature_names = data_dummy.drop(\"left\", axis = 1).columns\n",
    "feature_names.tolist()"
   ]
  },
  {
   "cell_type": "code",
   "execution_count": 37,
   "metadata": {},
   "outputs": [],
   "source": [
    "# Append feature name against feature importance values\n",
    "feature_importance=pd.Series(imp,index=feature_names)"
   ]
  },
  {
   "cell_type": "code",
   "execution_count": 38,
   "metadata": {},
   "outputs": [
    {
     "data": {
      "text/plain": [
       "satisfaction_level       0.494407\n",
       "last_evaluation          0.137858\n",
       "time_spend_company       0.137458\n",
       "number_project           0.110367\n",
       "average_montly_hours     0.097566\n",
       "dept_technical           0.003147\n",
       "salary_low               0.003084\n",
       "dept_support             0.002833\n",
       "dept_sales               0.002540\n",
       "salary_medium            0.002105\n",
       "Work_accident            0.001563\n",
       "dept_IT                  0.001550\n",
       "dept_accounting          0.001391\n",
       "salary_high              0.000888\n",
       "dept_marketing           0.000714\n",
       "dept_product_mng         0.000652\n",
       "dept_RandD               0.000644\n",
       "dept_hr                  0.000578\n",
       "dept_management          0.000488\n",
       "promotion_last_5years    0.000166\n",
       "dtype: float64"
      ]
     },
     "execution_count": 38,
     "metadata": {},
     "output_type": "execute_result"
    }
   ],
   "source": [
    "# Sort values by Feature Importance\n",
    "feature_importance.sort_values(ascending=False)"
   ]
  },
  {
   "cell_type": "code",
   "execution_count": 41,
   "metadata": {},
   "outputs": [
    {
     "data": {
      "text/plain": [
       "<matplotlib.axes._subplots.AxesSubplot at 0x206297b3dd8>"
      ]
     },
     "execution_count": 41,
     "metadata": {},
     "output_type": "execute_result"
    },
    {
     "data": {
      "image/png": "[encoded data removed]",
      "text/plain": [
       "<Figure size 432x288 with 1 Axes>"
      ]
     },
     "metadata": {
      "needs_background": "light"
     },
     "output_type": "display_data"
    }
   ],
   "source": [
    "# Displaying the results in bar chart\n",
    "%matplotlib inline \n",
    "feature_importance.sort_values(ascending=False).plot(kind='bar')"
   ]
  },
  {
   "cell_type": "markdown",
   "metadata": {
    "collapsed": true
   },
   "source": [
    "## ------------------------Random Forest Classifier---------------------"
   ]
  },
  {
   "cell_type": "code",
   "execution_count": 42,
   "metadata": {},
   "outputs": [],
   "source": [
    "# Import random forest classifier class\n",
    "from sklearn.ensemble import RandomForestClassifier"
   ]
  },
  {
   "cell_type": "code",
   "execution_count": 43,
   "metadata": {},
   "outputs": [],
   "source": [
    "# Create model\n",
    "clf=RandomForestClassifier(n_estimators=80,oob_score=True,n_jobs=-1,random_state=400)"
   ]
  },
  {
   "cell_type": "code",
   "execution_count": 44,
   "metadata": {},
   "outputs": [
    {
     "data": {
      "text/plain": [
       "RandomForestClassifier(n_estimators=80, n_jobs=-1, oob_score=True,\n",
       "                       random_state=400)"
      ]
     },
     "execution_count": 44,
     "metadata": {},
     "output_type": "execute_result"
    }
   ],
   "source": [
    "# Fit model\n",
    "clf.fit(X_train,y_train)"
   ]
  },
  {
   "cell_type": "code",
   "execution_count": 45,
   "metadata": {},
   "outputs": [
    {
     "data": {
      "text/plain": [
       "0.9905825485457121"
      ]
     },
     "execution_count": 45,
     "metadata": {},
     "output_type": "execute_result"
    }
   ],
   "source": [
    "# Get average OOB score of the model\n",
    "clf.oob_score_"
   ]
  },
  {
   "cell_type": "code",
   "execution_count": 46,
   "metadata": {},
   "outputs": [
    {
     "data": {
      "text/plain": [
       "0.9886666666666667"
      ]
     },
     "execution_count": 46,
     "metadata": {},
     "output_type": "execute_result"
    }
   ],
   "source": [
    "# Test data validation\n",
    "clf.score(X_test,y_test)\n",
    "\n",
    "#?? What do you think will clf.score(X_train,y_train) give in the output?? How is this different from OOB_score\n",
    "## Ans. this will give accuracy of the entire model on the train data, which could be effected by overfitting\n",
    "## On the other hand OOB score is validating the model while it is getting trained using bootstrap sampling\n",
    "## Check this link - https://towardsdatascience.com/what-is-out-of-bag-oob-score-in-random-forest-a7fa23d710"
   ]
  },
  {
   "cell_type": "code",
   "execution_count": 48,
   "metadata": {},
   "outputs": [
    {
     "name": "stderr",
     "output_type": "stream",
     "text": [
      "C:\\ProgramData\\Anaconda3\\lib\\site-packages\\sklearn\\ensemble\\_forest.py:540: UserWarning: Some inputs do not have OOB scores. This probably means too few trees were used to compute any reliable oob estimates.\n",
      "  warn(\"Some inputs do not have OOB scores. \"\n",
      "C:\\ProgramData\\Anaconda3\\lib\\site-packages\\sklearn\\ensemble\\_forest.py:545: RuntimeWarning: invalid value encountered in true_divide\n",
      "  predictions[k].sum(axis=1)[:, np.newaxis])\n"
     ]
    },
    {
     "name": "stdout",
     "output_type": "stream",
     "text": [
      "For n_estimators = 10\n",
      "OOB score is 0.9832486040503375\n",
      "************************\n",
      "For n_estimators = 30\n",
      "OOB score is 0.9894991249270773\n",
      "************************\n",
      "For n_estimators = 50\n",
      "OOB score is 0.990082506875573\n",
      "************************\n",
      "For n_estimators = 70\n",
      "OOB score is 0.9905825485457121\n",
      "************************\n",
      "For n_estimators = 90\n",
      "OOB score is 0.9904992082673556\n",
      "************************\n",
      "For n_estimators = 110\n",
      "OOB score is 0.9908325693807817\n",
      "************************\n",
      "For n_estimators = 130\n",
      "OOB score is 0.9908325693807817\n",
      "************************\n"
     ]
    }
   ],
   "source": [
    "# Create multiple ensembles in a range with steps\n",
    "for n_trees in range(10,150,20):\n",
    "    #clf=RandomForestClassifier(n_estimators=w,oob_score=True,n_jobs=-1,random_state=400)\n",
    "    clf=RandomForestClassifier(n_estimators=n_trees, oob_score=True, n_jobs=-1,random_state=400)\n",
    "    clf.fit(X_train,y_train)\n",
    "    oob=clf.oob_score_\n",
    "    print ('For n_estimators = '+str(n_trees))\n",
    "    print ('OOB score is '+str(oob))\n",
    "    print ('************************')"
   ]
  },
  {
   "cell_type": "code",
   "execution_count": 49,
   "metadata": {},
   "outputs": [],
   "source": [
    "#Finalize 70 trees\n",
    "clf=RandomForestClassifier(n_estimators=70,oob_score=True,n_jobs=-1,random_state=400)"
   ]
  },
  {
   "cell_type": "code",
   "execution_count": 50,
   "metadata": {},
   "outputs": [
    {
     "data": {
      "text/plain": [
       "RandomForestClassifier(n_estimators=70, n_jobs=-1, oob_score=True,\n",
       "                       random_state=400)"
      ]
     },
     "execution_count": 50,
     "metadata": {},
     "output_type": "execute_result"
    }
   ],
   "source": [
    "# Fit final model\n",
    "clf.fit(X_train,y_train)"
   ]
  },
  {
   "cell_type": "code",
   "execution_count": 51,
   "metadata": {},
   "outputs": [
    {
     "data": {
      "text/plain": [
       "array([0, 1, 0, ..., 1, 0, 0], dtype=int64)"
      ]
     },
     "execution_count": 51,
     "metadata": {},
     "output_type": "execute_result"
    }
   ],
   "source": [
    "# Predict labels on test data\n",
    "clf.predict(X_test)"
   ]
  },
  {
   "cell_type": "code",
   "execution_count": 52,
   "metadata": {},
   "outputs": [
    {
     "data": {
      "text/plain": [
       "[DecisionTreeClassifier(max_features='auto', random_state=724685148),\n",
       " DecisionTreeClassifier(max_features='auto', random_state=1252593103),\n",
       " DecisionTreeClassifier(max_features='auto', random_state=970656062),\n",
       " DecisionTreeClassifier(max_features='auto', random_state=807842745),\n",
       " DecisionTreeClassifier(max_features='auto', random_state=1543176332),\n",
       " DecisionTreeClassifier(max_features='auto', random_state=1015616499),\n",
       " DecisionTreeClassifier(max_features='auto', random_state=1247232407),\n",
       " DecisionTreeClassifier(max_features='auto', random_state=1454861574),\n",
       " DecisionTreeClassifier(max_features='auto', random_state=636582133),\n",
       " DecisionTreeClassifier(max_features='auto', random_state=1466331272),\n",
       " DecisionTreeClassifier(max_features='auto', random_state=51747435),\n",
       " DecisionTreeClassifier(max_features='auto', random_state=1015100607),\n",
       " DecisionTreeClassifier(max_features='auto', random_state=1186072774),\n",
       " DecisionTreeClassifier(max_features='auto', random_state=1854299675),\n",
       " DecisionTreeClassifier(max_features='auto', random_state=1738328422),\n",
       " DecisionTreeClassifier(max_features='auto', random_state=506718495),\n",
       " DecisionTreeClassifier(max_features='auto', random_state=1528838306),\n",
       " DecisionTreeClassifier(max_features='auto', random_state=1197502977),\n",
       " DecisionTreeClassifier(max_features='auto', random_state=166582439),\n",
       " DecisionTreeClassifier(max_features='auto', random_state=1791015694),\n",
       " DecisionTreeClassifier(max_features='auto', random_state=41616465),\n",
       " DecisionTreeClassifier(max_features='auto', random_state=1058237765),\n",
       " DecisionTreeClassifier(max_features='auto', random_state=1613859506),\n",
       " DecisionTreeClassifier(max_features='auto', random_state=742937111),\n",
       " DecisionTreeClassifier(max_features='auto', random_state=739114773),\n",
       " DecisionTreeClassifier(max_features='auto', random_state=1652905678),\n",
       " DecisionTreeClassifier(max_features='auto', random_state=656166660),\n",
       " DecisionTreeClassifier(max_features='auto', random_state=643529571),\n",
       " DecisionTreeClassifier(max_features='auto', random_state=1821660337),\n",
       " DecisionTreeClassifier(max_features='auto', random_state=2094331250),\n",
       " DecisionTreeClassifier(max_features='auto', random_state=152146830),\n",
       " DecisionTreeClassifier(max_features='auto', random_state=1169459436),\n",
       " DecisionTreeClassifier(max_features='auto', random_state=1488917300),\n",
       " DecisionTreeClassifier(max_features='auto', random_state=1599545137),\n",
       " DecisionTreeClassifier(max_features='auto', random_state=592398531),\n",
       " DecisionTreeClassifier(max_features='auto', random_state=818245065),\n",
       " DecisionTreeClassifier(max_features='auto', random_state=2144797601),\n",
       " DecisionTreeClassifier(max_features='auto', random_state=722521044),\n",
       " DecisionTreeClassifier(max_features='auto', random_state=2016542426),\n",
       " DecisionTreeClassifier(max_features='auto', random_state=614000022),\n",
       " DecisionTreeClassifier(max_features='auto', random_state=668907805),\n",
       " DecisionTreeClassifier(max_features='auto', random_state=1673308413),\n",
       " DecisionTreeClassifier(max_features='auto', random_state=812650347),\n",
       " DecisionTreeClassifier(max_features='auto', random_state=859482604),\n",
       " DecisionTreeClassifier(max_features='auto', random_state=961500076),\n",
       " DecisionTreeClassifier(max_features='auto', random_state=2118357964),\n",
       " DecisionTreeClassifier(max_features='auto', random_state=1849507713),\n",
       " DecisionTreeClassifier(max_features='auto', random_state=6150181),\n",
       " DecisionTreeClassifier(max_features='auto', random_state=822346992),\n",
       " DecisionTreeClassifier(max_features='auto', random_state=993058938),\n",
       " DecisionTreeClassifier(max_features='auto', random_state=1261846643),\n",
       " DecisionTreeClassifier(max_features='auto', random_state=1341479284),\n",
       " DecisionTreeClassifier(max_features='auto', random_state=2004889959),\n",
       " DecisionTreeClassifier(max_features='auto', random_state=91525637),\n",
       " DecisionTreeClassifier(max_features='auto', random_state=439695909),\n",
       " DecisionTreeClassifier(max_features='auto', random_state=2029983652),\n",
       " DecisionTreeClassifier(max_features='auto', random_state=1398351683),\n",
       " DecisionTreeClassifier(max_features='auto', random_state=1156842442),\n",
       " DecisionTreeClassifier(max_features='auto', random_state=599852888),\n",
       " DecisionTreeClassifier(max_features='auto', random_state=88265518),\n",
       " DecisionTreeClassifier(max_features='auto', random_state=1408631616),\n",
       " DecisionTreeClassifier(max_features='auto', random_state=1608726049),\n",
       " DecisionTreeClassifier(max_features='auto', random_state=1902456660),\n",
       " DecisionTreeClassifier(max_features='auto', random_state=930602964),\n",
       " DecisionTreeClassifier(max_features='auto', random_state=1934353205),\n",
       " DecisionTreeClassifier(max_features='auto', random_state=2068968838),\n",
       " DecisionTreeClassifier(max_features='auto', random_state=295625131),\n",
       " DecisionTreeClassifier(max_features='auto', random_state=1055966056),\n",
       " DecisionTreeClassifier(max_features='auto', random_state=86385842),\n",
       " DecisionTreeClassifier(max_features='auto', random_state=869347535)]"
      ]
     },
     "execution_count": 52,
     "metadata": {},
     "output_type": "execute_result"
    }
   ],
   "source": [
    "# 70 tress/ estimators\n",
    "clf.estimators_"
   ]
  },
  {
   "cell_type": "code",
   "execution_count": 53,
   "metadata": {},
   "outputs": [
    {
     "data": {
      "text/plain": [
       "array([0.28883849, 0.12591749, 0.19531167, 0.15847762, 0.1808333 ,\n",
       "       0.01040634, 0.0019799 , 0.0018636 , 0.00170258, 0.0017804 ,\n",
       "       0.00164586, 0.00166899, 0.00137172, 0.00124563, 0.00356287,\n",
       "       0.00308658, 0.00371377, 0.00564443, 0.00746029, 0.00348845])"
      ]
     },
     "execution_count": 53,
     "metadata": {},
     "output_type": "execute_result"
    }
   ],
   "source": [
    "# Getting feature importances (alre)\n",
    "clf.feature_importances_"
   ]
  },
  {
   "cell_type": "code",
   "execution_count": 54,
   "metadata": {},
   "outputs": [],
   "source": [
    "# Appending feature names\n",
    "imp_feat=pd.Series(clf.feature_importances_,index=feature_names.tolist())"
   ]
  },
  {
   "cell_type": "code",
   "execution_count": 55,
   "metadata": {},
   "outputs": [
    {
     "data": {
      "text/plain": [
       "satisfaction_level       0.288838\n",
       "number_project           0.195312\n",
       "time_spend_company       0.180833\n",
       "average_montly_hours     0.158478\n",
       "last_evaluation          0.125917\n",
       "Work_accident            0.010406\n",
       "salary_low               0.007460\n",
       "salary_high              0.005644\n",
       "dept_technical           0.003714\n",
       "dept_sales               0.003563\n",
       "salary_medium            0.003488\n",
       "dept_support             0.003087\n",
       "promotion_last_5years    0.001980\n",
       "dept_IT                  0.001864\n",
       "dept_accounting          0.001780\n",
       "dept_RandD               0.001703\n",
       "dept_management          0.001669\n",
       "dept_hr                  0.001646\n",
       "dept_marketing           0.001372\n",
       "dept_product_mng         0.001246\n",
       "dtype: float64"
      ]
     },
     "execution_count": 55,
     "metadata": {},
     "output_type": "execute_result"
    }
   ],
   "source": [
    "# Sorting by feature importances\n",
    "imp_feat.sort_values(ascending=False)"
   ]
  },
  {
   "cell_type": "code",
   "execution_count": 56,
   "metadata": {},
   "outputs": [
    {
     "data": {
      "text/plain": [
       "<matplotlib.axes._subplots.AxesSubplot at 0x206298bc630>"
      ]
     },
     "execution_count": 56,
     "metadata": {},
     "output_type": "execute_result"
    },
    {
     "data": {
      "image/png": "[encoded data removed]",
      "text/plain": [
       "<Figure size 432x288 with 1 Axes>"
      ]
     },
     "metadata": {
      "needs_background": "light"
     },
     "output_type": "display_data"
    }
   ],
   "source": [
    "# Plotting bar chart of fetaures importances\n",
    "imp_feat.sort_values(ascending=False).plot(kind='bar')"
   ]
  },
  {
   "cell_type": "markdown",
   "metadata": {},
   "source": [
    "#### Note - OOB score (Out of Bag concept in general) is true only when we have bootstrap sampling)\n",
    "#### Thus OOB validation is only applicable for Bagging and Random Forest models.. it cannot be true for other models\n",
    "#### K fold cross validation comes to rescue, which is applicable for all the types of models"
   ]
  },
  {
   "cell_type": "markdown",
   "metadata": {},
   "source": [
    "## ------------------Modeling with K Fold cross validation-----------------"
   ]
  },
  {
   "cell_type": "code",
   "execution_count": null,
   "metadata": {},
   "outputs": [],
   "source": [
    "#### Implementation through Cross validation as against OOB error #####\n",
    "### Find train and validation sets  ####\n",
    "from sklearn.model_selection import KFold"
   ]
  },
  {
   "cell_type": "code",
   "execution_count": null,
   "metadata": {},
   "outputs": [],
   "source": [
    "# Creating 5 folds (samples)\n",
    "kf = KFold(n_splits=5,random_state=42,shuffle=True)"
   ]
  },
  {
   "cell_type": "code",
   "execution_count": null,
   "metadata": {},
   "outputs": [],
   "source": [
    "# Train test split\n",
    "from sklearn.model_selection import train_test_split\n",
    "X_train,X_test,y_train,y_test=train_test_split(X,y,test_size=0.20,random_state=400)"
   ]
  },
  {
   "cell_type": "code",
   "execution_count": null,
   "metadata": {},
   "outputs": [],
   "source": [
    "### Implementation for  100 trees \n",
    "from sklearn import ensemble"
   ]
  },
  {
   "cell_type": "code",
   "execution_count": null,
   "metadata": {},
   "outputs": [],
   "source": [
    "# Getting train and validation indexes\n",
    "# Empty AUC list to collect AUC values of 5 models with 100 estimators\n",
    "AUC =[]\n",
    "\n",
    "# Loop over 5 folds to get train (dev) and test (validation) indexes from X_train and y_train\n",
    "# Create Bagging/ RF/ XGB classifiers, fit them one by one on dev samples (5) and get predictions on 5 validation samples\n",
    "# This will then give 5 AUC values for 5 different models having done with 5 fold cross validation\n",
    "# Average the 5 AUC values and get one AUC for the entore ensemble\n",
    "\n",
    "for dev_index, validation_index in kf.split(X_train):\n",
    "    print(\"TRAIN:\", dev_index, \"TEST:\", validation_index)\n",
    "    X_dev, X_validation = X_train[dev_index], X_train[validation_index]\n",
    "    y_dev, y_validation = y_train[dev_index], y_train[validation_index]\n",
    "    clf=ensemble.BaggingClassifier(n_jobs=-1,n_estimators=100,random_state=400)\n",
    "    clf = clf.fit(X_dev, y_dev)\n",
    "    ### train my model on dev set and obtain some accuracy measure on validation set\n",
    "    preds=clf.predict(X_validation)\n",
    "    probs=clf.predict_proba(X_validation)[:,1]\n",
    "    auc = metrics.roc_auc_score(y_validation,probs)\n",
    "    AUC.append(auc)\n",
    "# Training accuracy\n",
    "print(AUC)\n",
    "print(\"Mean AUC = \",np.array(AUC).mean())"
   ]
  },
  {
   "cell_type": "code",
   "execution_count": null,
   "metadata": {},
   "outputs": [],
   "source": [
    "# How to chose best # of estimators (best value hyperparameter selection)?\n",
    "# Create a function which will take # of trees as input paramenter to run multiple ensemble models with ..\n",
    "# .. 5 fold cross validation each and throw the AUC values\n",
    "\n",
    "def cross_val_fn(n_trees):\n",
    "    AUC =[]\n",
    "    for dev_index, validation_index in kf.split(X_train):\n",
    "        print(\"TRAIN:\", dev_index, \"TEST:\", validation_index)\n",
    "        X_dev, X_validation = X_train[dev_index], X_train[validation_index]\n",
    "        y_dev, y_validation = y_train[dev_index], y_train[validation_index]\n",
    "        clf=ensemble.BaggingClassifier(n_jobs=-1,n_estimators=n_trees,random_state=400)\n",
    "        clf = clf.fit(X_dev, y_dev)\n",
    "        ### train my model on dev set and obtain some accuracy measure on validation set\n",
    "        # preds=clf.predict(X_validation)\n",
    "        probs=clf.predict_proba(X_validation)[:,1]\n",
    "        auc = metrics.roc_auc_score(y_validation,probs)\n",
    "        AUC.append(auc)\n",
    "    print(\"Mean AUC = \",np.array(AUC).mean())\n",
    "    return np.array(AUC).mean()"
   ]
  },
  {
   "cell_type": "code",
   "execution_count": null,
   "metadata": {},
   "outputs": [],
   "source": [
    "# Blank dictionary for AUC for different iterations of n_estimators\n",
    "n_estimator_dict={}\n",
    "\n",
    "# 2 keys # tress and AUC\n",
    "# Value pairs - n_tress and AUC output by the function\n",
    "n_estimator_dict['trees']=[]\n",
    "n_estimator_dict['AUC']=[]\n",
    "\n",
    "# Run many iterations of ensemble models starting from 10 trees till 200 tress with 20 steps frequency.. 10, 30, 50, 70,....190\n",
    "for tree in range(10,200,20):\n",
    "    AUC=cross_val_fn(tree)\n",
    "    n_estimator_dict['trees'].append(tree)\n",
    "    n_estimator_dict['AUC'].append(AUC)"
   ]
  },
  {
   "cell_type": "code",
   "execution_count": null,
   "metadata": {},
   "outputs": [],
   "source": [
    "# Checking the outputs in dictionary\n",
    "n_estimator_dict"
   ]
  },
  {
   "cell_type": "code",
   "execution_count": null,
   "metadata": {},
   "outputs": [],
   "source": [
    "# Iterating through multiple combinations of hyperparameters\n",
    "# Eg\n",
    "trees=[100,120,130]\n",
    "min_samples_split=[2,4,6]"
   ]
  },
  {
   "cell_type": "code",
   "execution_count": null,
   "metadata": {},
   "outputs": [],
   "source": [
    "# Import the library for creating cross product of tress and min sample split\n",
    "import itertools"
   ]
  },
  {
   "cell_type": "code",
   "execution_count": null,
   "metadata": {},
   "outputs": [],
   "source": [
    "# Chek how itertools work\n",
    "for tree,min_samples in itertools.product(trees,min_samples_split):\n",
    "    print(tree,min_samples)"
   ]
  },
  {
   "cell_type": "code",
   "execution_count": null,
   "metadata": {},
   "outputs": [],
   "source": [
    "# Create a function to run multiple ensembles by lopping over cross product of multiple hyperparameters\n",
    "def cross_val_fn(n_trees, min_samples):\n",
    "    AUC =[]\n",
    "    for dev_index, validation_index in kf.split(X_train):\n",
    "        print(\"TRAIN:\", dev_index, \"TEST:\", validation_index)\n",
    "        X_dev, X_validation = X_train[dev_index], X_train[validation_index]\n",
    "        y_dev, y_validation = y_train[dev_index], y_train[validation_index]\n",
    "        clf=ensemble.RandomForestClassifier(n_jobs=-1,n_estimators=n_trees,min_samples_split=min_samples,\n",
    "                                       random_state=400)\n",
    "        clf = clf.fit(X_dev, y_dev)\n",
    "        ### train my model on dev set and obtain some accuracy measure on validation set\n",
    "        # preds=clf.predict(X_validation)\n",
    "        \n",
    "        probs=clf.predict_proba(X_validation)[:,1]\n",
    "        auc = metrics.roc_auc_score(y_validation,probs)\n",
    "        AUC.append(auc)\n",
    "    print(\"Mean AUC = \",np.array(AUC).mean())\n",
    "    return np.array(AUC).mean()"
   ]
  },
  {
   "cell_type": "code",
   "execution_count": null,
   "metadata": {},
   "outputs": [],
   "source": [
    "# Blank dictionary for AUC for different iterations of n_estimators\n",
    "n_estimator_dict={}\n",
    "n_estimator_dict['trees']=[]\n",
    "n_estimator_dict['Min Sample'] =[]\n",
    "n_estimator_dict['AUC']=[]\n",
    "\n",
    "for tree,min_samples in itertools.product(trees,min_samples_split):\n",
    "    AUC=cross_val_fn(tree, min_samples)\n",
    "    n_estimator_dict['trees'].append(tree)\n",
    "    n_estimator_dict['Min Sample'].append(min_samples)\n",
    "    n_estimator_dict['AUC'].append(AUC)"
   ]
  },
  {
   "cell_type": "code",
   "execution_count": null,
   "metadata": {},
   "outputs": [],
   "source": [
    "# Print output in dictionary\n",
    "n_estimator_dict"
   ]
  },
  {
   "cell_type": "code",
   "execution_count": null,
   "metadata": {},
   "outputs": [],
   "source": [
    "# Create dataframe of dictionary\n",
    "pd.DataFrame(n_estimator_dict)"
   ]
  }
 ],
 "metadata": {
  "anaconda-cloud": {},
  "kernelspec": {
   "display_name": "Python 3",
   "language": "python",
   "name": "python3"
  },
  "language_info": {
   "codemirror_mode": {
    "name": "ipython",
    "version": 3
   },
   "file_extension": ".py",
   "mimetype": "text/x-python",
   "name": "python",
   "nbconvert_exporter": "python",
   "pygments_lexer": "ipython3",
   "version": "3.7.3"
  }
 },
 "nbformat": 4,
 "nbformat_minor": 2
}
